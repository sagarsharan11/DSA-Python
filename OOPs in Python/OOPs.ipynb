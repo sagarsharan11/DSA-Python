{
 "cells": [
  {
   "cell_type": "markdown",
   "metadata": {},
   "source": [
    "## Object Oriented Programming"
   ]
  },
  {
   "cell_type": "code",
   "execution_count": 2,
   "metadata": {},
   "outputs": [
    {
     "ename": "AttributeError",
     "evalue": "'list' object has no attribute 'upper'",
     "output_type": "error",
     "traceback": [
      "\u001b[1;31m---------------------------------------------------------------------------\u001b[0m",
      "\u001b[1;31mAttributeError\u001b[0m                            Traceback (most recent call last)",
      "\u001b[1;32m<ipython-input-2-9fa8b0af59ef>\u001b[0m in \u001b[0;36m<module>\u001b[1;34m\u001b[0m\n\u001b[0;32m      1\u001b[0m \u001b[0mL\u001b[0m \u001b[1;33m=\u001b[0m \u001b[1;33m[\u001b[0m\u001b[1;36m1\u001b[0m\u001b[1;33m,\u001b[0m\u001b[1;36m2\u001b[0m\u001b[1;33m,\u001b[0m\u001b[1;36m3\u001b[0m\u001b[1;33m]\u001b[0m\u001b[1;33m\u001b[0m\u001b[1;33m\u001b[0m\u001b[0m\n\u001b[1;32m----> 2\u001b[1;33m \u001b[0mL\u001b[0m\u001b[1;33m.\u001b[0m\u001b[0mupper\u001b[0m\u001b[1;33m(\u001b[0m\u001b[1;33m)\u001b[0m\u001b[1;33m\u001b[0m\u001b[1;33m\u001b[0m\u001b[0m\n\u001b[0m",
      "\u001b[1;31mAttributeError\u001b[0m: 'list' object has no attribute 'upper'"
     ]
    }
   ],
   "source": [
    "L = [1,2,3]\n",
    "L.upper()"
   ]
  },
  {
   "cell_type": "code",
   "execution_count": 4,
   "metadata": {},
   "outputs": [
    {
     "name": "stdout",
     "output_type": "stream",
     "text": [
      "<class 'list'>\n"
     ]
    }
   ],
   "source": [
    "print(type(L))"
   ]
  },
  {
   "cell_type": "markdown",
   "metadata": {},
   "source": [
    "The above error shows that list L is an object of class 'list'.\n",
    "> So in Python Everything is an Object."
   ]
  },
  {
   "cell_type": "markdown",
   "metadata": {},
   "source": [
    "## Class"
   ]
  },
  {
   "cell_type": "code",
   "execution_count": 5,
   "metadata": {},
   "outputs": [],
   "source": [
    "### Class-name is Always written in Pascal Case\n",
    "### eg. HellowWorld, MyAtm, etc...."
   ]
  },
  {
   "cell_type": "code",
   "execution_count": 8,
   "metadata": {},
   "outputs": [],
   "source": [
    "class Atm():\n",
    "\n",
    "    \n",
    "    ### constructor (special function/magic method) -> superpower -> no need to call explicitly | it gets executed when you create a object\n",
    "    def __init__(self):\n",
    "        self.pin = ''\n",
    "        self.balance = int(0)\n",
    "        # print(\"__init__/constructor fn. got executed\")\n",
    "        self.menu()\n",
    "\n",
    "          \n",
    "    def menu(self): \n",
    "        user_input = input(\"\"\"\n",
    "        Hi how can I help you?\n",
    "        1. Press 1 to create pin\n",
    "        2. Press 2 to change pin\n",
    "        3. Press 3 to check balance\n",
    "        4. Press 4 to withdraw\n",
    "        5. Press 0 to exit\n",
    "        \"\"\")\n",
    "        if user_input == '1':\n",
    "            ##create pin\n",
    "            self.create_pin()\n",
    "        elif user_input == '2':\n",
    "            ##change pin\n",
    "            self.change_pin()\n",
    "        elif user_input == '3':\n",
    "            ##check balance\n",
    "            self.check_balance()\n",
    "        elif user_input == '4':\n",
    "            ## withdraw\n",
    "            self.withdraw()\n",
    "        else:\n",
    "            exit()\n",
    "\n",
    "            \n",
    "    def create_pin(self):\n",
    "        user_pin = input(\"Enter your pin\")\n",
    "        self.pin = user_pin\n",
    "        user_balance = int(input('Enter your Balance'))\n",
    "        self.balance = user_balance\n",
    "        print('Pin created succesfully')\n",
    "        self.menu()\n",
    "\n",
    "        \n",
    "    def change_pin(self):\n",
    "        old_pin = input(\"Enter old Pin\")\n",
    "        if old_pin == self.pin:\n",
    "            new_pin = input('Enter new Pin')\n",
    "            self.pin = new_pin\n",
    "            print(\"Pin changed sucessfully\")\n",
    "            self.menu()\n",
    "        else:\n",
    "            print('You have entered wrong Pin')\n",
    "            self.menu()\n",
    "\n",
    "            \n",
    "    def check_balance(self):\n",
    "        user_pin = input(\"Enter your pin\")\n",
    "        if user_pin == self.pin:\n",
    "            print(\"Your balance is:\", self.balance)\n",
    "        else:\n",
    "            print(\"You have entered wrong existing Pin\")\n",
    "            self.menu()\n",
    "\n",
    "            \n",
    "    def withdraw(self):\n",
    "        user_pin = input(\"Enter your pin\")\n",
    "        if user_pin == self.pin:\n",
    "            #### allow to withdraw\n",
    "            amount = int(input(\"Enter the amount to withdraw\"))\n",
    "            if amount <= self.balance:\n",
    "                self.balance = int(self.balance) - amount\n",
    "                print(\"Withdrawl successful\")\n",
    "                print('Remaining balance is: ', self.balance)\n",
    "            else:\n",
    "                print('In-sufficient balance')\n",
    "                self.menu()\n",
    "        else:\n",
    "            print(\"You have entered wrong existing Pin\")\n",
    "            self.menu()\n"
   ]
  },
  {
   "cell_type": "code",
   "execution_count": 7,
   "metadata": {},
   "outputs": [],
   "source": [
    "obj = Atm()"
   ]
  },
  {
   "cell_type": "code",
   "execution_count": 8,
   "metadata": {},
   "outputs": [
    {
     "name": "stdout",
     "output_type": "stream",
     "text": [
      "<class '__main__.Atm'>\n"
     ]
    }
   ],
   "source": [
    "print(type(obj))"
   ]
  },
  {
   "cell_type": "code",
   "execution_count": 10,
   "metadata": {},
   "outputs": [
    {
     "name": "stdout",
     "output_type": "stream",
     "text": [
      "__init__/constructor fn. got executed\n"
     ]
    }
   ],
   "source": [
    "obj2 = Atm()"
   ]
  },
  {
   "cell_type": "code",
   "execution_count": 9,
   "metadata": {},
   "outputs": [
    {
     "name": "stdout",
     "output_type": "stream",
     "text": [
      "Pin created succesfully\n",
      "Withdrawl successful\n",
      "Remaining balance is:  8000\n"
     ]
    }
   ],
   "source": [
    "obj3 = Atm()"
   ]
  },
  {
   "cell_type": "markdown",
   "metadata": {},
   "source": [
    "## Methods vs Functions"
   ]
  },
  {
   "cell_type": "markdown",
   "metadata": {},
   "source": [
    "Difference\n",
    "> * Any function inside the class is called Methods\n",
    "> * Any function outside of the class is called Function"
   ]
  },
  {
   "cell_type": "code",
   "execution_count": 11,
   "metadata": {},
   "outputs": [
    {
     "name": "stdout",
     "output_type": "stream",
     "text": [
      "3\n"
     ]
    }
   ],
   "source": [
    "L = [1,2,3]\n",
    "print(len(L))     #### len() is a function -> bcos its outside the list class\n",
    "L.append(4)       #### append() is a method -> bcos its inside the list class"
   ]
  },
  {
   "cell_type": "markdown",
   "metadata": {},
   "source": [
    "## Magic Methods / Dunder Methods"
   ]
  },
  {
   "cell_type": "markdown",
   "metadata": {},
   "source": [
    "* magic methods are special and has its own way of doing things/superpower\n",
    "* '__ name_of_magic_method __' -> format of magic method\n",
    "* own data-types can be created using magic methods"
   ]
  },
  {
   "cell_type": "code",
   "execution_count": null,
   "metadata": {},
   "outputs": [],
   "source": [
    "### def __init__() --> contructor | magic method\n",
    "### def __str__() --> magic method | so whenever you print the object the function will go to the __str__ dunder method and print the statement for the object\n",
    "### def __add__() -> magic method | gets triggered automatically when you put + between you data types\n"
   ]
  },
  {
   "cell_type": "markdown",
   "metadata": {},
   "source": [
    "### Golden Rule of OOPs: Only **OBJECTS** of a class can access the attributes and methods of a class"
   ]
  },
  {
   "cell_type": "markdown",
   "metadata": {},
   "source": [
    "## self | default parameter of a class"
   ]
  },
  {
   "cell_type": "markdown",
   "metadata": {},
   "source": [
    "Can check_balance method call withdraw method, or the other methods call some other methods ???"
   ]
  },
  {
   "cell_type": "markdown",
   "metadata": {},
   "source": [
    "NO"
   ]
  },
  {
   "cell_type": "markdown",
   "metadata": {},
   "source": [
    "And the solve this particular restriction we use self.\n",
    "to call one method from anothe we use self.method_name"
   ]
  },
  {
   "cell_type": "code",
   "execution_count": 12,
   "metadata": {},
   "outputs": [],
   "source": [
    "class Atm():\n",
    "\n",
    "    \n",
    "    ### constructor (special function/magic method) -> superpower -> no need to call explicitly | it gets executed when you create a object\n",
    "    def __init__(self):\n",
    "        print(id(self))\n",
    "        self.pin = ''\n",
    "        self.balance = int(0)\n",
    "        # print(\"__init__/constructor fn. got executed\")"
   ]
  },
  {
   "cell_type": "code",
   "execution_count": 13,
   "metadata": {},
   "outputs": [
    {
     "name": "stdout",
     "output_type": "stream",
     "text": [
      "2319319259984\n"
     ]
    }
   ],
   "source": [
    "obj4 = Atm()"
   ]
  },
  {
   "cell_type": "code",
   "execution_count": 14,
   "metadata": {},
   "outputs": [
    {
     "data": {
      "text/plain": [
       "2319319259984"
      ]
     },
     "execution_count": 14,
     "metadata": {},
     "output_type": "execute_result"
    }
   ],
   "source": [
    "id(obj4)"
   ]
  },
  {
   "cell_type": "code",
   "execution_count": 1,
   "metadata": {},
   "outputs": [],
   "source": [
    "class Atm():\n",
    "\n",
    "    \n",
    "    ### constructor (special function/magic method) -> superpower -> no need to call explicitly | it gets executed when you create a object\n",
    "    def __init__(self):\n",
    "        self.pin = ''\n",
    "        self.balance = int(0)\n",
    "        # print(\"__init__/constructor fn. got executed\")\n",
    "        # self.menu()\n",
    "        print(id(self))\n",
    "        \n",
    "\n",
    "          \n",
    "    def menu(self): \n",
    "        user_input = input(\"\"\"\n",
    "        Hi how can I help you?\n",
    "        1. Press 1 to create pin\n",
    "        2. Press 2 to change pin\n",
    "        3. Press 3 to check balance\n",
    "        4. Press 4 to withdraw\n",
    "        5. Press 0 to exit\n",
    "        \"\"\")\n",
    "        if user_input == '1':\n",
    "            ##create pin\n",
    "            self.create_pin()\n",
    "        else:\n",
    "            exit()\n",
    "\n",
    "            \n",
    "    def create_pin():\n",
    "        user_pin = input(\"Enter your pin\")\n",
    "        self.pin = user_pin\n",
    "        user_balance = int(input('Enter your Balance'))\n",
    "        self.balance = user_balance\n",
    "        print('Pin created succesfully')\n",
    "        self.menu()"
   ]
  },
  {
   "cell_type": "code",
   "execution_count": 2,
   "metadata": {},
   "outputs": [
    {
     "name": "stdout",
     "output_type": "stream",
     "text": [
      "2394228826368\n"
     ]
    }
   ],
   "source": [
    "obj5 = Atm()"
   ]
  },
  {
   "cell_type": "code",
   "execution_count": 3,
   "metadata": {},
   "outputs": [
    {
     "ename": "TypeError",
     "evalue": "create_pin() takes 0 positional arguments but 1 was given",
     "output_type": "error",
     "traceback": [
      "\u001b[1;31m---------------------------------------------------------------------------\u001b[0m",
      "\u001b[1;31mTypeError\u001b[0m                                 Traceback (most recent call last)",
      "\u001b[1;32m<ipython-input-3-f9bfa8357a9c>\u001b[0m in \u001b[0;36m<module>\u001b[1;34m\u001b[0m\n\u001b[1;32m----> 1\u001b[1;33m \u001b[0mobj5\u001b[0m\u001b[1;33m.\u001b[0m\u001b[0mcreate_pin\u001b[0m\u001b[1;33m(\u001b[0m\u001b[1;33m)\u001b[0m\u001b[1;33m\u001b[0m\u001b[1;33m\u001b[0m\u001b[0m\n\u001b[0m",
      "\u001b[1;31mTypeError\u001b[0m: create_pin() takes 0 positional arguments but 1 was given"
     ]
    }
   ],
   "source": [
    "obj5.create_pin()"
   ]
  },
  {
   "cell_type": "markdown",
   "metadata": {},
   "source": [
    "the object \"obj5\" is by default being given as argument to create_pin method"
   ]
  },
  {
   "cell_type": "markdown",
   "metadata": {},
   "source": [
    "## Creating our owm Data Type: Fraction"
   ]
  },
  {
   "cell_type": "code",
   "execution_count": 4,
   "metadata": {},
   "outputs": [],
   "source": [
    "class Fraction:\n",
    "\n",
    "    ### parameterized constructor -> requires inputs | whereas non-parameterized does not require any input \n",
    "    def __init__(self, x, y):\n",
    "        self.num = x\n",
    "        self.den = y"
   ]
  },
  {
   "cell_type": "code",
   "execution_count": 5,
   "metadata": {},
   "outputs": [
    {
     "ename": "TypeError",
     "evalue": "__init__() missing 2 required positional arguments: 'x' and 'y'",
     "output_type": "error",
     "traceback": [
      "\u001b[1;31m---------------------------------------------------------------------------\u001b[0m",
      "\u001b[1;31mTypeError\u001b[0m                                 Traceback (most recent call last)",
      "\u001b[1;32m<ipython-input-5-125751ce5329>\u001b[0m in \u001b[0;36m<module>\u001b[1;34m\u001b[0m\n\u001b[1;32m----> 1\u001b[1;33m \u001b[0mfr1\u001b[0m \u001b[1;33m=\u001b[0m \u001b[0mFraction\u001b[0m\u001b[1;33m(\u001b[0m\u001b[1;33m)\u001b[0m\u001b[1;33m\u001b[0m\u001b[1;33m\u001b[0m\u001b[0m\n\u001b[0m",
      "\u001b[1;31mTypeError\u001b[0m: __init__() missing 2 required positional arguments: 'x' and 'y'"
     ]
    }
   ],
   "source": [
    "fr1 = Fraction()"
   ]
  },
  {
   "cell_type": "code",
   "execution_count": 6,
   "metadata": {},
   "outputs": [],
   "source": [
    "fr1 = Fraction(1,2)"
   ]
  },
  {
   "cell_type": "code",
   "execution_count": 7,
   "metadata": {},
   "outputs": [
    {
     "name": "stdout",
     "output_type": "stream",
     "text": [
      "<class '__main__.Fraction'>\n"
     ]
    }
   ],
   "source": [
    "print(type(fr1))"
   ]
  },
  {
   "cell_type": "code",
   "execution_count": 8,
   "metadata": {},
   "outputs": [
    {
     "name": "stdout",
     "output_type": "stream",
     "text": [
      "<__main__.Fraction object at 0x0000022D7328A430>\n"
     ]
    }
   ],
   "source": [
    "print(fr1)   #### expected output 1/2"
   ]
  },
  {
   "cell_type": "code",
   "execution_count": 14,
   "metadata": {},
   "outputs": [],
   "source": [
    "class Fraction:\n",
    "\n",
    "    ### parameterized constructor -> requires inputs | whereas non-parameterized does not require any input \n",
    "    def __init__(self, x, y):\n",
    "        self.num = x\n",
    "        self.den = y\n",
    "    \n",
    "    def __str__(self):\n",
    "        # return \"see here........:-)\"\n",
    "        return '{}/{}'.format(self.num, self.den)"
   ]
  },
  {
   "cell_type": "code",
   "execution_count": 18,
   "metadata": {},
   "outputs": [],
   "source": [
    "fr1 = Fraction(3,4)\n",
    "fr2 = Fraction(121,500)"
   ]
  },
  {
   "cell_type": "code",
   "execution_count": 16,
   "metadata": {},
   "outputs": [
    {
     "name": "stdout",
     "output_type": "stream",
     "text": [
      "3/4\n"
     ]
    }
   ],
   "source": [
    "print(fr1)"
   ]
  },
  {
   "cell_type": "code",
   "execution_count": 19,
   "metadata": {},
   "outputs": [
    {
     "name": "stdout",
     "output_type": "stream",
     "text": [
      "121/500\n"
     ]
    }
   ],
   "source": [
    "print(fr2)"
   ]
  },
  {
   "cell_type": "code",
   "execution_count": 20,
   "metadata": {},
   "outputs": [
    {
     "ename": "TypeError",
     "evalue": "unsupported operand type(s) for +: 'Fraction' and 'Fraction'",
     "output_type": "error",
     "traceback": [
      "\u001b[1;31m---------------------------------------------------------------------------\u001b[0m",
      "\u001b[1;31mTypeError\u001b[0m                                 Traceback (most recent call last)",
      "\u001b[1;32m<ipython-input-20-c85f46ea858d>\u001b[0m in \u001b[0;36m<module>\u001b[1;34m\u001b[0m\n\u001b[1;32m----> 1\u001b[1;33m \u001b[0mprint\u001b[0m\u001b[1;33m(\u001b[0m\u001b[0mfr1\u001b[0m \u001b[1;33m+\u001b[0m \u001b[0mfr2\u001b[0m\u001b[1;33m)\u001b[0m\u001b[1;33m\u001b[0m\u001b[1;33m\u001b[0m\u001b[0m\n\u001b[0m",
      "\u001b[1;31mTypeError\u001b[0m: unsupported operand type(s) for +: 'Fraction' and 'Fraction'"
     ]
    }
   ],
   "source": [
    "print(fr1 + fr2)"
   ]
  },
  {
   "cell_type": "code",
   "execution_count": 21,
   "metadata": {},
   "outputs": [
    {
     "ename": "TypeError",
     "evalue": "unsupported operand type(s) for +: 'set' and 'set'",
     "output_type": "error",
     "traceback": [
      "\u001b[1;31m---------------------------------------------------------------------------\u001b[0m",
      "\u001b[1;31mTypeError\u001b[0m                                 Traceback (most recent call last)",
      "\u001b[1;32m<ipython-input-21-25315721851a>\u001b[0m in \u001b[0;36m<module>\u001b[1;34m\u001b[0m\n\u001b[0;32m      1\u001b[0m \u001b[0ms1\u001b[0m \u001b[1;33m=\u001b[0m \u001b[1;33m{\u001b[0m\u001b[1;36m1\u001b[0m\u001b[1;33m,\u001b[0m\u001b[1;36m2\u001b[0m\u001b[1;33m,\u001b[0m\u001b[1;36m3\u001b[0m\u001b[1;33m}\u001b[0m\u001b[1;33m\u001b[0m\u001b[1;33m\u001b[0m\u001b[0m\n\u001b[0;32m      2\u001b[0m \u001b[0ms2\u001b[0m\u001b[1;33m=\u001b[0m \u001b[1;33m{\u001b[0m\u001b[1;36m3\u001b[0m\u001b[1;33m,\u001b[0m\u001b[1;36m4\u001b[0m\u001b[1;33m,\u001b[0m\u001b[1;36m5\u001b[0m\u001b[1;33m}\u001b[0m\u001b[1;33m\u001b[0m\u001b[1;33m\u001b[0m\u001b[0m\n\u001b[1;32m----> 3\u001b[1;33m \u001b[0ms1\u001b[0m \u001b[1;33m+\u001b[0m \u001b[0ms2\u001b[0m\u001b[1;33m\u001b[0m\u001b[1;33m\u001b[0m\u001b[0m\n\u001b[0m",
      "\u001b[1;31mTypeError\u001b[0m: unsupported operand type(s) for +: 'set' and 'set'"
     ]
    }
   ],
   "source": [
    "s1 = {1,2,3}\n",
    "s2= {3,4,5}\n",
    "s1 + s2"
   ]
  },
  {
   "cell_type": "code",
   "execution_count": 39,
   "metadata": {},
   "outputs": [],
   "source": [
    "class Fraction:\n",
    "\n",
    "    ### parameterized constructor -> requires inputs | whereas non-parameterized does not require any input \n",
    "    def __init__(self, x, y):\n",
    "        self.num = x\n",
    "        self.den = y\n",
    "    \n",
    "    def __str__(self):\n",
    "        # return \"see here........:-)\"\n",
    "        return '{}/{}'.format(self.num, self.den)\n",
    "    \n",
    "    def __add__(self, other):\n",
    "        # return \"see here........:-)\"\n",
    "        new_num = self.num*other.den + self.den*other.num\n",
    "        new_den = self.den*other.den\n",
    "        return '{}/{}'.format(new_num, new_den)\n",
    "    \n",
    "    def __sub__(self, other):\n",
    "        # return \"see here........:-)\"\n",
    "        new_num = self.num*other.den - self.den*other.num\n",
    "        new_den = self.den*other.den\n",
    "        return '{}/{}'.format(new_num, new_den)\n",
    "    \n",
    "    def __mul__(self, other):\n",
    "        # return \"see here........:-)\"\n",
    "        new_num = self.num*other.num\n",
    "        new_den = self.den*other.den\n",
    "        return '{}/{}'.format(new_num, new_den)\n",
    "    \n",
    "    def __truediv__(self, other):\n",
    "        # return \"see here........:-)\"\n",
    "        new_num = self.num*other.den\n",
    "        new_den = self.den*other.num\n",
    "        return '{}/{}'.format(new_num, new_den)\n",
    "    \n",
    "    def convert_to_decimal(self):\n",
    "        return self.num/self.den\n"
   ]
  },
  {
   "cell_type": "code",
   "execution_count": 40,
   "metadata": {},
   "outputs": [],
   "source": [
    "fr1 = Fraction(1,2)\n",
    "fr2 = Fraction(3,4)"
   ]
  },
  {
   "cell_type": "code",
   "execution_count": 41,
   "metadata": {},
   "outputs": [
    {
     "name": "stdout",
     "output_type": "stream",
     "text": [
      "10/8\n",
      "-2/8\n",
      "3/8\n",
      "4/6\n"
     ]
    }
   ],
   "source": [
    "print(fr1 + fr2)\n",
    "print(fr1 - fr2)\n",
    "print(fr1*fr2)\n",
    "print(fr1/fr2)"
   ]
  },
  {
   "cell_type": "code",
   "execution_count": 42,
   "metadata": {},
   "outputs": [
    {
     "data": {
      "text/plain": [
       "0.5"
      ]
     },
     "execution_count": 42,
     "metadata": {},
     "output_type": "execute_result"
    }
   ],
   "source": [
    "fr1.convert_to_decimal()"
   ]
  },
  {
   "cell_type": "code",
   "execution_count": null,
   "metadata": {},
   "outputs": [],
   "source": []
  },
  {
   "cell_type": "code",
   "execution_count": 38,
   "metadata": {},
   "outputs": [],
   "source": [
    "class Point:\n",
    "\n",
    "    def __init__(self, x, y):\n",
    "        self.x_cod = x\n",
    "        self.y_cod = y\n",
    "\n",
    "    def __str__(self):\n",
    "        return '<{},{}>'.format(self.x_cod, self.y_cod)\n",
    "\n",
    "    def euclidean_distance(self, other):\n",
    "        return ((self.x_cod - other.x_cod)**2 + (self.y_cod - other.y_cod)**2)**0.5\n",
    "\n",
    "    def distance_from_origin(self):\n",
    "        return self.euclidean_distance(Point(0,0))\n",
    "\n",
    "\n",
    "class Line:\n",
    "\n",
    "    def __init__(self, A,B,C):\n",
    "        self.A = A\n",
    "        self.B = B\n",
    "        self.C = C\n",
    "    \n",
    "    def __str__(self):\n",
    "        return \"{}x + {}y + {} = 0\".format(self.A, self.B, self.C)\n",
    "\n",
    "    def point_on_line(line, point):\n",
    "        if line.A*point.x_cod + line.B*point.y_cod + line.C  == 0:\n",
    "            return \"lies on the line\"\n",
    "        else:\n",
    "            return \"does not lie on line\"\n",
    "\n",
    "    def shortest_distance(line, point):\n",
    "        return abs(line.A*point.x_cod + line.B*point.y_cod + line.C)/(line.A**2 + line.B**2)**0.5"
   ]
  },
  {
   "cell_type": "code",
   "execution_count": 39,
   "metadata": {},
   "outputs": [
    {
     "name": "stdout",
     "output_type": "stream",
     "text": [
      "<0,0>\n",
      "<2,0>\n"
     ]
    }
   ],
   "source": [
    "p1 = Point(0,0)\n",
    "p2 = Point(2,0)\n",
    "print(p1)\n",
    "print(p2)"
   ]
  },
  {
   "cell_type": "code",
   "execution_count": 13,
   "metadata": {},
   "outputs": [
    {
     "data": {
      "text/plain": [
       "2.0"
      ]
     },
     "execution_count": 13,
     "metadata": {},
     "output_type": "execute_result"
    }
   ],
   "source": [
    "p1.euclidean_distance(p2)"
   ]
  },
  {
   "cell_type": "code",
   "execution_count": 14,
   "metadata": {},
   "outputs": [
    {
     "data": {
      "text/plain": [
       "2.0"
      ]
     },
     "execution_count": 14,
     "metadata": {},
     "output_type": "execute_result"
    }
   ],
   "source": [
    "p2.euclidean_distance(p1)"
   ]
  },
  {
   "cell_type": "code",
   "execution_count": 40,
   "metadata": {},
   "outputs": [
    {
     "name": "stdout",
     "output_type": "stream",
     "text": [
      "2x + 1y + 4 = 0\n"
     ]
    }
   ],
   "source": [
    "l1 = Line(2, 1, 4)\n",
    "print(l1)"
   ]
  },
  {
   "cell_type": "code",
   "execution_count": 41,
   "metadata": {},
   "outputs": [
    {
     "name": "stdout",
     "output_type": "stream",
     "text": [
      "<1,-6>\n"
     ]
    }
   ],
   "source": [
    "p3 = Point(1,-6)\n",
    "print(p3)"
   ]
  },
  {
   "cell_type": "code",
   "execution_count": 42,
   "metadata": {},
   "outputs": [
    {
     "data": {
      "text/plain": [
       "'lies on the line'"
      ]
     },
     "execution_count": 42,
     "metadata": {},
     "output_type": "execute_result"
    }
   ],
   "source": [
    "l1.point_on_line(p3)"
   ]
  },
  {
   "cell_type": "code",
   "execution_count": 43,
   "metadata": {},
   "outputs": [
    {
     "name": "stdout",
     "output_type": "stream",
     "text": [
      "<3,4>\n"
     ]
    }
   ],
   "source": [
    "p4 = Point(3,4)\n",
    "print(p4)"
   ]
  },
  {
   "cell_type": "code",
   "execution_count": 44,
   "metadata": {},
   "outputs": [
    {
     "data": {
      "text/plain": [
       "6.260990336999411"
      ]
     },
     "execution_count": 44,
     "metadata": {},
     "output_type": "execute_result"
    }
   ],
   "source": [
    "l1.shortest_distance(p4)"
   ]
  },
  {
   "cell_type": "code",
   "execution_count": null,
   "metadata": {},
   "outputs": [],
   "source": []
  },
  {
   "cell_type": "markdown",
   "metadata": {},
   "source": [
    "## Refernce Variables"
   ]
  },
  {
   "cell_type": "code",
   "execution_count": 51,
   "metadata": {},
   "outputs": [],
   "source": [
    "class Person:\n",
    "\n",
    "    def __init__(self,name_input, country_input):\n",
    "        self.name = name_input\n",
    "        self.country = country_input\n",
    "\n",
    "    def greet(self):\n",
    "        if self.country  == 'India':\n",
    "            print(\"Namaste,\", self.name, \"!\")\n",
    "        else:\n",
    "            print(\"Hello,\", self.name, \"!\")"
   ]
  },
  {
   "cell_type": "code",
   "execution_count": 52,
   "metadata": {},
   "outputs": [],
   "source": [
    "p = Person('Sagar', 'India')"
   ]
  },
  {
   "cell_type": "code",
   "execution_count": 54,
   "metadata": {},
   "outputs": [
    {
     "data": {
      "text/plain": [
       "('Sagar', 'India')"
      ]
     },
     "execution_count": 54,
     "metadata": {},
     "output_type": "execute_result"
    }
   ],
   "source": [
    "p.name, p.country"
   ]
  },
  {
   "cell_type": "code",
   "execution_count": 55,
   "metadata": {},
   "outputs": [
    {
     "name": "stdout",
     "output_type": "stream",
     "text": [
      "Namaste, Sagar !\n"
     ]
    }
   ],
   "source": [
    "p.greet()"
   ]
  },
  {
   "cell_type": "code",
   "execution_count": 56,
   "metadata": {},
   "outputs": [
    {
     "ename": "AttributeError",
     "evalue": "'Person' object has no attribute 'gender'",
     "output_type": "error",
     "traceback": [
      "\u001b[1;31m---------------------------------------------------------------------------\u001b[0m",
      "\u001b[1;31mAttributeError\u001b[0m                            Traceback (most recent call last)",
      "\u001b[1;32m<ipython-input-56-a6f74d1c7954>\u001b[0m in \u001b[0;36m<module>\u001b[1;34m\u001b[0m\n\u001b[1;32m----> 1\u001b[1;33m \u001b[0mp\u001b[0m\u001b[1;33m.\u001b[0m\u001b[0mgender\u001b[0m\u001b[1;33m\u001b[0m\u001b[1;33m\u001b[0m\u001b[0m\n\u001b[0m",
      "\u001b[1;31mAttributeError\u001b[0m: 'Person' object has no attribute 'gender'"
     ]
    }
   ],
   "source": [
    "p.gender"
   ]
  },
  {
   "cell_type": "markdown",
   "metadata": {},
   "source": [
    "since there is no attribute gender in the Person class its throws an error"
   ]
  },
  {
   "cell_type": "code",
   "execution_count": 57,
   "metadata": {},
   "outputs": [],
   "source": [
    "p.gender = 'Male'"
   ]
  },
  {
   "cell_type": "code",
   "execution_count": 58,
   "metadata": {},
   "outputs": [
    {
     "data": {
      "text/plain": [
       "'Male'"
      ]
     },
     "execution_count": 58,
     "metadata": {},
     "output_type": "execute_result"
    }
   ],
   "source": [
    "p.gender"
   ]
  },
  {
   "cell_type": "code",
   "execution_count": 65,
   "metadata": {},
   "outputs": [
    {
     "data": {
      "text/plain": [
       "<__main__.Person at 0x1a003255970>"
      ]
     },
     "execution_count": 65,
     "metadata": {},
     "output_type": "execute_result"
    }
   ],
   "source": [
    "class Person:\n",
    "\n",
    "    def __init__(self):\n",
    "        self.name = 'Sagar'\n",
    "        self.gender = 'Male'\n",
    "\n",
    "# p = Person()   ### p is not the object it just has the address of the object or p is the reference variable\n",
    "Person()"
   ]
  },
  {
   "cell_type": "code",
   "execution_count": 66,
   "metadata": {},
   "outputs": [
    {
     "name": "stdout",
     "output_type": "stream",
     "text": [
      "1786759173504\n",
      "1786759173504\n"
     ]
    }
   ],
   "source": [
    "p = Person()\n",
    "q = p\n",
    "print(id(p))\n",
    "print(id(q))"
   ]
  },
  {
   "cell_type": "code",
   "execution_count": 67,
   "metadata": {},
   "outputs": [
    {
     "name": "stdout",
     "output_type": "stream",
     "text": [
      "Sagar\n",
      "Sagar\n"
     ]
    }
   ],
   "source": [
    "print(p.name)\n",
    "print(q.name)"
   ]
  },
  {
   "cell_type": "code",
   "execution_count": 70,
   "metadata": {},
   "outputs": [
    {
     "name": "stdout",
     "output_type": "stream",
     "text": [
      "Sharan\n",
      "Sharan\n"
     ]
    }
   ],
   "source": [
    "q.name = 'Sharan'\n",
    "print(q.name)\n",
    "print(p.name) "
   ]
  },
  {
   "cell_type": "markdown",
   "metadata": {},
   "source": [
    "Since the variables p&q are pointing to the same address of the object, changes done using any variable will impact the main object also"
   ]
  },
  {
   "cell_type": "markdown",
   "metadata": {},
   "source": [
    "**Be ULTRA CAREFULL while creating refrence variables**"
   ]
  },
  {
   "cell_type": "markdown",
   "metadata": {},
   "source": [
    "##### Pass by reference"
   ]
  },
  {
   "cell_type": "code",
   "execution_count": 73,
   "metadata": {},
   "outputs": [
    {
     "name": "stdout",
     "output_type": "stream",
     "text": [
      "Hi my name is Sagar and I am a Male\n",
      "Sharan\n",
      "Male\n"
     ]
    }
   ],
   "source": [
    "class Person:\n",
    "\n",
    "    def __init__(self, name, gender):\n",
    "        self.name = name\n",
    "        self.gender = gender\n",
    "\n",
    "\n",
    "## outside the class -> function\n",
    "def greet(person):\n",
    "    print(\"Hi my name is {} and I am a {}\".format(person.name, person.gender))\n",
    "    p1 = Person('Sharan', 'Male')\n",
    "    return p1\n",
    "\n",
    "p = Person('Sagar', 'Male')\n",
    "grt = greet(p)\n",
    "print(grt.name)\n",
    "print(grt.gender)"
   ]
  },
  {
   "cell_type": "code",
   "execution_count": null,
   "metadata": {},
   "outputs": [],
   "source": []
  },
  {
   "cell_type": "markdown",
   "metadata": {},
   "source": [
    "# Encapsulation"
   ]
  },
  {
   "cell_type": "code",
   "execution_count": 75,
   "metadata": {},
   "outputs": [],
   "source": [
    "### instance variable --- has different value of different objects\n",
    "class Person:\n",
    "\n",
    "    def __init__(self, name_input, country_input):\n",
    "        self.name = name_input  ### these variables are instance vars\n",
    "        self.country = country_input ### these variables are instance vars\n",
    "\n",
    "p1 = Person('Sagar', 'India')\n",
    "p2 = Person('Sharan', 'USA')\n"
   ]
  },
  {
   "cell_type": "code",
   "execution_count": 77,
   "metadata": {},
   "outputs": [
    {
     "data": {
      "text/plain": [
       "('Sagar', 'Sharan')"
      ]
     },
     "execution_count": 77,
     "metadata": {},
     "output_type": "execute_result"
    }
   ],
   "source": [
    "p1.name, p2.name"
   ]
  },
  {
   "cell_type": "code",
   "execution_count": null,
   "metadata": {},
   "outputs": [],
   "source": []
  },
  {
   "cell_type": "code",
   "execution_count": 27,
   "metadata": {},
   "outputs": [],
   "source": [
    "class Atm():\n",
    "\n",
    "    \n",
    "    ### constructor (special function/magic method) -> superpower -> no need to call explicitly | it gets executed when you create a object\n",
    "    def __init__(self):\n",
    "        self.pin = ''\n",
    "        self.__balance = int(0)\n",
    "        # print(\"__init__/constructor fn. got executed\")\n",
    "        # self.menu()\n",
    "\n",
    "          \n",
    "    def menu(self): \n",
    "        user_input = input(\"\"\"\n",
    "        Hi how can I help you?\n",
    "        1. Press 1 to create pin\n",
    "        2. Press 2 to change pin\n",
    "        3. Press 3 to check balance\n",
    "        4. Press 4 to withdraw\n",
    "        5. Press 0 to exit\n",
    "        \"\"\")\n",
    "        if user_input == '1':\n",
    "            ##create pin\n",
    "            self.create_pin()\n",
    "        elif user_input == '2':\n",
    "            ##change pin\n",
    "            self.change_pin()\n",
    "        elif user_input == '3':\n",
    "            ##check balance\n",
    "            self.check_balance()\n",
    "        elif user_input == '4':\n",
    "            ## withdraw\n",
    "            self.withdraw()\n",
    "        else:\n",
    "            pass\n",
    "\n",
    "            \n",
    "    def create_pin(self):\n",
    "        user_pin = input(\"Enter your pin\")\n",
    "        self.pin = user_pin\n",
    "        user_balance = int(input('Enter your Balance'))\n",
    "        self.__balance = user_balance\n",
    "        print('Pin created succesfully')\n",
    "        self.menu()\n",
    "\n",
    "        \n",
    "    def change_pin(self):\n",
    "        old_pin = input(\"Enter old Pin\")\n",
    "        if old_pin == self.pin:\n",
    "            new_pin = input('Enter new Pin')\n",
    "            self.pin = new_pin\n",
    "            print(\"Pin changed sucessfully\")\n",
    "            self.menu()\n",
    "        else:\n",
    "            print('You have entered wrong Pin')\n",
    "            self.menu()\n",
    "\n",
    "            \n",
    "    def check_balance(self):\n",
    "        user_pin = input(\"Enter your pin\")\n",
    "        if user_pin == self.pin:\n",
    "            print(\"Your balance is:\", self.__balance)\n",
    "        else:\n",
    "            print(\"You have entered wrong existing Pin\")\n",
    "            self.menu()\n",
    "\n",
    "            \n",
    "    def withdraw(self):\n",
    "        user_pin = input(\"Enter your pin\")\n",
    "        if user_pin == self.pin:\n",
    "            #### allow to withdraw\n",
    "            amount = int(input(\"Enter the amount to withdraw\"))\n",
    "            if amount <= self.__balance:\n",
    "                self.__balance = int(self.__balance) - amount\n",
    "                print(\"Withdrawl successful\")\n",
    "                print('Remaining balance is: ', self.__balance)\n",
    "            else:\n",
    "                print('In-sufficient balance')\n",
    "                self.menu()\n",
    "        else:\n",
    "            print(\"You have entered wrong existing Pin\")\n",
    "            self.menu()"
   ]
  },
  {
   "cell_type": "markdown",
   "metadata": {},
   "source": [
    "* By adding __(attribute_name) --> attributes become private, values name cannot be changed from outside\n",
    "* Also if adding __(method_name) --> methods become private in cannot be accessed by the objects"
   ]
  },
  {
   "cell_type": "code",
   "execution_count": 28,
   "metadata": {},
   "outputs": [],
   "source": [
    "obj = Atm()"
   ]
  },
  {
   "cell_type": "code",
   "execution_count": 29,
   "metadata": {},
   "outputs": [
    {
     "name": "stdout",
     "output_type": "stream",
     "text": [
      "Pin created succesfully\n"
     ]
    }
   ],
   "source": [
    "obj.create_pin()\n",
    "obj.__balance = 'hehehe'"
   ]
  },
  {
   "cell_type": "code",
   "execution_count": 30,
   "metadata": {},
   "outputs": [
    {
     "name": "stdout",
     "output_type": "stream",
     "text": [
      "Withdrawl successful\n",
      "Remaining balance is:  800\n"
     ]
    }
   ],
   "source": [
    "obj.withdraw()"
   ]
  },
  {
   "cell_type": "markdown",
   "metadata": {},
   "source": [
    "So, even after changing the private variable value. It does not hamper the code-base because:\n",
    "> * __balance now becomes _Atm__balance and everything related to balance shifted to this\n",
    "> * & __balance will now be treated as new attribute | Just like how we can create new attributes using the object ref"
   ]
  },
  {
   "cell_type": "code",
   "execution_count": 31,
   "metadata": {},
   "outputs": [],
   "source": [
    "obj = Atm()"
   ]
  },
  {
   "cell_type": "code",
   "execution_count": 32,
   "metadata": {},
   "outputs": [
    {
     "name": "stdout",
     "output_type": "stream",
     "text": [
      "Pin created succesfully\n"
     ]
    }
   ],
   "source": [
    "obj.create_pin()\n",
    "obj._Atm__balance = 'hehe'"
   ]
  },
  {
   "cell_type": "code",
   "execution_count": 33,
   "metadata": {},
   "outputs": [
    {
     "ename": "TypeError",
     "evalue": "'<=' not supported between instances of 'int' and 'str'",
     "output_type": "error",
     "traceback": [
      "\u001b[1;31m---------------------------------------------------------------------------\u001b[0m",
      "\u001b[1;31mTypeError\u001b[0m                                 Traceback (most recent call last)",
      "\u001b[1;32m<ipython-input-33-826ea677aa70>\u001b[0m in \u001b[0;36m<module>\u001b[1;34m\u001b[0m\n\u001b[1;32m----> 1\u001b[1;33m \u001b[0mobj\u001b[0m\u001b[1;33m.\u001b[0m\u001b[0mwithdraw\u001b[0m\u001b[1;33m(\u001b[0m\u001b[1;33m)\u001b[0m\u001b[1;33m\u001b[0m\u001b[1;33m\u001b[0m\u001b[0m\n\u001b[0m",
      "\u001b[1;32m<ipython-input-27-549ef4413f8e>\u001b[0m in \u001b[0;36mwithdraw\u001b[1;34m(self)\u001b[0m\n\u001b[0;32m     70\u001b[0m             \u001b[1;31m#### allow to withdraw\u001b[0m\u001b[1;33m\u001b[0m\u001b[1;33m\u001b[0m\u001b[1;33m\u001b[0m\u001b[0m\n\u001b[0;32m     71\u001b[0m             \u001b[0mamount\u001b[0m \u001b[1;33m=\u001b[0m \u001b[0mint\u001b[0m\u001b[1;33m(\u001b[0m\u001b[0minput\u001b[0m\u001b[1;33m(\u001b[0m\u001b[1;34m\"Enter the amount to withdraw\"\u001b[0m\u001b[1;33m)\u001b[0m\u001b[1;33m)\u001b[0m\u001b[1;33m\u001b[0m\u001b[1;33m\u001b[0m\u001b[0m\n\u001b[1;32m---> 72\u001b[1;33m             \u001b[1;32mif\u001b[0m \u001b[0mamount\u001b[0m \u001b[1;33m<=\u001b[0m \u001b[0mself\u001b[0m\u001b[1;33m.\u001b[0m\u001b[0m__balance\u001b[0m\u001b[1;33m:\u001b[0m\u001b[1;33m\u001b[0m\u001b[1;33m\u001b[0m\u001b[0m\n\u001b[0m\u001b[0;32m     73\u001b[0m                 \u001b[0mself\u001b[0m\u001b[1;33m.\u001b[0m\u001b[0m__balance\u001b[0m \u001b[1;33m=\u001b[0m \u001b[0mint\u001b[0m\u001b[1;33m(\u001b[0m\u001b[0mself\u001b[0m\u001b[1;33m.\u001b[0m\u001b[0m__balance\u001b[0m\u001b[1;33m)\u001b[0m \u001b[1;33m-\u001b[0m \u001b[0mamount\u001b[0m\u001b[1;33m\u001b[0m\u001b[1;33m\u001b[0m\u001b[0m\n\u001b[0;32m     74\u001b[0m                 \u001b[0mprint\u001b[0m\u001b[1;33m(\u001b[0m\u001b[1;34m\"Withdrawl successful\"\u001b[0m\u001b[1;33m)\u001b[0m\u001b[1;33m\u001b[0m\u001b[1;33m\u001b[0m\u001b[0m\n",
      "\u001b[1;31mTypeError\u001b[0m: '<=' not supported between instances of 'int' and 'str'"
     ]
    }
   ],
   "source": [
    "obj.withdraw()"
   ]
  },
  {
   "cell_type": "markdown",
   "metadata": {},
   "source": [
    "* In Python nothing is Truly Private\n",
    "* Also if the need be you can change attributes/methods from outside the class even after making them private"
   ]
  },
  {
   "cell_type": "code",
   "execution_count": 55,
   "metadata": {},
   "outputs": [],
   "source": [
    "class Atm():\n",
    "\n",
    "    \n",
    "    ### constructor (special function/magic method) -> superpower -> no need to call explicitly | it gets executed when you create a object\n",
    "    def __init__(self):\n",
    "        self.pin = ''\n",
    "        self.__balance = int(0)\n",
    "        # print(\"__init__/constructor fn. got executed\")\n",
    "        # self.menu()\n",
    "\n",
    "    def get_balance(self):\n",
    "        return self.__balance\n",
    "    \n",
    "    def set_balance(self, new_value):\n",
    "        self._Atm__balance = new_value\n",
    "          \n",
    "    def menu(self): \n",
    "        user_input = input(\"\"\"\n",
    "        Hi how can I help you?\n",
    "        1. Press 1 to create pin\n",
    "        2. Press 2 to change pin\n",
    "        3. Press 3 to check balance\n",
    "        4. Press 4 to withdraw\n",
    "        5. Press 0 to exit\n",
    "        \"\"\")\n",
    "        if user_input == '1':\n",
    "            ##create pin\n",
    "            self.create_pin()\n",
    "        elif user_input == '2':\n",
    "            ##change pin\n",
    "            self.change_pin()\n",
    "        elif user_input == '3':\n",
    "            ##check balance\n",
    "            self.check_balance()\n",
    "        elif user_input == '4':\n",
    "            ## withdraw\n",
    "            self.withdraw()\n",
    "        else:\n",
    "            pass\n",
    "\n",
    "            \n",
    "    def create_pin(self):\n",
    "        user_pin = input(\"Enter your pin\")\n",
    "        self.pin = user_pin\n",
    "        user_balance = int(input('Enter your Balance'))\n",
    "        self.__balance = user_balance\n",
    "        print('Pin created succesfully')\n",
    "        self.menu()\n",
    "\n",
    "        \n",
    "    def change_pin(self):\n",
    "        old_pin = input(\"Enter old Pin\")\n",
    "        if old_pin == self.pin:\n",
    "            new_pin = input('Enter new Pin')\n",
    "            self.pin = new_pin\n",
    "            print(\"Pin changed sucessfully\")\n",
    "            self.menu()\n",
    "        else:\n",
    "            print('You have entered wrong Pin')\n",
    "            self.menu()\n",
    "\n",
    "            \n",
    "    def check_balance(self):\n",
    "        user_pin = input(\"Enter your pin\")\n",
    "        if user_pin == self.pin:\n",
    "            print(\"Your balance is:\", self.__balance)\n",
    "        else:\n",
    "            print(\"You have entered wrong existing Pin\")\n",
    "            self.menu()\n",
    "\n",
    "            \n",
    "    def withdraw(self):\n",
    "        user_pin = input(\"Enter your pin\")\n",
    "        if user_pin == self.pin:\n",
    "            #### allow to withdraw\n",
    "            amount = int(input(\"Enter the amount to withdraw\"))\n",
    "            if amount <= self.__balance:\n",
    "                self.__balance = int(self.__balance) - amount\n",
    "                print(\"Withdrawl successful\")\n",
    "                print('Remaining balance is: ', self.__balance)\n",
    "            else:\n",
    "                print('In-sufficient balance')\n",
    "                self.menu()\n",
    "        else:\n",
    "            print(\"You have entered wrong existing Pin\")\n",
    "            self.menu()"
   ]
  },
  {
   "cell_type": "code",
   "execution_count": 56,
   "metadata": {},
   "outputs": [],
   "source": [
    "obj = Atm()"
   ]
  },
  {
   "cell_type": "code",
   "execution_count": 57,
   "metadata": {},
   "outputs": [
    {
     "data": {
      "text/plain": [
       "0"
      ]
     },
     "execution_count": 57,
     "metadata": {},
     "output_type": "execute_result"
    }
   ],
   "source": [
    "obj.get_balance()"
   ]
  },
  {
   "cell_type": "code",
   "execution_count": 58,
   "metadata": {},
   "outputs": [],
   "source": [
    "obj.set_balance(1000)"
   ]
  },
  {
   "cell_type": "code",
   "execution_count": 59,
   "metadata": {},
   "outputs": [
    {
     "data": {
      "text/plain": [
       "1000"
      ]
     },
     "execution_count": 59,
     "metadata": {},
     "output_type": "execute_result"
    }
   ],
   "source": [
    "obj.get_balance()"
   ]
  },
  {
   "cell_type": "code",
   "execution_count": 64,
   "metadata": {},
   "outputs": [],
   "source": [
    "obj.set_balance('hehehe')"
   ]
  },
  {
   "cell_type": "code",
   "execution_count": 65,
   "metadata": {},
   "outputs": [
    {
     "ename": "TypeError",
     "evalue": "'<=' not supported between instances of 'int' and 'str'",
     "output_type": "error",
     "traceback": [
      "\u001b[1;31m---------------------------------------------------------------------------\u001b[0m",
      "\u001b[1;31mTypeError\u001b[0m                                 Traceback (most recent call last)",
      "\u001b[1;32m<ipython-input-65-826ea677aa70>\u001b[0m in \u001b[0;36m<module>\u001b[1;34m\u001b[0m\n\u001b[1;32m----> 1\u001b[1;33m \u001b[0mobj\u001b[0m\u001b[1;33m.\u001b[0m\u001b[0mwithdraw\u001b[0m\u001b[1;33m(\u001b[0m\u001b[1;33m)\u001b[0m\u001b[1;33m\u001b[0m\u001b[1;33m\u001b[0m\u001b[0m\n\u001b[0m",
      "\u001b[1;32m<ipython-input-55-fd6b2f1227b0>\u001b[0m in \u001b[0;36mwithdraw\u001b[1;34m(self)\u001b[0m\n\u001b[0;32m     75\u001b[0m             \u001b[1;31m#### allow to withdraw\u001b[0m\u001b[1;33m\u001b[0m\u001b[1;33m\u001b[0m\u001b[1;33m\u001b[0m\u001b[0m\n\u001b[0;32m     76\u001b[0m             \u001b[0mamount\u001b[0m \u001b[1;33m=\u001b[0m \u001b[0mint\u001b[0m\u001b[1;33m(\u001b[0m\u001b[0minput\u001b[0m\u001b[1;33m(\u001b[0m\u001b[1;34m\"Enter the amount to withdraw\"\u001b[0m\u001b[1;33m)\u001b[0m\u001b[1;33m)\u001b[0m\u001b[1;33m\u001b[0m\u001b[1;33m\u001b[0m\u001b[0m\n\u001b[1;32m---> 77\u001b[1;33m             \u001b[1;32mif\u001b[0m \u001b[0mamount\u001b[0m \u001b[1;33m<=\u001b[0m \u001b[0mself\u001b[0m\u001b[1;33m.\u001b[0m\u001b[0m__balance\u001b[0m\u001b[1;33m:\u001b[0m\u001b[1;33m\u001b[0m\u001b[1;33m\u001b[0m\u001b[0m\n\u001b[0m\u001b[0;32m     78\u001b[0m                 \u001b[0mself\u001b[0m\u001b[1;33m.\u001b[0m\u001b[0m__balance\u001b[0m \u001b[1;33m=\u001b[0m \u001b[0mint\u001b[0m\u001b[1;33m(\u001b[0m\u001b[0mself\u001b[0m\u001b[1;33m.\u001b[0m\u001b[0m__balance\u001b[0m\u001b[1;33m)\u001b[0m \u001b[1;33m-\u001b[0m \u001b[0mamount\u001b[0m\u001b[1;33m\u001b[0m\u001b[1;33m\u001b[0m\u001b[0m\n\u001b[0;32m     79\u001b[0m                 \u001b[0mprint\u001b[0m\u001b[1;33m(\u001b[0m\u001b[1;34m\"Withdrawl successful\"\u001b[0m\u001b[1;33m)\u001b[0m\u001b[1;33m\u001b[0m\u001b[1;33m\u001b[0m\u001b[0m\n",
      "\u001b[1;31mTypeError\u001b[0m: '<=' not supported between instances of 'int' and 'str'"
     ]
    }
   ],
   "source": [
    "obj.withdraw()"
   ]
  },
  {
   "cell_type": "markdown",
   "metadata": {},
   "source": [
    "### Static Keywords (vs Instance Variables)"
   ]
  },
  {
   "cell_type": "code",
   "execution_count": 66,
   "metadata": {},
   "outputs": [],
   "source": [
    "class Atm():\n",
    "\n",
    "    \n",
    "    ### constructor (special function/magic method) -> superpower -> no need to call explicitly | it gets executed when you create a object\n",
    "    def __init__(self):\n",
    "        self.pin = ''\n",
    "        self.__balance = int(0)\n",
    "        self.cid = 0\n",
    "        self.cid+=1\n",
    "        # print(\"__init__/constructor fn. got executed\")\n",
    "        # self.menu()\n",
    "\n",
    "    def get_balance(self):\n",
    "        return self.__balance\n",
    "    \n",
    "    def set_balance(self, new_value):\n",
    "        self._Atm__balance = new_value\n",
    "          \n",
    "    def menu(self): \n",
    "        user_input = input(\"\"\"\n",
    "        Hi how can I help you?\n",
    "        1. Press 1 to create pin\n",
    "        2. Press 2 to change pin\n",
    "        3. Press 3 to check balance\n",
    "        4. Press 4 to withdraw\n",
    "        5. Press 0 to exit\n",
    "        \"\"\")\n",
    "        if user_input == '1':\n",
    "            ##create pin\n",
    "            self.create_pin()\n",
    "        elif user_input == '2':\n",
    "            ##change pin\n",
    "            self.change_pin()\n",
    "        elif user_input == '3':\n",
    "            ##check balance\n",
    "            self.check_balance()\n",
    "        elif user_input == '4':\n",
    "            ## withdraw\n",
    "            self.withdraw()\n",
    "        else:\n",
    "            pass\n",
    "\n",
    "            \n",
    "    def create_pin(self):\n",
    "        user_pin = input(\"Enter your pin\")\n",
    "        self.pin = user_pin\n",
    "        user_balance = int(input('Enter your Balance'))\n",
    "        self.__balance = user_balance\n",
    "        print('Pin created succesfully')\n",
    "        self.menu()\n",
    "\n",
    "        \n",
    "    def change_pin(self):\n",
    "        old_pin = input(\"Enter old Pin\")\n",
    "        if old_pin == self.pin:\n",
    "            new_pin = input('Enter new Pin')\n",
    "            self.pin = new_pin\n",
    "            print(\"Pin changed sucessfully\")\n",
    "            self.menu()\n",
    "        else:\n",
    "            print('You have entered wrong Pin')\n",
    "            self.menu()\n",
    "\n",
    "            \n",
    "    def check_balance(self):\n",
    "        user_pin = input(\"Enter your pin\")\n",
    "        if user_pin == self.pin:\n",
    "            print(\"Your balance is:\", self.__balance)\n",
    "        else:\n",
    "            print(\"You have entered wrong existing Pin\")\n",
    "            self.menu()\n",
    "\n",
    "            \n",
    "    def withdraw(self):\n",
    "        user_pin = input(\"Enter your pin\")\n",
    "        if user_pin == self.pin:\n",
    "            #### allow to withdraw\n",
    "            amount = int(input(\"Enter the amount to withdraw\"))\n",
    "            if amount <= self.__balance:\n",
    "                self.__balance = int(self.__balance) - amount\n",
    "                print(\"Withdrawl successful\")\n",
    "                print('Remaining balance is: ', self.__balance)\n",
    "            else:\n",
    "                print('In-sufficient balance')\n",
    "                self.menu()\n",
    "        else:\n",
    "            print(\"You have entered wrong existing Pin\")\n",
    "            self.menu()"
   ]
  },
  {
   "cell_type": "code",
   "execution_count": 67,
   "metadata": {},
   "outputs": [],
   "source": [
    "c1 = Atm()\n",
    "c2 = Atm()\n",
    "c3 = Atm()"
   ]
  },
  {
   "cell_type": "code",
   "execution_count": 70,
   "metadata": {},
   "outputs": [
    {
     "data": {
      "text/plain": [
       "(1, 1, 1)"
      ]
     },
     "execution_count": 70,
     "metadata": {},
     "output_type": "execute_result"
    }
   ],
   "source": [
    "c1.cid, c2.cid, c3.cid ### all these are having unique/independent values for cid, beacuse cid is a instance variable that is different for every object\n",
    "#### What we need is to have a fixed cid in such a way that when c1 is created c1.cid=1, c2.cid=2, c3.cid=3"
   ]
  },
  {
   "cell_type": "markdown",
   "metadata": {},
   "source": [
    "* instance variable -- object  | obj_name.var_name = instance var\n",
    "* static variable -- class | class_name.var_name = static var"
   ]
  },
  {
   "cell_type": "code",
   "execution_count": 71,
   "metadata": {},
   "outputs": [],
   "source": [
    "class Atm():\n",
    "\n",
    "    counter = 1\n",
    "\n",
    "    ### constructor (special function/magic method) -> superpower -> no need to call explicitly | it gets executed when you create a object\n",
    "    #### instance variables are defined inside the constructor\n",
    "    def __init__(self):\n",
    "        self.pin = ''\n",
    "        self.__balance = int(0)\n",
    "        self.cid = Atm.counter\n",
    "        Atm.counter = Atm.counter + 1   \n",
    "        # print(\"__init__/constructor fn. got executed\")\n",
    "        # self.menu()\n",
    "\n",
    "    def get_balance(self):\n",
    "        return self.__balance\n",
    "    \n",
    "    def set_balance(self, new_value):\n",
    "        self._Atm__balance = new_value\n",
    "          \n",
    "    def menu(self): \n",
    "        user_input = input(\"\"\"\n",
    "        Hi how can I help you?\n",
    "        1. Press 1 to create pin\n",
    "        2. Press 2 to change pin\n",
    "        3. Press 3 to check balance\n",
    "        4. Press 4 to withdraw\n",
    "        5. Press 0 to exit\n",
    "        \"\"\")\n",
    "        if user_input == '1':\n",
    "            ##create pin\n",
    "            self.create_pin()\n",
    "        elif user_input == '2':\n",
    "            ##change pin\n",
    "            self.change_pin()\n",
    "        elif user_input == '3':\n",
    "            ##check balance\n",
    "            self.check_balance()\n",
    "        elif user_input == '4':\n",
    "            ## withdraw\n",
    "            self.withdraw()\n",
    "        else:\n",
    "            pass\n",
    "\n",
    "            \n",
    "    def create_pin(self):\n",
    "        user_pin = input(\"Enter your pin\")\n",
    "        self.pin = user_pin\n",
    "        user_balance = int(input('Enter your Balance'))\n",
    "        self.__balance = user_balance\n",
    "        print('Pin created succesfully')\n",
    "        self.menu()\n",
    "\n",
    "        \n",
    "    def change_pin(self):\n",
    "        old_pin = input(\"Enter old Pin\")\n",
    "        if old_pin == self.pin:\n",
    "            new_pin = input('Enter new Pin')\n",
    "            self.pin = new_pin\n",
    "            print(\"Pin changed sucessfully\")\n",
    "            self.menu()\n",
    "        else:\n",
    "            print('You have entered wrong Pin')\n",
    "            self.menu()\n",
    "\n",
    "            \n",
    "    def check_balance(self):\n",
    "        user_pin = input(\"Enter your pin\")\n",
    "        if user_pin == self.pin:\n",
    "            print(\"Your balance is:\", self.__balance)\n",
    "        else:\n",
    "            print(\"You have entered wrong existing Pin\")\n",
    "            self.menu()\n",
    "\n",
    "            \n",
    "    def withdraw(self):\n",
    "        user_pin = input(\"Enter your pin\")\n",
    "        if user_pin == self.pin:\n",
    "            #### allow to withdraw\n",
    "            amount = int(input(\"Enter the amount to withdraw\"))\n",
    "            if amount <= self.__balance:\n",
    "                self.__balance = int(self.__balance) - amount\n",
    "                print(\"Withdrawl successful\")\n",
    "                print('Remaining balance is: ', self.__balance)\n",
    "            else:\n",
    "                print('In-sufficient balance')\n",
    "                self.menu()\n",
    "        else:\n",
    "            print(\"You have entered wrong existing Pin\")\n",
    "            self.menu()"
   ]
  },
  {
   "cell_type": "code",
   "execution_count": 72,
   "metadata": {},
   "outputs": [],
   "source": [
    "c1 = Atm()\n",
    "c2 = Atm()\n",
    "c3 = Atm()"
   ]
  },
  {
   "cell_type": "code",
   "execution_count": 73,
   "metadata": {},
   "outputs": [
    {
     "data": {
      "text/plain": [
       "(1, 2, 3)"
      ]
     },
     "execution_count": 73,
     "metadata": {},
     "output_type": "execute_result"
    }
   ],
   "source": [
    "c1.cid, c2.cid, c3.cid"
   ]
  },
  {
   "cell_type": "code",
   "execution_count": 74,
   "metadata": {},
   "outputs": [],
   "source": [
    "Atm.counter = 'hehehe'"
   ]
  },
  {
   "cell_type": "code",
   "execution_count": 76,
   "metadata": {},
   "outputs": [
    {
     "ename": "TypeError",
     "evalue": "can only concatenate str (not \"int\") to str",
     "output_type": "error",
     "traceback": [
      "\u001b[1;31m---------------------------------------------------------------------------\u001b[0m",
      "\u001b[1;31mTypeError\u001b[0m                                 Traceback (most recent call last)",
      "\u001b[1;32m<ipython-input-76-f2eda67ecdc4>\u001b[0m in \u001b[0;36m<module>\u001b[1;34m\u001b[0m\n\u001b[1;32m----> 1\u001b[1;33m \u001b[0mc1\u001b[0m \u001b[1;33m=\u001b[0m \u001b[0mAtm\u001b[0m\u001b[1;33m(\u001b[0m\u001b[1;33m)\u001b[0m\u001b[1;33m\u001b[0m\u001b[1;33m\u001b[0m\u001b[0m\n\u001b[0m",
      "\u001b[1;32m<ipython-input-71-d42cbf189b58>\u001b[0m in \u001b[0;36m__init__\u001b[1;34m(self)\u001b[0m\n\u001b[0;32m      9\u001b[0m         \u001b[0mself\u001b[0m\u001b[1;33m.\u001b[0m\u001b[0m__balance\u001b[0m \u001b[1;33m=\u001b[0m \u001b[0mint\u001b[0m\u001b[1;33m(\u001b[0m\u001b[1;36m0\u001b[0m\u001b[1;33m)\u001b[0m\u001b[1;33m\u001b[0m\u001b[1;33m\u001b[0m\u001b[0m\n\u001b[0;32m     10\u001b[0m         \u001b[0mself\u001b[0m\u001b[1;33m.\u001b[0m\u001b[0mcid\u001b[0m \u001b[1;33m=\u001b[0m \u001b[0mAtm\u001b[0m\u001b[1;33m.\u001b[0m\u001b[0mcounter\u001b[0m\u001b[1;33m\u001b[0m\u001b[1;33m\u001b[0m\u001b[0m\n\u001b[1;32m---> 11\u001b[1;33m         \u001b[0mAtm\u001b[0m\u001b[1;33m.\u001b[0m\u001b[0mcounter\u001b[0m \u001b[1;33m=\u001b[0m \u001b[0mAtm\u001b[0m\u001b[1;33m.\u001b[0m\u001b[0mcounter\u001b[0m \u001b[1;33m+\u001b[0m \u001b[1;36m1\u001b[0m\u001b[1;33m\u001b[0m\u001b[1;33m\u001b[0m\u001b[0m\n\u001b[0m\u001b[0;32m     12\u001b[0m         \u001b[1;31m# print(\"__init__/constructor fn. got executed\")\u001b[0m\u001b[1;33m\u001b[0m\u001b[1;33m\u001b[0m\u001b[1;33m\u001b[0m\u001b[0m\n\u001b[0;32m     13\u001b[0m         \u001b[1;31m# self.menu()\u001b[0m\u001b[1;33m\u001b[0m\u001b[1;33m\u001b[0m\u001b[1;33m\u001b[0m\u001b[0m\n",
      "\u001b[1;31mTypeError\u001b[0m: can only concatenate str (not \"int\") to str"
     ]
    }
   ],
   "source": [
    "c1 = Atm()"
   ]
  },
  {
   "cell_type": "code",
   "execution_count": 83,
   "metadata": {},
   "outputs": [],
   "source": [
    "class Atm():\n",
    "\n",
    "    __counter = 1\n",
    "\n",
    "    ### constructor (special function/magic method) -> superpower -> no need to call explicitly | it gets executed when you create a object\n",
    "    #### instance variables are defined inside the constructor\n",
    "    def __init__(self):\n",
    "        self.pin = ''\n",
    "        self.__balance = int(0)\n",
    "        self.cid = Atm.__counter\n",
    "        Atm.__counter = Atm.__counter + 1   \n",
    "        # print(\"__init__/constructor fn. got executed\")\n",
    "        # self.menu()\n",
    "    \n",
    "    ### to create utility functions\n",
    "    @staticmethod\n",
    "    def get_counter():\n",
    "        return Atm.__counter\n",
    "\n",
    "    def set_counter(self, new_value):\n",
    "        Atm.__counter = new_value\n",
    "\n",
    "    def get_balance(self):\n",
    "        return self.__balance\n",
    "    \n",
    "    def set_balance(self, new_value):\n",
    "        self._Atm__balance = new_value\n",
    "          \n",
    "    def menu(self): \n",
    "        user_input = input(\"\"\"\n",
    "        Hi how can I help you?\n",
    "        1. Press 1 to create pin\n",
    "        2. Press 2 to change pin\n",
    "        3. Press 3 to check balance\n",
    "        4. Press 4 to withdraw\n",
    "        5. Press 0 to exit\n",
    "        \"\"\")\n",
    "        if user_input == '1':\n",
    "            ##create pin\n",
    "            self.create_pin()\n",
    "        elif user_input == '2':\n",
    "            ##change pin\n",
    "            self.change_pin()\n",
    "        elif user_input == '3':\n",
    "            ##check balance\n",
    "            self.check_balance()\n",
    "        elif user_input == '4':\n",
    "            ## withdraw\n",
    "            self.withdraw()\n",
    "        else:\n",
    "            pass\n",
    "\n",
    "            \n",
    "    def create_pin(self):\n",
    "        user_pin = input(\"Enter your pin\")\n",
    "        self.pin = user_pin\n",
    "        user_balance = int(input('Enter your Balance'))\n",
    "        self.__balance = user_balance\n",
    "        print('Pin created succesfully')\n",
    "        self.menu()\n",
    "\n",
    "        \n",
    "    def change_pin(self):\n",
    "        old_pin = input(\"Enter old Pin\")\n",
    "        if old_pin == self.pin:\n",
    "            new_pin = input('Enter new Pin')\n",
    "            self.pin = new_pin\n",
    "            print(\"Pin changed sucessfully\")\n",
    "            self.menu()\n",
    "        else:\n",
    "            print('You have entered wrong Pin')\n",
    "            self.menu()\n",
    "\n",
    "            \n",
    "    def check_balance(self):\n",
    "        user_pin = input(\"Enter your pin\")\n",
    "        if user_pin == self.pin:\n",
    "            print(\"Your balance is:\", self.__balance)\n",
    "        else:\n",
    "            print(\"You have entered wrong existing Pin\")\n",
    "            self.menu()\n",
    "\n",
    "            \n",
    "    def withdraw(self):\n",
    "        user_pin = input(\"Enter your pin\")\n",
    "        if user_pin == self.pin:\n",
    "            #### allow to withdraw\n",
    "            amount = int(input(\"Enter the amount to withdraw\"))\n",
    "            if amount <= self.__balance:\n",
    "                self.__balance = int(self.__balance) - amount\n",
    "                print(\"Withdrawl successful\")\n",
    "                print('Remaining balance is: ', self.__balance)\n",
    "            else:\n",
    "                print('In-sufficient balance')\n",
    "                self.menu()\n",
    "        else:\n",
    "            print(\"You have entered wrong existing Pin\")\n",
    "            self.menu()"
   ]
  },
  {
   "cell_type": "code",
   "execution_count": 84,
   "metadata": {},
   "outputs": [],
   "source": [
    "c1 = Atm()"
   ]
  },
  {
   "cell_type": "code",
   "execution_count": 85,
   "metadata": {},
   "outputs": [
    {
     "data": {
      "text/plain": [
       "2"
      ]
     },
     "execution_count": 85,
     "metadata": {},
     "output_type": "execute_result"
    }
   ],
   "source": [
    "c1.get_counter()"
   ]
  },
  {
   "cell_type": "code",
   "execution_count": null,
   "metadata": {},
   "outputs": [],
   "source": []
  }
 ],
 "metadata": {
  "kernelspec": {
   "display_name": "Python 3.8.8 ('base')",
   "language": "python",
   "name": "python3"
  },
  "language_info": {
   "codemirror_mode": {
    "name": "ipython",
    "version": 3
   },
   "file_extension": ".py",
   "mimetype": "text/x-python",
   "name": "python",
   "nbconvert_exporter": "python",
   "pygments_lexer": "ipython3",
   "version": "3.8.8"
  },
  "orig_nbformat": 4,
  "vscode": {
   "interpreter": {
    "hash": "0d36738efb02b46f2291bc18f32076806b70360f2bce5d987cd2b90be755e1b9"
   }
  }
 },
 "nbformat": 4,
 "nbformat_minor": 2
}
