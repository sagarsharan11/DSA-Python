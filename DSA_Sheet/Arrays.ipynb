{
 "cells": [
  {
   "attachments": {},
   "cell_type": "markdown",
   "metadata": {},
   "source": [
    "# EASY"
   ]
  },
  {
   "attachments": {},
   "cell_type": "markdown",
   "metadata": {},
   "source": [
    "## 1. Two Sum"
   ]
  },
  {
   "attachments": {},
   "cell_type": "markdown",
   "metadata": {},
   "source": [
    "Brute Force Approach"
   ]
  },
  {
   "cell_type": "code",
   "execution_count": 3,
   "metadata": {},
   "outputs": [
    {
     "name": "stdout",
     "output_type": "stream",
     "text": [
      "[0, 1]\n",
      "[1, 2]\n"
     ]
    }
   ],
   "source": [
    "def twoSum(nums, target):\n",
    "    for i in range(len(nums)):\n",
    "        for j in range(i+1, len(nums)):\n",
    "            if nums[i] + nums[j] == target:\n",
    "                return [i,j]\n",
    "\n",
    "nums = [2,7,11,15]\n",
    "target = 9\n",
    "print(twoSum(nums, target))\n",
    "\n",
    "nums = [3,2,4]\n",
    "target = 6\n",
    "print(twoSum(nums, target))"
   ]
  },
  {
   "attachments": {},
   "cell_type": "markdown",
   "metadata": {},
   "source": [
    "Optimized Approach"
   ]
  },
  {
   "cell_type": "code",
   "execution_count": 4,
   "metadata": {},
   "outputs": [
    {
     "name": "stdout",
     "output_type": "stream",
     "text": [
      "[0, 1]\n",
      "[1, 2]\n"
     ]
    }
   ],
   "source": [
    "def twoSum(nums, target):\n",
    "    numToindex = {}\n",
    "    for i in range(len(nums)):\n",
    "        if target - nums[i] in numToindex:\n",
    "            return [numToindex[target-nums[i]],i]\n",
    "        numToindex[nums[i]] = i\n",
    "    return\n",
    "\n",
    "nums = [2,7,11,15]\n",
    "target = 9\n",
    "print(twoSum(nums, target))\n",
    "\n",
    "nums = [3,2,4]\n",
    "target = 6\n",
    "print(twoSum(nums, target))"
   ]
  },
  {
   "attachments": {},
   "cell_type": "markdown",
   "metadata": {},
   "source": [
    "## 121. Best Time to Buy and Sell Stock"
   ]
  },
  {
   "cell_type": "code",
   "execution_count": 9,
   "metadata": {},
   "outputs": [
    {
     "name": "stdout",
     "output_type": "stream",
     "text": [
      "5\n",
      "0\n",
      "0\n"
     ]
    }
   ],
   "source": [
    "# Brute Force Approach\n",
    "\"\"\"\n",
    "1. iterate over prices list\n",
    "2. 2 for loops | i | j -> j1-i, j2-i, j3-i\n",
    "3. maxP\n",
    "\"\"\"\n",
    "\n",
    "\n",
    "def maxProfit(prices):\n",
    "    mp = []\n",
    "    for i in range(1, len(prices)):\n",
    "        for j in range(i+1, len(prices)):\n",
    "            temp = prices[j] - prices[i]\n",
    "            mp.append(temp)\n",
    "    if len(mp) == 0:\n",
    "        return 0\n",
    "    else:\n",
    "        mp = max(mp)\n",
    "        return mp if mp > 0 else 0\n",
    "\n",
    "prices = [7,1,5,3,6,4]\n",
    "print(maxProfit(prices))\n",
    "\n",
    "prices = [7,6,4,3,1]\n",
    "print(maxProfit(prices))\n",
    "\n",
    "prices = [1,2]\n",
    "print(maxProfit(prices))"
   ]
  },
  {
   "cell_type": "code",
   "execution_count": 10,
   "metadata": {},
   "outputs": [
    {
     "name": "stdout",
     "output_type": "stream",
     "text": [
      "5\n",
      "0\n",
      "1\n"
     ]
    }
   ],
   "source": [
    "## Optimized Approach\n",
    "\n",
    "def maxProfit(prices):\n",
    "    left = 0 #Buy\n",
    "    right = 1 #Sell\n",
    "    max_profit = 0\n",
    "    while right < len(prices):\n",
    "        currentProfit = prices[right] - prices[left] #our current Profit\n",
    "        if prices[left] < prices[right]:\n",
    "            max_profit = max(currentProfit,max_profit)\n",
    "        else:\n",
    "            left = right\n",
    "        right += 1\n",
    "    return max_profit\n",
    "\n",
    "prices = [7,1,5,3,6,4]\n",
    "print(maxProfit(prices))\n",
    "\n",
    "prices = [7,6,4,3,1]\n",
    "print(maxProfit(prices))\n",
    "\n",
    "prices = [1,2]\n",
    "print(maxProfit(prices))"
   ]
  },
  {
   "cell_type": "code",
   "execution_count": null,
   "metadata": {},
   "outputs": [],
   "source": []
  },
  {
   "cell_type": "code",
   "execution_count": null,
   "metadata": {},
   "outputs": [],
   "source": []
  },
  {
   "attachments": {},
   "cell_type": "markdown",
   "metadata": {},
   "source": [
    "# MEDIUM"
   ]
  },
  {
   "cell_type": "markdown",
   "metadata": {},
   "source": []
  }
 ],
 "metadata": {
  "kernelspec": {
   "display_name": "base",
   "language": "python",
   "name": "python3"
  },
  "language_info": {
   "codemirror_mode": {
    "name": "ipython",
    "version": 3
   },
   "file_extension": ".py",
   "mimetype": "text/x-python",
   "name": "python",
   "nbconvert_exporter": "python",
   "pygments_lexer": "ipython3",
   "version": "3.10.9"
  },
  "orig_nbformat": 4
 },
 "nbformat": 4,
 "nbformat_minor": 2
}
