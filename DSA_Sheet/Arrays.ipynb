{
 "cells": [
  {
   "attachments": {},
   "cell_type": "markdown",
   "metadata": {},
   "source": [
    "# EASY"
   ]
  },
  {
   "attachments": {},
   "cell_type": "markdown",
   "metadata": {},
   "source": [
    "## 1. Two Sum"
   ]
  },
  {
   "attachments": {},
   "cell_type": "markdown",
   "metadata": {},
   "source": [
    "Brute Force Approach"
   ]
  },
  {
   "cell_type": "code",
   "execution_count": 3,
   "metadata": {},
   "outputs": [
    {
     "name": "stdout",
     "output_type": "stream",
     "text": [
      "[0, 1]\n",
      "[1, 2]\n"
     ]
    }
   ],
   "source": [
    "def twoSum(nums, target):\n",
    "    for i in range(len(nums)):\n",
    "        for j in range(i+1, len(nums)):\n",
    "            if nums[i] + nums[j] == target:\n",
    "                return [i,j]\n",
    "\n",
    "nums = [2,7,11,15]\n",
    "target = 9\n",
    "print(twoSum(nums, target))\n",
    "\n",
    "nums = [3,2,4]\n",
    "target = 6\n",
    "print(twoSum(nums, target))"
   ]
  },
  {
   "attachments": {},
   "cell_type": "markdown",
   "metadata": {},
   "source": [
    "Optimized Approach"
   ]
  },
  {
   "cell_type": "code",
   "execution_count": 4,
   "metadata": {},
   "outputs": [
    {
     "name": "stdout",
     "output_type": "stream",
     "text": [
      "[0, 1]\n",
      "[1, 2]\n"
     ]
    }
   ],
   "source": [
    "def twoSum(nums, target):\n",
    "    numToindex = {}\n",
    "    for i in range(len(nums)):\n",
    "        if target - nums[i] in numToindex:\n",
    "            return [numToindex[target-nums[i]],i]\n",
    "        numToindex[nums[i]] = i\n",
    "    return\n",
    "\n",
    "nums = [2,7,11,15]\n",
    "target = 9\n",
    "print(twoSum(nums, target))\n",
    "\n",
    "nums = [3,2,4]\n",
    "target = 6\n",
    "print(twoSum(nums, target))"
   ]
  },
  {
   "attachments": {},
   "cell_type": "markdown",
   "metadata": {},
   "source": [
    "## 121. Best Time to Buy and Sell Stock"
   ]
  },
  {
   "cell_type": "code",
   "execution_count": 9,
   "metadata": {},
   "outputs": [
    {
     "name": "stdout",
     "output_type": "stream",
     "text": [
      "5\n",
      "0\n",
      "0\n"
     ]
    }
   ],
   "source": [
    "# Brute Force Approach\n",
    "\"\"\"\n",
    "1. iterate over prices list\n",
    "2. 2 for loops | i | j -> j1-i, j2-i, j3-i\n",
    "3. maxP\n",
    "\"\"\"\n",
    "\n",
    "\n",
    "def maxProfit(prices):\n",
    "    mp = []\n",
    "    for i in range(1, len(prices)):\n",
    "        for j in range(i+1, len(prices)):\n",
    "            temp = prices[j] - prices[i]\n",
    "            mp.append(temp)\n",
    "    if len(mp) == 0:\n",
    "        return 0\n",
    "    else:\n",
    "        mp = max(mp)\n",
    "        return mp if mp > 0 else 0\n",
    "\n",
    "prices = [7,1,5,3,6,4]\n",
    "print(maxProfit(prices))\n",
    "\n",
    "prices = [7,6,4,3,1]\n",
    "print(maxProfit(prices))\n",
    "\n",
    "prices = [1,2]\n",
    "print(maxProfit(prices))"
   ]
  },
  {
   "cell_type": "code",
   "execution_count": 10,
   "metadata": {},
   "outputs": [
    {
     "name": "stdout",
     "output_type": "stream",
     "text": [
      "5\n",
      "0\n",
      "1\n"
     ]
    }
   ],
   "source": [
    "## Optimized Approach\n",
    "\n",
    "def maxProfit(prices):\n",
    "    left = 0 #Buy\n",
    "    right = 1 #Sell\n",
    "    max_profit = 0\n",
    "    while right < len(prices):\n",
    "        currentProfit = prices[right] - prices[left] #our current Profit\n",
    "        if prices[left] < prices[right]:\n",
    "            max_profit = max(currentProfit,max_profit)\n",
    "        else:\n",
    "            left = right\n",
    "        right += 1\n",
    "    return max_profit\n",
    "\n",
    "prices = [7,1,5,3,6,4]\n",
    "print(maxProfit(prices))\n",
    "\n",
    "prices = [7,6,4,3,1]\n",
    "print(maxProfit(prices))\n",
    "\n",
    "prices = [1,2]\n",
    "print(maxProfit(prices))"
   ]
  },
  {
   "attachments": {},
   "cell_type": "markdown",
   "metadata": {},
   "source": [
    "## 88. Merge Sorted Array"
   ]
  },
  {
   "cell_type": "code",
   "execution_count": 29,
   "metadata": {},
   "outputs": [
    {
     "name": "stdout",
     "output_type": "stream",
     "text": [
      "[1, 2, 2, 3, 5, 6]\n",
      "[1]\n",
      "[1]\n"
     ]
    }
   ],
   "source": [
    "## Brute Force Approach | O(n)\n",
    "\"\"\"\n",
    "1. num1_2\n",
    "2. iterate over the nums1 and 2 paralley and compare the 2 elements\n",
    "3. keep on add the smallest elements to the num1_2 list\n",
    "4. subset the first m elements from num1_2 followed by 0s in num1, and last n from num1_2 for num2\n",
    "\"\"\"\n",
    "\n",
    "def merge(nums1, m, nums2, n):\n",
    "    nums12 = []\n",
    "    p1 = p2 = 0\n",
    "    num_len = min(m,n)\n",
    "\n",
    "    if num_len == 0:\n",
    "        return nums1 if m != 0 else nums2\n",
    "\n",
    "    if len(nums1) !=0  and len(nums2) != 0:\n",
    "        if nums1[0] < nums2[0]:\n",
    "            nums12.append(nums1[0])\n",
    "            p1 += 1\n",
    "        else:\n",
    "            nums12.append(nums2[0])\n",
    "            p2 += 1\n",
    "    \n",
    "    while (p1 < num_len):\n",
    "        if nums1[p1] < nums2[p2]:\n",
    "            nums12.append(nums1[p1])\n",
    "            p1 += 1\n",
    "        else:\n",
    "            nums12.append(nums2[0])\n",
    "            p2 += 1\n",
    "\n",
    "    if p1 != m-1 and p2 != n-1:\n",
    "        if p1 < p2:\n",
    "            for i in range(p1, m):\n",
    "                nums12.append(nums1[i])\n",
    "        else:\n",
    "            for i in range(p2, n):\n",
    "                nums12.append(nums2[i])\n",
    "\n",
    "    return nums12\n",
    "\n",
    "    \n",
    "\n",
    "nums1 = [1,2,3,0,0,0]\n",
    "m = 3\n",
    "nums2 = [2,5,6]\n",
    "n = 3\n",
    "print(merge(nums1, m, nums2, n))\n",
    "\n",
    "\n",
    "nums1 = [1]\n",
    "m = 1\n",
    "nums2 = []\n",
    "n = 0\n",
    "print(merge(nums1, m, nums2, n))\n",
    "\n",
    "nums1 = [0]\n",
    "m = 0\n",
    "nums2 = [1]\n",
    "n = 1\n",
    "print(merge(nums1, m, nums2, n))"
   ]
  },
  {
   "cell_type": "code",
   "execution_count": 33,
   "metadata": {},
   "outputs": [
    {
     "name": "stdout",
     "output_type": "stream",
     "text": [
      "[1, 2, 2, 3, 5, 6]\n",
      "[1]\n",
      "[1]\n"
     ]
    }
   ],
   "source": [
    "### Optimimzed Approach\n",
    "\n",
    "def merge(nums1, m, nums2, n):\n",
    "    while m > 0 and n > 0:\n",
    "        if nums1[m - 1] > nums2[n - 1]:\n",
    "            nums1[m + n - 1] = nums1[m - 1]\n",
    "            m -= 1\n",
    "        else:\n",
    "            nums1[m + n - 1] = nums2[n - 1]\n",
    "            n -= 1\n",
    "    nums1[:n] = nums2[:n]\n",
    "    return nums1\n",
    "    \n",
    "\n",
    "nums1 = [1,2,3,0,0,0]\n",
    "m = 3\n",
    "nums2 = [2,5,6]\n",
    "n = 3\n",
    "print(merge(nums1, m, nums2, n))\n",
    "\n",
    "nums1 = [1]\n",
    "m = 1\n",
    "nums2 = []\n",
    "n = 0\n",
    "print(merge(nums1, m, nums2, n))\n",
    "\n",
    "nums1 = [0]\n",
    "m = 0\n",
    "nums2 = [1]\n",
    "n = 1\n",
    "print(merge(nums1, m, nums2, n))"
   ]
  },
  {
   "attachments": {},
   "cell_type": "markdown",
   "metadata": {},
   "source": [
    "## 283. Move Zeroes"
   ]
  },
  {
   "cell_type": "code",
   "execution_count": null,
   "metadata": {},
   "outputs": [],
   "source": []
  },
  {
   "attachments": {},
   "cell_type": "markdown",
   "metadata": {},
   "source": [
    "## 1480. Running Sum of 1d Array"
   ]
  },
  {
   "attachments": {},
   "cell_type": "markdown",
   "metadata": {},
   "source": [
    "## 724. Find Pivot Index\n"
   ]
  },
  {
   "cell_type": "markdown",
   "metadata": {},
   "source": []
  },
  {
   "attachments": {},
   "cell_type": "markdown",
   "metadata": {},
   "source": [
    "# MEDIUM"
   ]
  },
  {
   "cell_type": "markdown",
   "metadata": {},
   "source": []
  }
 ],
 "metadata": {
  "kernelspec": {
   "display_name": "base",
   "language": "python",
   "name": "python3"
  },
  "language_info": {
   "codemirror_mode": {
    "name": "ipython",
    "version": 3
   },
   "file_extension": ".py",
   "mimetype": "text/x-python",
   "name": "python",
   "nbconvert_exporter": "python",
   "pygments_lexer": "ipython3",
   "version": "3.10.9"
  },
  "orig_nbformat": 4
 },
 "nbformat": 4,
 "nbformat_minor": 2
}
