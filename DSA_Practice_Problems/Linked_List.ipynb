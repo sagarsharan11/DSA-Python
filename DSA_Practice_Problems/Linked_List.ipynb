{
 "cells": [
  {
   "cell_type": "markdown",
   "metadata": {},
   "source": [
    "Note :-\n",
    "* For a Linked List only a NODE and POINTER/NEXT is required.\n",
    "* A Node consists of data and next/pointer\n",
    "* A Linked List consists of head node"
   ]
  },
  {
   "cell_type": "code",
   "execution_count": 3,
   "metadata": {},
   "outputs": [],
   "source": [
    "## Node Class Node(4,)\n",
    "class Node:\n",
    "    ## Function to initialize the node object or constructor\n",
    "    def __init__(self, data):\n",
    "        self.data = data\n",
    "        self.next = None\n",
    "        \n",
    "## Linked List Class\n",
    "class LinkedList: \n",
    "    ## Function to initalize linked list object or constructor\n",
    "    def __init__(self):\n",
    "        self.head = None\n",
    "        \n",
    "    ### Traversal of Linked List\n",
    "    ## This function prints contents of linked list starting from head\n",
    "\n",
    "    def print_llist(self):\n",
    "        temp = self.head\n",
    "        while(temp):\n",
    "            print(temp.data)\n",
    "            temp = temp.next\n",
    "        \n",
    "### Self is the first argument to be passed in Constructor and Instance Method"
   ]
  },
  {
   "cell_type": "code",
   "execution_count": 4,
   "metadata": {},
   "outputs": [],
   "source": [
    "## defining an empty linked list\n",
    "llist = LinkedList()\n",
    "\n",
    "llist.head = Node(1)\n",
    "second, third = Node(2), Node(3)\n",
    "\n",
    "llist.head.next = second\n",
    "second.next = third"
   ]
  },
  {
   "cell_type": "code",
   "execution_count": 5,
   "metadata": {},
   "outputs": [
    {
     "name": "stdout",
     "output_type": "stream",
     "text": [
      "1\n",
      "2\n",
      "3\n"
     ]
    }
   ],
   "source": [
    "llist.print_llist()"
   ]
  },
  {
   "cell_type": "markdown",
   "metadata": {},
   "source": [
    "## Inserting a Node in Linked List\n",
    "\n",
    "A node can be added in three ways\n",
    " > * At the front of the linked list  \n",
    " > * After a given node\n",
    " > * At the end of the linked list."
   ]
  },
  {
   "cell_type": "markdown",
   "metadata": {},
   "source": [
    "### Add node at the front of Linked List"
   ]
  },
  {
   "cell_type": "code",
   "execution_count": 6,
   "metadata": {},
   "outputs": [],
   "source": [
    "## Node Class\n",
    "class Node:\n",
    "    \n",
    "    ## Function to initialize the node object or constructor\n",
    "    def __init__(self, data):\n",
    "        self.data = data\n",
    "        self.next = None\n",
    "\n",
    "## Linked List Class\n",
    "class LinkedList: \n",
    "    \n",
    "    def __init__(self):\n",
    "        self.head = None\n",
    "        \n",
    "    def print_llist(self):\n",
    "        temp = self.head\n",
    "        while(temp):\n",
    "            print(temp.data)\n",
    "            temp = temp.next\n",
    "            \n",
    "    ### Add node at the front of Linked List\n",
    "    \n",
    "    # Function to insert a new node at the beginning\n",
    "    def push(self, new_data):\n",
    "        new_node = Node(new_data)\n",
    "        new_node.next = self.head   ## Make next of new Node as head\n",
    "\n",
    "        self.head = new_node  ## Move the head to point to new Node"
   ]
  },
  {
   "cell_type": "code",
   "execution_count": 7,
   "metadata": {},
   "outputs": [
    {
     "name": "stdout",
     "output_type": "stream",
     "text": [
      "1\n",
      "2\n",
      "3\n"
     ]
    }
   ],
   "source": [
    "linked_list = LinkedList()\n",
    "\n",
    "linked_list.head = Node(1)\n",
    "second, third = Node(2), Node(3)\n",
    "\n",
    "linked_list.head.next = second\n",
    "second.next = third\n",
    "\n",
    "linked_list.print_llist()"
   ]
  },
  {
   "cell_type": "code",
   "execution_count": 8,
   "metadata": {},
   "outputs": [
    {
     "name": "stdout",
     "output_type": "stream",
     "text": [
      "5\n",
      "1\n",
      "2\n",
      "3\n"
     ]
    }
   ],
   "source": [
    "linked_list.push(5)\n",
    "linked_list.print_llist()"
   ]
  },
  {
   "cell_type": "markdown",
   "metadata": {},
   "source": [
    "### Add a node at the end of a Linked List"
   ]
  },
  {
   "cell_type": "code",
   "execution_count": 10,
   "metadata": {},
   "outputs": [],
   "source": [
    "## Node Class\n",
    "class Node:\n",
    "    \n",
    "    ## Function to initialize the node object or constructor\n",
    "    def __init__(self, data):\n",
    "        self.data = data\n",
    "        self.next = None\n",
    "\n",
    "## Linked List Class\n",
    "class LinkedList: \n",
    "    \n",
    "    def __init__(self):\n",
    "        self.head = None\n",
    "        \n",
    "    def print_llist(self):\n",
    "        temp = self.head\n",
    "        while(temp):\n",
    "            print(temp.data)\n",
    "            temp = temp.next\n",
    "\n",
    "    def append(self, new_data):\n",
    "        new_node = Node(new_data)\n",
    "\n",
    "        # If the Linked List is empty, then make the new node as head\n",
    "        if self.head is None:\n",
    "            self.head = new_node\n",
    "            return\n",
    "\n",
    "        # Else traverse till the last node\n",
    "        temp = self.head\n",
    "        while(temp.next):\n",
    "            temp = temp.next\n",
    "\n",
    "        # Change the next of last node\n",
    "        temp.next =  new_node"
   ]
  },
  {
   "cell_type": "code",
   "execution_count": 11,
   "metadata": {},
   "outputs": [
    {
     "name": "stdout",
     "output_type": "stream",
     "text": [
      "1\n",
      "2\n",
      "3\n"
     ]
    }
   ],
   "source": [
    "linked_list = LinkedList()\n",
    "\n",
    "linked_list.head = Node(1)\n",
    "second, third = Node(2), Node(3)\n",
    "\n",
    "linked_list.head.next = second\n",
    "second.next = third\n",
    "\n",
    "linked_list.print_llist()"
   ]
  },
  {
   "cell_type": "code",
   "execution_count": 12,
   "metadata": {},
   "outputs": [
    {
     "name": "stdout",
     "output_type": "stream",
     "text": [
      "1\n",
      "2\n",
      "3\n",
      "7\n"
     ]
    }
   ],
   "source": [
    "linked_list.append(7)\n",
    "linked_list.print_llist()"
   ]
  },
  {
   "cell_type": "markdown",
   "metadata": {},
   "source": [
    "### Insert after a given node"
   ]
  },
  {
   "cell_type": "code",
   "execution_count": 13,
   "metadata": {},
   "outputs": [],
   "source": [
    "## Node Class\n",
    "class Node:\n",
    "    \n",
    "    ## Function to initialize the node object or constructor\n",
    "    def __init__(self, data):\n",
    "        self.data = data\n",
    "        self.next = None\n",
    "\n",
    "## Linked List Class\n",
    "class LinkedList: \n",
    "    \n",
    "    def __init__(self):\n",
    "        self.head = None\n",
    "        \n",
    "    def print_llist(self):\n",
    "        temp = self.head\n",
    "        while(temp):\n",
    "            print(temp.data)\n",
    "            temp = temp.next  \n",
    "    \n",
    "    def insertAfter(self, prev_node, new_data):\n",
    " \n",
    "        # check if the given prev_node exists\n",
    "        if prev_node is None:\n",
    "            print(\"The given previous node must be in LinkedList.\")\n",
    "            return\n",
    " \n",
    "        new_node = Node(new_data)\n",
    " \n",
    "        # Make next of new Node as next of prev_node\n",
    "        new_node.next = prev_node.next\n",
    " \n",
    "        prev_node.next = new_node"
   ]
  },
  {
   "cell_type": "code",
   "execution_count": 14,
   "metadata": {},
   "outputs": [
    {
     "name": "stdout",
     "output_type": "stream",
     "text": [
      "A\n",
      "B\n",
      "C\n"
     ]
    }
   ],
   "source": [
    "linked_list = LinkedList()\n",
    "\n",
    "linked_list.head = Node(\"A\")\n",
    "second, third = Node(\"B\"), Node(\"C\")\n",
    "\n",
    "linked_list.head.next = second\n",
    "second.next = third\n",
    "\n",
    "linked_list.print_llist()"
   ]
  },
  {
   "cell_type": "code",
   "execution_count": 15,
   "metadata": {},
   "outputs": [
    {
     "name": "stdout",
     "output_type": "stream",
     "text": [
      "The given previous node must be in LinkedList.\n"
     ]
    }
   ],
   "source": [
    "prev_node = None\n",
    "linked_list.insertAfter(prev_node,\"F\")"
   ]
  },
  {
   "cell_type": "code",
   "execution_count": 14,
   "metadata": {},
   "outputs": [
    {
     "name": "stdout",
     "output_type": "stream",
     "text": [
      "A\n",
      "B\n",
      "C\n"
     ]
    }
   ],
   "source": [
    "linked_list.print_llist()"
   ]
  },
  {
   "cell_type": "markdown",
   "metadata": {},
   "source": [
    "## Middle Node"
   ]
  },
  {
   "cell_type": "code",
   "execution_count": 16,
   "metadata": {},
   "outputs": [],
   "source": [
    "## Node Class\n",
    "class Node:\n",
    "    \n",
    "    ## Function to initialize the node object or constructor\n",
    "    def __init__(self, data):\n",
    "        self.data = data\n",
    "        self.next = None\n",
    "\n",
    "## Linked List Class\n",
    "class LinkedList: \n",
    "    \n",
    "    def __init__(self):\n",
    "        self.head = None\n",
    "        \n",
    "    def print_llist(self):\n",
    "        temp = self.head\n",
    "        while(temp):\n",
    "            print(temp.data)\n",
    "            temp = temp.next"
   ]
  },
  {
   "cell_type": "code",
   "execution_count": 17,
   "metadata": {},
   "outputs": [
    {
     "name": "stdout",
     "output_type": "stream",
     "text": [
      "1\n",
      "2\n",
      "3\n"
     ]
    }
   ],
   "source": [
    "linked_list = LinkedList()\n",
    "\n",
    "linked_list.head = Node(1)\n",
    "second, third = Node(2), Node(3)\n",
    "\n",
    "linked_list.head.next = second\n",
    "second.next = third\n",
    "\n",
    "linked_list.print_llist()"
   ]
  },
  {
   "cell_type": "code",
   "execution_count": 30,
   "metadata": {},
   "outputs": [],
   "source": [
    "### Definition for singly-linked list.\n",
    "class ListNode(object):\n",
    "    def __init__(self, val=0, next=None):\n",
    "        self.val = val\n",
    "        self.next = next\n",
    "        \n",
    "## Linked List Class\n",
    "class LinkedList: \n",
    "    \n",
    "    def __init__(self):\n",
    "        self.head = None\n",
    "        \n",
    "    def print_llist(self):\n",
    "        temp = self.head\n",
    "        while(temp):\n",
    "            print(temp.data)\n",
    "            temp = temp.next\n",
    "        \n",
    "    def middleNode(self):\n",
    "        \"\"\"\n",
    "        :type head: ListNode\n",
    "        :rtype: ListNode\n",
    "        \"\"\"\n",
    "        temp = self.head\n",
    "        len=0\n",
    "        if temp.next:\n",
    "            while(temp!=self.head):\n",
    "                len = len+1\n",
    "                temp = temp.next\n",
    "        print(len)\n",
    "        temp = self.head\n",
    "        midIdx = len // 2\n",
    "        while midIdx != 0:\n",
    "            temp = temp.next\n",
    "            midIdx -= 1\n",
    "        return midIdx"
   ]
  },
  {
   "cell_type": "code",
   "execution_count": 31,
   "metadata": {},
   "outputs": [],
   "source": [
    "linked_list = LinkedList()\n",
    "\n",
    "linked_list.head = Node(1)\n",
    "second, third = Node(2), Node(3)\n",
    "\n",
    "linked_list.head.next = second\n",
    "second.next = third"
   ]
  },
  {
   "cell_type": "code",
   "execution_count": 32,
   "metadata": {},
   "outputs": [
    {
     "name": "stdout",
     "output_type": "stream",
     "text": [
      "1\n",
      "2\n",
      "3\n"
     ]
    }
   ],
   "source": [
    "linked_list.print_llist()"
   ]
  },
  {
   "cell_type": "code",
   "execution_count": 33,
   "metadata": {},
   "outputs": [
    {
     "name": "stdout",
     "output_type": "stream",
     "text": [
      "0\n"
     ]
    },
    {
     "data": {
      "text/plain": [
       "0"
      ]
     },
     "execution_count": 33,
     "metadata": {},
     "output_type": "execute_result"
    }
   ],
   "source": [
    "linked_list.middleNode()"
   ]
  },
  {
   "cell_type": "markdown",
   "metadata": {},
   "source": [
    "## Length of Linked List"
   ]
  },
  {
   "cell_type": "code",
   "execution_count": 51,
   "metadata": {},
   "outputs": [],
   "source": [
    "class Node:\n",
    "    def __init__(self, data):\n",
    "        self.data = data\n",
    "        self.next = None\n",
    "\n",
    "class LinkedList:\n",
    "    def __init__(self):\n",
    "        self.head = None\n",
    "\n",
    "    def print_llist(self):\n",
    "        temp = self.head\n",
    "        while(temp):\n",
    "            print(temp.data)\n",
    "            temp = temp.next\n",
    "    \n",
    "    ##### To find the length of Linked List using Iteration\n",
    "    def length(self):\n",
    "        temp = self.head\n",
    "        count=0\n",
    "        while(temp):\n",
    "            count+=1\n",
    "            temp = temp.next\n",
    "        print(count)\n",
    "\n",
    "    ##### To find the length of the Linked List using Recursion\n",
    "    def length_recursion(self):\n",
    "        temp = self.head\n",
    "        if temp == None:\n",
    "            return 0\n",
    "        else:\n",
    "            return 1 + length_recursion(temp.next)        "
   ]
  },
  {
   "cell_type": "code",
   "execution_count": 52,
   "metadata": {},
   "outputs": [],
   "source": [
    "linked_list = LinkedList()\n",
    "\n",
    "linked_list.head = Node(1)\n",
    "second, third = Node(2), Node(3)\n",
    "\n",
    "linked_list.head.next = second\n",
    "second.next = third"
   ]
  },
  {
   "cell_type": "code",
   "execution_count": 53,
   "metadata": {},
   "outputs": [
    {
     "name": "stdout",
     "output_type": "stream",
     "text": [
      "1\n",
      "2\n",
      "3\n"
     ]
    }
   ],
   "source": [
    "linked_list.print_llist()"
   ]
  },
  {
   "cell_type": "code",
   "execution_count": 54,
   "metadata": {},
   "outputs": [
    {
     "name": "stdout",
     "output_type": "stream",
     "text": [
      "3\n"
     ]
    }
   ],
   "source": [
    "linked_list.length()"
   ]
  },
  {
   "cell_type": "code",
   "execution_count": 56,
   "metadata": {},
   "outputs": [
    {
     "ename": "NameError",
     "evalue": "name 'length_recursion' is not defined",
     "output_type": "error",
     "traceback": [
      "\u001b[1;31m---------------------------------------------------------------------------\u001b[0m",
      "\u001b[1;31mNameError\u001b[0m                                 Traceback (most recent call last)",
      "\u001b[1;32m<ipython-input-56-7394e1c6ac8d>\u001b[0m in \u001b[0;36m<module>\u001b[1;34m\u001b[0m\n\u001b[1;32m----> 1\u001b[1;33m \u001b[0mlinked_list\u001b[0m\u001b[1;33m.\u001b[0m\u001b[0mlength_recursion\u001b[0m\u001b[1;33m(\u001b[0m\u001b[1;33m)\u001b[0m\u001b[1;33m\u001b[0m\u001b[1;33m\u001b[0m\u001b[0m\n\u001b[0m",
      "\u001b[1;32m<ipython-input-51-cd2123e077ba>\u001b[0m in \u001b[0;36mlength_recursion\u001b[1;34m(self)\u001b[0m\n\u001b[0;32m     29\u001b[0m             \u001b[1;32mreturn\u001b[0m \u001b[1;36m0\u001b[0m\u001b[1;33m\u001b[0m\u001b[1;33m\u001b[0m\u001b[0m\n\u001b[0;32m     30\u001b[0m         \u001b[1;32melse\u001b[0m\u001b[1;33m:\u001b[0m\u001b[1;33m\u001b[0m\u001b[1;33m\u001b[0m\u001b[0m\n\u001b[1;32m---> 31\u001b[1;33m             \u001b[1;32mreturn\u001b[0m \u001b[1;36m1\u001b[0m \u001b[1;33m+\u001b[0m \u001b[0mlength_recursion\u001b[0m\u001b[1;33m(\u001b[0m\u001b[0mtemp\u001b[0m\u001b[1;33m.\u001b[0m\u001b[0mnext\u001b[0m\u001b[1;33m)\u001b[0m\u001b[1;33m\u001b[0m\u001b[1;33m\u001b[0m\u001b[0m\n\u001b[0m",
      "\u001b[1;31mNameError\u001b[0m: name 'length_recursion' is not defined"
     ]
    }
   ],
   "source": [
    "linked_list.length_recursion()"
   ]
  },
  {
   "cell_type": "code",
   "execution_count": null,
   "metadata": {},
   "outputs": [],
   "source": []
  }
 ],
 "metadata": {
  "kernelspec": {
   "display_name": "Python 3.8.8 ('base')",
   "language": "python",
   "name": "python3"
  },
  "language_info": {
   "codemirror_mode": {
    "name": "ipython",
    "version": 3
   },
   "file_extension": ".py",
   "mimetype": "text/x-python",
   "name": "python",
   "nbconvert_exporter": "python",
   "pygments_lexer": "ipython3",
   "version": "3.8.8"
  },
  "orig_nbformat": 4,
  "vscode": {
   "interpreter": {
    "hash": "0d36738efb02b46f2291bc18f32076806b70360f2bce5d987cd2b90be755e1b9"
   }
  }
 },
 "nbformat": 4,
 "nbformat_minor": 2
}
