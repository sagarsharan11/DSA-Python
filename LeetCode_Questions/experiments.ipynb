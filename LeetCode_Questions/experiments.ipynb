{
 "cells": [
  {
   "cell_type": "code",
   "execution_count": 1,
   "metadata": {},
   "outputs": [],
   "source": [
    "#  ransomNote =\"fffbfg\", magazine =\"effjfggbffjdgbjjhhdegh\""
   ]
  },
  {
   "cell_type": "code",
   "execution_count": 21,
   "metadata": {},
   "outputs": [],
   "source": [
    "magazine =\"effjfggbffjdgbjjhhdegh\"\n",
    "ransomNote =\"fffbfg\""
   ]
  },
  {
   "cell_type": "code",
   "execution_count": 17,
   "metadata": {},
   "outputs": [
    {
     "data": {
      "text/plain": [
       "['j', 'd', 'e', 'f', 'g', 'b', 'h']"
      ]
     },
     "execution_count": 17,
     "metadata": {},
     "output_type": "execute_result"
    }
   ],
   "source": [
    "list(set(magazine))"
   ]
  },
  {
   "cell_type": "code",
   "execution_count": 19,
   "metadata": {},
   "outputs": [
    {
     "data": {
      "text/plain": [
       "7"
      ]
     },
     "execution_count": 19,
     "metadata": {},
     "output_type": "execute_result"
    }
   ],
   "source": [
    "len(list(set(magazine)))"
   ]
  },
  {
   "cell_type": "code",
   "execution_count": 15,
   "metadata": {},
   "outputs": [
    {
     "data": {
      "text/plain": [
       "True"
      ]
     },
     "execution_count": 15,
     "metadata": {},
     "output_type": "execute_result"
    }
   ],
   "source": [
    "'b' in set(magazine)"
   ]
  },
  {
   "cell_type": "code",
   "execution_count": 24,
   "metadata": {},
   "outputs": [],
   "source": [
    "def canConstruct(ransomNote, magazine):\n",
    "    count = 0\n",
    "    for i in range(len(set(ransomNote))):\n",
    "        if list(set(ransomNote))[i] in set(magazine):\n",
    "            count+=1\n",
    "    if count==len(set(ransomNote)):\n",
    "        return True\n",
    "    else:\n",
    "        return False"
   ]
  },
  {
   "cell_type": "code",
   "execution_count": 25,
   "metadata": {},
   "outputs": [
    {
     "name": "stdout",
     "output_type": "stream",
     "text": [
      "True\n"
     ]
    }
   ],
   "source": [
    "ransomNote = \"aa\"\n",
    "magazine = \"ab\"\n",
    "print(canConstruct(ransomNote, magazine))"
   ]
  },
  {
   "cell_type": "code",
   "execution_count": 70,
   "metadata": {},
   "outputs": [],
   "source": [
    "magazine =\"effjfggbffjdgbjjhhdegh\"\n",
    "ransomNote =\"fffbfg\""
   ]
  },
  {
   "cell_type": "code",
   "execution_count": 71,
   "metadata": {},
   "outputs": [],
   "source": [
    "chars = dict()\n",
    "for i in ransomNote:\n",
    "    if i in chars:\n",
    "        chars[i]+=1\n",
    "    else:\n",
    "        chars[i] = 1"
   ]
  },
  {
   "cell_type": "code",
   "execution_count": 72,
   "metadata": {},
   "outputs": [
    {
     "data": {
      "text/plain": [
       "{'f': 4, 'b': 1, 'g': 1}"
      ]
     },
     "execution_count": 72,
     "metadata": {},
     "output_type": "execute_result"
    }
   ],
   "source": [
    "chars"
   ]
  },
  {
   "cell_type": "code",
   "execution_count": 74,
   "metadata": {},
   "outputs": [],
   "source": [
    "ransomNote = \"fihjjjjei\"\n",
    "magazine = \"hjibagacbhadfaefdjaeaebgi\""
   ]
  },
  {
   "cell_type": "code",
   "execution_count": 75,
   "metadata": {},
   "outputs": [
    {
     "name": "stdout",
     "output_type": "stream",
     "text": [
      "True\n",
      "True\n",
      "True\n",
      "False\n",
      "False\n",
      "False\n",
      "False\n",
      "True\n",
      "True\n"
     ]
    }
   ],
   "source": [
    "dict_ransomNote = dict()\n",
    "for i in ransomNote:\n",
    "    if i in dict_ransomNote:\n",
    "        dict_ransomNote[i]+=1\n",
    "    else:\n",
    "        dict_ransomNote[i] = 1\n",
    "dict_magazine = dict()\n",
    "for i in magazine:\n",
    "    if i in dict_magazine:\n",
    "        dict_magazine[i]+=1\n",
    "    else:\n",
    "        dict_magazine[i] = 1\n",
    "checker = []\n",
    "for i in ransomNote:\n",
    "    if i in magazine:\n",
    "        if dict_ransomNote[i] <= dict_magazine[i]:\n",
    "            checker.append(True)\n",
    "        else:\n",
    "            checker.append(False)\n",
    "    else:\n",
    "        checker.append(False)\n",
    "if 'False' in checker:\n",
    "    return "
   ]
  },
  {
   "cell_type": "code",
   "execution_count": 76,
   "metadata": {},
   "outputs": [
    {
     "data": {
      "text/plain": [
       "'hjibagacbhadfaefdjaeaebgi'"
      ]
     },
     "execution_count": 76,
     "metadata": {},
     "output_type": "execute_result"
    }
   ],
   "source": [
    "magazine"
   ]
  },
  {
   "cell_type": "code",
   "execution_count": 79,
   "metadata": {},
   "outputs": [],
   "source": [
    "magazine = magazine.replace('a', '', 1)"
   ]
  },
  {
   "cell_type": "code",
   "execution_count": 80,
   "metadata": {},
   "outputs": [
    {
     "data": {
      "text/plain": [
       "'jibgacbhadfaefdjaeaebgi'"
      ]
     },
     "execution_count": 80,
     "metadata": {},
     "output_type": "execute_result"
    }
   ],
   "source": [
    "magazine"
   ]
  },
  {
   "cell_type": "code",
   "execution_count": 1,
   "metadata": {},
   "outputs": [],
   "source": [
    "s = 'book'"
   ]
  },
  {
   "cell_type": "code",
   "execution_count": 8,
   "metadata": {},
   "outputs": [],
   "source": [
    "a, b = s[:int(len(s)/2)], s[int(len(s)/2):]"
   ]
  },
  {
   "cell_type": "code",
   "execution_count": 7,
   "metadata": {},
   "outputs": [],
   "source": [
    "vowels = ['a', 'e', 'i', 'o', 'u', 'A', 'E', 'I', 'O', 'U']"
   ]
  },
  {
   "cell_type": "code",
   "execution_count": 11,
   "metadata": {},
   "outputs": [
    {
     "data": {
      "text/plain": [
       "True"
      ]
     },
     "execution_count": 11,
     "metadata": {},
     "output_type": "execute_result"
    }
   ],
   "source": [
    "b[0] in vowels"
   ]
  },
  {
   "cell_type": "code",
   "execution_count": 14,
   "metadata": {},
   "outputs": [
    {
     "data": {
      "text/plain": [
       "True"
      ]
     },
     "execution_count": 14,
     "metadata": {},
     "output_type": "execute_result"
    }
   ],
   "source": [
    "set({'c','a', 'b'})==set({'b', 'a', 'c'})"
   ]
  },
  {
   "cell_type": "code",
   "execution_count": 1,
   "metadata": {},
   "outputs": [],
   "source": [
    "word1 = \"cabbba\""
   ]
  },
  {
   "cell_type": "code",
   "execution_count": 2,
   "metadata": {},
   "outputs": [
    {
     "data": {
      "text/plain": [
       "{'a', 'b', 'c'}"
      ]
     },
     "execution_count": 2,
     "metadata": {},
     "output_type": "execute_result"
    }
   ],
   "source": [
    "set(word1)"
   ]
  },
  {
   "cell_type": "code",
   "execution_count": 2,
   "metadata": {},
   "outputs": [
    {
     "name": "stdout",
     "output_type": "stream",
     "text": [
      "True\n"
     ]
    }
   ],
   "source": [
    "# word1 = \"aaabbbbccddeeeeefffff\"\n",
    "# word2 = \"aaaaabbcccdddeeeeffff\"\n",
    "word1 = 'cabbba'\n",
    "word2 = 'abbccc'\n",
    "if len(word1)!=len(word2):\n",
    "        print(False)\n",
    "else:\n",
    "    word1_dict, word2_dict = {}, {}\n",
    "    for i in range(len(word1)):\n",
    "        if word1[i] in word1_dict:\n",
    "            count1 = word1_dict[word1[i]] + 1\n",
    "            word1_dict.update({word1[i]: count1})\n",
    "        elif word1[i]  not in word1_dict:\n",
    "            word1_dict.update({word1[i]: 1})\n",
    "        if word2[i] in word2_dict:\n",
    "            count2 = word2_dict[word2[i]] + 1\n",
    "            word2_dict.update({word2[i]: count2})\n",
    "        elif word2[i] not in word2_dict:\n",
    "            word2_dict.update({word2[i]: 1})\n",
    "    if (set(word1_dict.keys()) == set(word2_dict.keys())) & (sorted(list(word1_dict.values())) == sorted(list(word2_dict.values()))):\n",
    "        print(True)\n",
    "    else:\n",
    "        print(False)"
   ]
  },
  {
   "cell_type": "code",
   "execution_count": 3,
   "metadata": {},
   "outputs": [
    {
     "data": {
      "text/plain": [
       "{'c': 1, 'a': 2, 'b': 3}"
      ]
     },
     "execution_count": 3,
     "metadata": {},
     "output_type": "execute_result"
    }
   ],
   "source": [
    "word1_dict"
   ]
  },
  {
   "cell_type": "code",
   "execution_count": 4,
   "metadata": {},
   "outputs": [
    {
     "data": {
      "text/plain": [
       "{'a': 1, 'b': 2, 'c': 3}"
      ]
     },
     "execution_count": 4,
     "metadata": {},
     "output_type": "execute_result"
    }
   ],
   "source": [
    "word2_dict"
   ]
  },
  {
   "cell_type": "code",
   "execution_count": 80,
   "metadata": {},
   "outputs": [
    {
     "data": {
      "text/plain": [
       "True"
      ]
     },
     "execution_count": 80,
     "metadata": {},
     "output_type": "execute_result"
    }
   ],
   "source": [
    "set(word1_dict.values()) == set(word2_dict.values())"
   ]
  },
  {
   "cell_type": "code",
   "execution_count": 81,
   "metadata": {},
   "outputs": [
    {
     "data": {
      "text/plain": [
       "[1, 2, 3]"
      ]
     },
     "execution_count": 81,
     "metadata": {},
     "output_type": "execute_result"
    }
   ],
   "source": [
    "sorted(list(word1_dict.values()))"
   ]
  },
  {
   "cell_type": "code",
   "execution_count": 82,
   "metadata": {},
   "outputs": [
    {
     "data": {
      "text/plain": [
       "[1, 2, 3]"
      ]
     },
     "execution_count": 82,
     "metadata": {},
     "output_type": "execute_result"
    }
   ],
   "source": [
    "sorted(list(word2_dict.values()))"
   ]
  },
  {
   "cell_type": "code",
   "execution_count": 68,
   "metadata": {},
   "outputs": [
    {
     "data": {
      "text/plain": [
       "False"
      ]
     },
     "execution_count": 68,
     "metadata": {},
     "output_type": "execute_result"
    }
   ],
   "source": [
    "sorted(list(word1_dict.values())) == sorted(list(word2_dict.values()))"
   ]
  },
  {
   "cell_type": "code",
   "execution_count": 9,
   "metadata": {},
   "outputs": [
    {
     "data": {
      "text/plain": [
       "['c', 'b', 'a']"
      ]
     },
     "execution_count": 9,
     "metadata": {},
     "output_type": "execute_result"
    }
   ],
   "source": [
    "sorted(word2_dict)[::-1]"
   ]
  },
  {
   "cell_type": "code",
   "execution_count": 79,
   "metadata": {},
   "outputs": [
    {
     "data": {
      "text/plain": [
       "'bbaA'"
      ]
     },
     "execution_count": 79,
     "metadata": {},
     "output_type": "execute_result"
    }
   ],
   "source": [
    "s='Aabb'\n",
    "s_dict = {}\n",
    "for i in range(len(s)):\n",
    "    if s[i] not in s_dict:\n",
    "        s_dict.update({s[i]:1})\n",
    "    elif s[i] in s_dict:\n",
    "        counter = s_dict[s[i]] + 1\n",
    "        s_dict.update({s[i]:counter})\n",
    "s_list = sorted(s_dict.items(), key=lambda x:x[1])[::-1]\n",
    "s_word = ''\n",
    "for word in s_list:\n",
    "    s_word+=word[0]*s_dict[word[0]]\n",
    "    \n",
    "s_word"
   ]
  },
  {
   "cell_type": "code",
   "execution_count": 77,
   "metadata": {},
   "outputs": [
    {
     "data": {
      "text/plain": [
       "[('b', 2), ('a', 1), ('A', 1)]"
      ]
     },
     "execution_count": 77,
     "metadata": {},
     "output_type": "execute_result"
    }
   ],
   "source": [
    "sorted(s_dict.items(), key=lambda x:x[1])[::-1]"
   ]
  },
  {
   "cell_type": "code",
   "execution_count": 66,
   "metadata": {},
   "outputs": [
    {
     "data": {
      "text/plain": [
       "['e', 'r', 't']"
      ]
     },
     "execution_count": 66,
     "metadata": {},
     "output_type": "execute_result"
    }
   ],
   "source": [
    "sorted(s_dict)"
   ]
  },
  {
   "cell_type": "code",
   "execution_count": null,
   "metadata": {},
   "outputs": [],
   "source": [
    "dict = {1:3,2:5,3:6,4:3,5:7}"
   ]
  },
  {
   "cell_type": "code",
   "execution_count": 1,
   "metadata": {},
   "outputs": [
    {
     "data": {
      "text/plain": [
       "[2, 5, 3, 9, 5, 3]"
      ]
     },
     "execution_count": 1,
     "metadata": {},
     "output_type": "execute_result"
    }
   ],
   "source": [
    "nums = [2,5,3,9,5,3]\n",
    "nums"
   ]
  },
  {
   "cell_type": "code",
   "execution_count": 4,
   "metadata": {},
   "outputs": [],
   "source": [
    "numlen = len(nums)\n",
    "prefixArr = [0]\n",
    "suffixArr = [sum(nums)]\n",
    "\n",
    "for i in range(numlen):\n",
    "    prefix_val = nums[i] + prefixArr[i]\n",
    "    prefixArr.append(prefix_val)\n",
    "\n",
    "    suffix_val = suffixArr[i] - nums[i]\n",
    "    suffixArr.append(suffix_val)\n",
    "\n",
    "idx_dict = {}\n",
    "for i in range(numlen):\n",
    "    left_counter = i+1\n",
    "    right_counter = numlen-i-1\n",
    "    try:\n",
    "        left_val = int(round(prefixArr[i+1]/left_counter,3))\n",
    "    except ZeroDivisionError:\n",
    "        left_val = 0\n",
    "    try:\n",
    "        right_val = int(round(suffixArr[i+1]/right_counter,3))\n",
    "    except ZeroDivisionError:\n",
    "        right_val = 0\n",
    "        \n",
    "    diff = abs(left_val-right_val)\n",
    "    \n",
    "    if diff not in idx_dict:\n",
    "        idx_dict.update({diff:[i]})\n",
    "    elif diff in idx_dict:\n",
    "        val = idx_dict[diff]\n",
    "        val.append(i)\n",
    "        idx_dict.update({diff:val})\n",
    "idx = min(idx_dict[min(idx_dict.keys())])"
   ]
  },
  {
   "cell_type": "code",
   "execution_count": 5,
   "metadata": {},
   "outputs": [
    {
     "data": {
      "text/plain": [
       "{3: [0], 2: [1, 2], 0: [3], 1: [4], 4: [5]}"
      ]
     },
     "execution_count": 5,
     "metadata": {},
     "output_type": "execute_result"
    }
   ],
   "source": [
    "idx_dict"
   ]
  },
  {
   "cell_type": "code",
   "execution_count": 6,
   "metadata": {},
   "outputs": [
    {
     "data": {
      "text/plain": [
       "3"
      ]
     },
     "execution_count": 6,
     "metadata": {},
     "output_type": "execute_result"
    }
   ],
   "source": [
    "idx"
   ]
  },
  {
   "cell_type": "code",
   "execution_count": null,
   "metadata": {},
   "outputs": [],
   "source": []
  }
 ],
 "metadata": {
  "kernelspec": {
   "display_name": "Python 3.8.8 ('base')",
   "language": "python",
   "name": "python3"
  },
  "language_info": {
   "codemirror_mode": {
    "name": "ipython",
    "version": 3
   },
   "file_extension": ".py",
   "mimetype": "text/x-python",
   "name": "python",
   "nbconvert_exporter": "python",
   "pygments_lexer": "ipython3",
   "version": "3.8.8"
  },
  "orig_nbformat": 4,
  "vscode": {
   "interpreter": {
    "hash": "0d36738efb02b46f2291bc18f32076806b70360f2bce5d987cd2b90be755e1b9"
   }
  }
 },
 "nbformat": 4,
 "nbformat_minor": 2
}
