{
 "cells": [
  {
   "cell_type": "code",
   "execution_count": 1,
   "metadata": {},
   "outputs": [],
   "source": [
    "#  ransomNote =\"fffbfg\", magazine =\"effjfggbffjdgbjjhhdegh\""
   ]
  },
  {
   "cell_type": "code",
   "execution_count": 21,
   "metadata": {},
   "outputs": [],
   "source": [
    "magazine =\"effjfggbffjdgbjjhhdegh\"\n",
    "ransomNote =\"fffbfg\""
   ]
  },
  {
   "cell_type": "code",
   "execution_count": 17,
   "metadata": {},
   "outputs": [
    {
     "data": {
      "text/plain": [
       "['j', 'd', 'e', 'f', 'g', 'b', 'h']"
      ]
     },
     "execution_count": 17,
     "metadata": {},
     "output_type": "execute_result"
    }
   ],
   "source": [
    "list(set(magazine))"
   ]
  },
  {
   "cell_type": "code",
   "execution_count": 19,
   "metadata": {},
   "outputs": [
    {
     "data": {
      "text/plain": [
       "7"
      ]
     },
     "execution_count": 19,
     "metadata": {},
     "output_type": "execute_result"
    }
   ],
   "source": [
    "len(list(set(magazine)))"
   ]
  },
  {
   "cell_type": "code",
   "execution_count": 15,
   "metadata": {},
   "outputs": [
    {
     "data": {
      "text/plain": [
       "True"
      ]
     },
     "execution_count": 15,
     "metadata": {},
     "output_type": "execute_result"
    }
   ],
   "source": [
    "'b' in set(magazine)"
   ]
  },
  {
   "cell_type": "code",
   "execution_count": 24,
   "metadata": {},
   "outputs": [],
   "source": [
    "def canConstruct(ransomNote, magazine):\n",
    "    count = 0\n",
    "    for i in range(len(set(ransomNote))):\n",
    "        if list(set(ransomNote))[i] in set(magazine):\n",
    "            count+=1\n",
    "    if count==len(set(ransomNote)):\n",
    "        return True\n",
    "    else:\n",
    "        return False"
   ]
  },
  {
   "cell_type": "code",
   "execution_count": 25,
   "metadata": {},
   "outputs": [
    {
     "name": "stdout",
     "output_type": "stream",
     "text": [
      "True\n"
     ]
    }
   ],
   "source": [
    "ransomNote = \"aa\"\n",
    "magazine = \"ab\"\n",
    "print(canConstruct(ransomNote, magazine))"
   ]
  },
  {
   "cell_type": "code",
   "execution_count": 70,
   "metadata": {},
   "outputs": [],
   "source": [
    "magazine =\"effjfggbffjdgbjjhhdegh\"\n",
    "ransomNote =\"fffbfg\""
   ]
  },
  {
   "cell_type": "code",
   "execution_count": 71,
   "metadata": {},
   "outputs": [],
   "source": [
    "chars = dict()\n",
    "for i in ransomNote:\n",
    "    if i in chars:\n",
    "        chars[i]+=1\n",
    "    else:\n",
    "        chars[i] = 1"
   ]
  },
  {
   "cell_type": "code",
   "execution_count": 72,
   "metadata": {},
   "outputs": [
    {
     "data": {
      "text/plain": [
       "{'f': 4, 'b': 1, 'g': 1}"
      ]
     },
     "execution_count": 72,
     "metadata": {},
     "output_type": "execute_result"
    }
   ],
   "source": [
    "chars"
   ]
  },
  {
   "cell_type": "code",
   "execution_count": 74,
   "metadata": {},
   "outputs": [],
   "source": [
    "ransomNote = \"fihjjjjei\"\n",
    "magazine = \"hjibagacbhadfaefdjaeaebgi\""
   ]
  },
  {
   "cell_type": "code",
   "execution_count": 75,
   "metadata": {},
   "outputs": [
    {
     "name": "stdout",
     "output_type": "stream",
     "text": [
      "True\n",
      "True\n",
      "True\n",
      "False\n",
      "False\n",
      "False\n",
      "False\n",
      "True\n",
      "True\n"
     ]
    }
   ],
   "source": [
    "dict_ransomNote = dict()\n",
    "for i in ransomNote:\n",
    "    if i in dict_ransomNote:\n",
    "        dict_ransomNote[i]+=1\n",
    "    else:\n",
    "        dict_ransomNote[i] = 1\n",
    "dict_magazine = dict()\n",
    "for i in magazine:\n",
    "    if i in dict_magazine:\n",
    "        dict_magazine[i]+=1\n",
    "    else:\n",
    "        dict_magazine[i] = 1\n",
    "checker = []\n",
    "for i in ransomNote:\n",
    "    if i in magazine:\n",
    "        if dict_ransomNote[i] <= dict_magazine[i]:\n",
    "            checker.append(True)\n",
    "        else:\n",
    "            checker.append(False)\n",
    "    else:\n",
    "        checker.append(False)\n",
    "if 'False' in checker:\n",
    "    return "
   ]
  },
  {
   "cell_type": "code",
   "execution_count": 76,
   "metadata": {},
   "outputs": [
    {
     "data": {
      "text/plain": [
       "'hjibagacbhadfaefdjaeaebgi'"
      ]
     },
     "execution_count": 76,
     "metadata": {},
     "output_type": "execute_result"
    }
   ],
   "source": [
    "magazine"
   ]
  },
  {
   "cell_type": "code",
   "execution_count": 79,
   "metadata": {},
   "outputs": [],
   "source": [
    "magazine = magazine.replace('a', '', 1)"
   ]
  },
  {
   "cell_type": "code",
   "execution_count": 80,
   "metadata": {},
   "outputs": [
    {
     "data": {
      "text/plain": [
       "'jibgacbhadfaefdjaeaebgi'"
      ]
     },
     "execution_count": 80,
     "metadata": {},
     "output_type": "execute_result"
    }
   ],
   "source": [
    "magazine"
   ]
  },
  {
   "cell_type": "code",
   "execution_count": null,
   "metadata": {},
   "outputs": [],
   "source": []
  }
 ],
 "metadata": {
  "kernelspec": {
   "display_name": "Python 3.8.8 ('base')",
   "language": "python",
   "name": "python3"
  },
  "language_info": {
   "codemirror_mode": {
    "name": "ipython",
    "version": 3
   },
   "file_extension": ".py",
   "mimetype": "text/x-python",
   "name": "python",
   "nbconvert_exporter": "python",
   "pygments_lexer": "ipython3",
   "version": "3.8.8"
  },
  "orig_nbformat": 4,
  "vscode": {
   "interpreter": {
    "hash": "0d36738efb02b46f2291bc18f32076806b70360f2bce5d987cd2b90be755e1b9"
   }
  }
 },
 "nbformat": 4,
 "nbformat_minor": 2
}
