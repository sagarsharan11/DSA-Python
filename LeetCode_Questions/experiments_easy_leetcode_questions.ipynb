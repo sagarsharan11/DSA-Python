{
 "cells": [
  {
   "attachments": {},
   "cell_type": "markdown",
   "metadata": {},
   "source": [
    "LeetCode: 290. Word Pattern"
   ]
  },
  {
   "cell_type": "code",
   "execution_count": 30,
   "metadata": {},
   "outputs": [],
   "source": [
    "def wordPattern(s, pattern):\n",
    "    s = s.split(' ')\n",
    "    s_dict = {}\n",
    "    if len(s) != len(pattern):\n",
    "        return False\n",
    "    else:\n",
    "        for i in range(len(pattern)):\n",
    "            if pattern[i] in s_dict:\n",
    "                if s_dict[pattern[i]] != s[i]:\n",
    "                    return False\n",
    "                if s_dict[pattern[i]] not in s_dict.values():\n",
    "                    return False\n",
    "            elif pattern[i] not in s_dict:\n",
    "                if s[i] in s_dict.values():\n",
    "                    return False\n",
    "                s_dict.update({pattern[i]:s[i]})\n",
    "        return True\n",
    "\n",
    "    # return (len(set(pattern)) == len(set(s)) == len(set(zip(pattern,s))))"
   ]
  },
  {
   "cell_type": "code",
   "execution_count": 31,
   "metadata": {},
   "outputs": [
    {
     "data": {
      "text/plain": [
       "False"
      ]
     },
     "execution_count": 31,
     "metadata": {},
     "output_type": "execute_result"
    }
   ],
   "source": [
    "pattern = \"abba\"\n",
    "s = \"dog dog dog dog\"\n",
    "wordPattern(s, pattern)"
   ]
  },
  {
   "cell_type": "code",
   "execution_count": 69,
   "metadata": {},
   "outputs": [],
   "source": [
    "tasks = [2,2,3,3,2,4,4,4,4,4]\n",
    "# tasks = [1,1,1]"
   ]
  },
  {
   "cell_type": "code",
   "execution_count": 139,
   "metadata": {},
   "outputs": [
    {
     "name": "stdout",
     "output_type": "stream",
     "text": [
      "{2: 3, 3: 2, 4: 5}\n"
     ]
    }
   ],
   "source": [
    "idx = 0\n",
    "diff_dict = {}\n",
    "\n",
    "while idx < len(tasks):\n",
    "    currDiff = tasks[idx]\n",
    "    if currDiff not in diff_dict:\n",
    "        valCount = 1\n",
    "        diff_dict.update({currDiff:valCount})\n",
    "    else:\n",
    "        valCount = diff_dict[currDiff] + 1\n",
    "        diff_dict.update({currDiff:valCount})\n",
    "    idx+=1\n",
    "\n",
    "print(diff_dict)\n",
    "\n",
    "output = 0\n",
    "for difi in diff_dict:\n",
    "    valCount = diff_dict[difi]\n",
    "    if valCount == 1:\n",
    "        output = -1\n",
    "    output += diff_dict[difi]//3 + bool(diff_dict[difi]%3)"
   ]
  },
  {
   "cell_type": "code",
   "execution_count": 74,
   "metadata": {},
   "outputs": [
    {
     "data": {
      "text/plain": [
       "{2: 3, 3: 2, 4: 5}"
      ]
     },
     "execution_count": 74,
     "metadata": {},
     "output_type": "execute_result"
    }
   ],
   "source": [
    "diff_dict"
   ]
  },
  {
   "cell_type": "code",
   "execution_count": 136,
   "metadata": {},
   "outputs": [
    {
     "data": {
      "text/plain": [
       "2"
      ]
     },
     "execution_count": 136,
     "metadata": {},
     "output_type": "execute_result"
    }
   ],
   "source": [
    "6//3"
   ]
  },
  {
   "cell_type": "code",
   "execution_count": 135,
   "metadata": {},
   "outputs": [
    {
     "data": {
      "text/plain": [
       "False"
      ]
     },
     "execution_count": 135,
     "metadata": {},
     "output_type": "execute_result"
    }
   ],
   "source": [
    "bool(3%3)"
   ]
  },
  {
   "cell_type": "code",
   "execution_count": 131,
   "metadata": {},
   "outputs": [
    {
     "name": "stdout",
     "output_type": "stream",
     "text": [
      "2\n",
      "3\n",
      "4\n"
     ]
    }
   ],
   "source": [
    "output = 0\n",
    "for difi in diff_dict:\n",
    "    print(difi)\n",
    "    valCount = diff_dict[difi]\n",
    "    if valCount == 1:\n",
    "        output = -1\n",
    "    gap = valCount - 3 if valCount > 3 else gap\n",
    "    if (gap%3)%2 == 0 or (gap%2)%3 == 0:\n",
    "        output += 1\n",
    "# output = -1"
   ]
  },
  {
   "cell_type": "code",
   "execution_count": 145,
   "metadata": {},
   "outputs": [
    {
     "data": {
      "text/plain": [
       "[1, 2, 3]"
      ]
     },
     "execution_count": 145,
     "metadata": {},
     "output_type": "execute_result"
    }
   ],
   "source": [
    "lst = [3,2,1]\n",
    "lst.sort()\n",
    "lst"
   ]
  },
  {
   "cell_type": "code",
   "execution_count": 144,
   "metadata": {},
   "outputs": [],
   "source": [
    "lst"
   ]
  },
  {
   "cell_type": "code",
   "execution_count": 147,
   "metadata": {},
   "outputs": [
    {
     "data": {
      "text/plain": [
       "10"
      ]
     },
     "execution_count": 147,
     "metadata": {},
     "output_type": "execute_result"
    }
   ],
   "source": [
    "len([7,3,3,6,6,6,10,5,9,2])"
   ]
  },
  {
   "cell_type": "code",
   "execution_count": 149,
   "metadata": {},
   "outputs": [
    {
     "data": {
      "text/plain": [
       "[2, 3, 3, 5, 6, 6, 6, 7, 9, 10]"
      ]
     },
     "execution_count": 149,
     "metadata": {},
     "output_type": "execute_result"
    }
   ],
   "source": [
    "lst = [7,3,3,6,6,6,10,5,9,2]\n",
    "lst.sort()\n",
    "lst"
   ]
  },
  {
   "cell_type": "code",
   "execution_count": 150,
   "metadata": {},
   "outputs": [
    {
     "data": {
      "text/plain": [
       "47"
      ]
     },
     "execution_count": 150,
     "metadata": {},
     "output_type": "execute_result"
    }
   ],
   "source": [
    "sum([2, 3, 3, 5, 6, 6, 6, 7, 9])"
   ]
  },
  {
   "cell_type": "code",
   "execution_count": 154,
   "metadata": {},
   "outputs": [],
   "source": [
    "def minCost(costs, coins):\n",
    "    s = 0\n",
    "    costs.sort()\n",
    "    idx = 0\n",
    "    while idx != len(costs):\n",
    "        if s == coins:\n",
    "            return idx\n",
    "        elif s < coins:\n",
    "            s += costs[idx]\n",
    "        elif s > coins:\n",
    "            return idx - 1\n",
    "        idx += 1\n",
    "    if s < coins:\n",
    "        return len(costs)\n",
    "    elif s > coins:\n",
    "        return len(costs) - 1"
   ]
  },
  {
   "cell_type": "code",
   "execution_count": 155,
   "metadata": {},
   "outputs": [
    {
     "data": {
      "text/plain": [
       "4"
      ]
     },
     "execution_count": 155,
     "metadata": {},
     "output_type": "execute_result"
    }
   ],
   "source": [
    "minCost(costs = [2,3,4,5,1,1], coins = 8)"
   ]
  },
  {
   "cell_type": "code",
   "execution_count": 158,
   "metadata": {},
   "outputs": [],
   "source": [
    "costs = [7,3,3,6,6,6,10,5,9,2]\n",
    "costs.sort()"
   ]
  },
  {
   "cell_type": "code",
   "execution_count": 159,
   "metadata": {},
   "outputs": [
    {
     "data": {
      "text/plain": [
       "[2, 3, 3, 5, 6, 6, 6, 7, 9, 10]"
      ]
     },
     "execution_count": 159,
     "metadata": {},
     "output_type": "execute_result"
    }
   ],
   "source": [
    "costs"
   ]
  },
  {
   "cell_type": "code",
   "execution_count": 161,
   "metadata": {},
   "outputs": [
    {
     "data": {
      "text/plain": [
       "7"
      ]
     },
     "execution_count": 161,
     "metadata": {},
     "output_type": "execute_result"
    }
   ],
   "source": [
    "costs[7] ## s = 31"
   ]
  },
  {
   "cell_type": "code",
   "execution_count": 162,
   "metadata": {},
   "outputs": [
    {
     "data": {
      "text/plain": [
       "9"
      ]
     },
     "execution_count": 162,
     "metadata": {},
     "output_type": "execute_result"
    }
   ],
   "source": [
    "costs[8] ## s = 38"
   ]
  },
  {
   "cell_type": "code",
   "execution_count": 163,
   "metadata": {},
   "outputs": [
    {
     "data": {
      "text/plain": [
       "10"
      ]
     },
     "execution_count": 163,
     "metadata": {},
     "output_type": "execute_result"
    }
   ],
   "source": [
    "costs[9] ## s = 47"
   ]
  },
  {
   "cell_type": "code",
   "execution_count": 165,
   "metadata": {},
   "outputs": [
    {
     "data": {
      "text/plain": [
       "41"
      ]
     },
     "execution_count": 165,
     "metadata": {},
     "output_type": "execute_result"
    }
   ],
   "source": [
    "sum([4,7,6,4,4,2,2,4,8])"
   ]
  },
  {
   "cell_type": "code",
   "execution_count": 177,
   "metadata": {},
   "outputs": [],
   "source": [
    "def canCompleteCircuit(gas, cost):\n",
    "    tank = 0\n",
    "    pos = []\n",
    "    idx = 0\n",
    "    while idx < len(cost):\n",
    "        if len(pos)!=0:\n",
    "            if (idx == pos[0]):\n",
    "                return pos[0]\n",
    "        if cost[idx] > gas[idx]:\n",
    "            idx += 1\n",
    "            if len(pos) != 0:\n",
    "                return -1\n",
    "        elif cost[idx] <= gas[idx]:\n",
    "            if idx == len(cost) - 1:\n",
    "                idx = 0\n",
    "            elif len(pos) == 0:\n",
    "                tank += tank + gas[idx]\n",
    "            else:\n",
    "                tank += tank + gas[idx] - cost[idx-1]\n",
    "            pos.append(idx)\n",
    "\n",
    "    return -1"
   ]
  },
  {
   "cell_type": "code",
   "execution_count": 178,
   "metadata": {},
   "outputs": [
    {
     "name": "stdout",
     "output_type": "stream",
     "text": [
      "3\n"
     ]
    }
   ],
   "source": [
    "gas = [1,2,3,4,5]\n",
    "cost = [3,4,5,1,2]\n",
    "print(canCompleteCircuit(gas, cost))"
   ]
  },
  {
   "cell_type": "code",
   "execution_count": 179,
   "metadata": {},
   "outputs": [
    {
     "name": "stdout",
     "output_type": "stream",
     "text": [
      "0\n"
     ]
    }
   ],
   "source": [
    "gas = [2,3,4]\n",
    "cost = [3,4,3]\n",
    "print(canCompleteCircuit(gas, cost))"
   ]
  },
  {
   "cell_type": "code",
   "execution_count": 4,
   "metadata": {},
   "outputs": [],
   "source": [
    "def tribonacci(n):\n",
    "    def tribo(n, dp):\n",
    "        if n<=0:\n",
    "            return 0\n",
    "        if n==1:\n",
    "            return 1\n",
    "        if n==2:\n",
    "            return 1\n",
    "        if dp[n] != 0:\n",
    "            return dp[n]\n",
    "        dp[n] = tribo(n-1, dp) + tribo(n-2, dp) + tribo(n-3, dp)\n",
    "        return dp[n]\n",
    "\n",
    "    dp = [0 for _ in range(n+1)]\n",
    "    return tribo(n,dp)"
   ]
  },
  {
   "cell_type": "code",
   "execution_count": 2,
   "metadata": {},
   "outputs": [
    {
     "data": {
      "text/plain": [
       "[0, 0, 0, 0]"
      ]
     },
     "execution_count": 2,
     "metadata": {},
     "output_type": "execute_result"
    }
   ],
   "source": [
    "n=4\n",
    "dp = [0 for _ in range(n)]\n",
    "dp"
   ]
  },
  {
   "cell_type": "code",
   "execution_count": 5,
   "metadata": {},
   "outputs": [
    {
     "data": {
      "text/plain": [
       "4"
      ]
     },
     "execution_count": 5,
     "metadata": {},
     "output_type": "execute_result"
    }
   ],
   "source": [
    "tribonacci(n)"
   ]
  },
  {
   "cell_type": "code",
   "execution_count": 68,
   "metadata": {},
   "outputs": [],
   "source": [
    "scores = [1,2,3,5]\n",
    "ages = [8,9,10,1]"
   ]
  },
  {
   "cell_type": "code",
   "execution_count": 69,
   "metadata": {},
   "outputs": [],
   "source": [
    "age2D = [[] for _ in range(len(ages))]\n",
    "for i in range(len(ages)):\n",
    "    age2D[i].append(i)\n",
    "    age2D[i].append(ages[i])\n",
    "\n",
    "score2D = [[] for _ in range(len(scores))]\n",
    "for i in range(len(ages)):\n",
    "    score2D[i].append(i)\n",
    "    score2D[i].append(scores[i])"
   ]
  },
  {
   "cell_type": "code",
   "execution_count": 70,
   "metadata": {},
   "outputs": [
    {
     "data": {
      "text/plain": [
       "[[0, 8], [1, 9], [2, 10], [3, 1]]"
      ]
     },
     "execution_count": 70,
     "metadata": {},
     "output_type": "execute_result"
    }
   ],
   "source": [
    "age2D"
   ]
  },
  {
   "cell_type": "code",
   "execution_count": 71,
   "metadata": {},
   "outputs": [
    {
     "data": {
      "text/plain": [
       "[[0, 1], [1, 2], [2, 3], [3, 5]]"
      ]
     },
     "execution_count": 71,
     "metadata": {},
     "output_type": "execute_result"
    }
   ],
   "source": [
    "score2D"
   ]
  },
  {
   "cell_type": "code",
   "execution_count": 72,
   "metadata": {},
   "outputs": [
    {
     "data": {
      "text/plain": [
       "[[3, 1], [0, 8], [1, 9], [2, 10]]"
      ]
     },
     "execution_count": 72,
     "metadata": {},
     "output_type": "execute_result"
    }
   ],
   "source": [
    "age2D = sorted(age2D, key=lambda x:x[1])\n",
    "age2D"
   ]
  },
  {
   "cell_type": "code",
   "execution_count": 73,
   "metadata": {},
   "outputs": [],
   "source": [
    "sum = score2D[age2D[0][0]][1]\n",
    "\n",
    "for i in range(1, len(age2D)):\n",
    "    prev_age = age2D[i-1][1]\n",
    "    curr_age = age2D[i][1]\n",
    "\n",
    "    prev_score = score2D[age2D[i-1][0]][1]\n",
    "    curr_score = score2D[age2D[i][0]][1]\n",
    "\n",
    "    if prev_age == curr_age:\n",
    "        sum += curr_score\n",
    "    if prev_age < curr_age:\n",
    "        if prev_score > curr_score:\n",
    "            pass\n",
    "        elif prev_score < curr_score:\n",
    "            sum += curr_score"
   ]
  },
  {
   "cell_type": "code",
   "execution_count": 74,
   "metadata": {},
   "outputs": [
    {
     "data": {
      "text/plain": [
       "10"
      ]
     },
     "execution_count": 74,
     "metadata": {},
     "output_type": "execute_result"
    }
   ],
   "source": [
    "sum"
   ]
  },
  {
   "cell_type": "code",
   "execution_count": 79,
   "metadata": {},
   "outputs": [],
   "source": [
    "scores = [1,2,3,5]\n",
    "ages = [8,9,10,1]"
   ]
  },
  {
   "cell_type": "code",
   "execution_count": 80,
   "metadata": {},
   "outputs": [
    {
     "data": {
      "text/plain": [
       "[0, 0, 0, 0, 0, 0, 0, 0, 0, 0, 0]"
      ]
     },
     "execution_count": 80,
     "metadata": {},
     "output_type": "execute_result"
    }
   ],
   "source": [
    "dp = [0]*(1+max(ages))     \n",
    "dp"
   ]
  },
  {
   "cell_type": "code",
   "execution_count": 81,
   "metadata": {},
   "outputs": [
    {
     "data": {
      "text/plain": [
       "[(1, 8), (2, 9), (3, 10), (5, 1)]"
      ]
     },
     "execution_count": 81,
     "metadata": {},
     "output_type": "execute_result"
    }
   ],
   "source": [
    "score_age = sorted(zip(scores, ages))\n",
    "score_age"
   ]
  },
  {
   "cell_type": "code",
   "execution_count": null,
   "metadata": {},
   "outputs": [],
   "source": [
    "for score, age in score_age:                                  \n",
    "    dp[age] = score + max(dp[:age+1])"
   ]
  },
  {
   "cell_type": "code",
   "execution_count": null,
   "metadata": {},
   "outputs": [],
   "source": []
  },
  {
   "cell_type": "code",
   "execution_count": 83,
   "metadata": {},
   "outputs": [],
   "source": [
    "def gcd(str1, str2):\n",
    "    if not str1 or not str2:\n",
    "        return str1 if str1 else str2\n",
    "    elif len(str1) < len(str2):\n",
    "        return self.gcdOfStrings(str2, str1)\n",
    "    elif str1[: len(str2)] == str2:\n",
    "        return self.gcdOfStrings(str1[len(str2) :], str2)\n",
    "    else:\n",
    "        return ''"
   ]
  },
  {
   "cell_type": "code",
   "execution_count": 84,
   "metadata": {},
   "outputs": [
    {
     "data": {
      "text/plain": [
       "'ABC'"
      ]
     },
     "execution_count": 84,
     "metadata": {},
     "output_type": "execute_result"
    }
   ],
   "source": [
    "str1 = \"ABCABC\"\n",
    "str2 = \"ABC\"\n",
    "gcd(str1, str2)"
   ]
  },
  {
   "cell_type": "code",
   "execution_count": 85,
   "metadata": {},
   "outputs": [],
   "source": [
    "str = \"\"\"P A   P  A\n",
    "        H  I  R     N\"\"\""
   ]
  },
  {
   "cell_type": "code",
   "execution_count": 86,
   "metadata": {},
   "outputs": [
    {
     "name": "stdout",
     "output_type": "stream",
     "text": [
      "P A   P  A\n",
      "        H  I  R     N\n"
     ]
    }
   ],
   "source": [
    "print(str)"
   ]
  },
  {
   "cell_type": "code",
   "execution_count": 88,
   "metadata": {},
   "outputs": [
    {
     "name": "stdout",
     "output_type": "stream",
     "text": [
      "P\n",
      "A\n",
      "\n",
      "\n",
      "P\n",
      "\n",
      "A\n",
      "\n",
      "\n",
      "\n",
      "\n",
      "\n",
      "\n",
      "\n",
      "\n",
      "H\n",
      "\n",
      "I\n",
      "\n",
      "R\n",
      "\n",
      "\n",
      "\n",
      "\n",
      "N\n"
     ]
    }
   ],
   "source": []
  },
  {
   "attachments": {},
   "cell_type": "markdown",
   "metadata": {},
   "source": [
    "# 989. Add to Array-Form of Integer"
   ]
  },
  {
   "cell_type": "code",
   "execution_count": 1,
   "metadata": {},
   "outputs": [
    {
     "data": {
      "text/plain": [
       "'\\nExample:\\nInput: num = [1,2,0,0], k = 34\\nOutput: [1,2,3,4]\\nExplanation: 1200 + 34 = 1234\\n---------------------------------------\\nApproach:\\n1. Read all the elements from num O(n)\\n2. Add k to num O(1)\\n3. convert num+k to string and append each number to a list\\n'"
      ]
     },
     "execution_count": 1,
     "metadata": {},
     "output_type": "execute_result"
    }
   ],
   "source": [
    "\"\"\"\n",
    "Example:\n",
    "Input: num = [1,2,0,0], k = 34\n",
    "Output: [1,2,3,4]\n",
    "Explanation: 1200 + 34 = 1234\n",
    "---------------------------------------\n",
    "Approach:\n",
    "1. Read all the elements from num O(n)\n",
    "2. Add k to num O(1)\n",
    "3. convert num+k to string and append each number to a list\n",
    "\"\"\""
   ]
  },
  {
   "cell_type": "code",
   "execution_count": 8,
   "metadata": {},
   "outputs": [],
   "source": [
    "num = [1,2,0,0] \n",
    "k = 34"
   ]
  },
  {
   "cell_type": "code",
   "execution_count": 13,
   "metadata": {},
   "outputs": [
    {
     "data": {
      "text/plain": [
       "['1', '2', '3', '4']"
      ]
     },
     "execution_count": 13,
     "metadata": {},
     "output_type": "execute_result"
    }
   ],
   "source": [
    "def addToArrayForm(num, k):\n",
    "    \"\"\"\n",
    "    :type num: List[int]\n",
    "    :type k: int\n",
    "    :rtype: List[int]\n",
    "    \"\"\"\n",
    "    n = len(num)\n",
    "    sum = 0\n",
    "    numArr = []\n",
    "    for i in num:\n",
    "        sum += i * ((10)**(n-1))\n",
    "        n-=1\n",
    "    sum += k\n",
    "\n",
    "    return [x for x in str(sum)]\n",
    "\n",
    "addToArrayForm(num, k)"
   ]
  },
  {
   "attachments": {},
   "cell_type": "markdown",
   "metadata": {},
   "source": [
    "# 67. Add Binary"
   ]
  },
  {
   "cell_type": "code",
   "execution_count": null,
   "metadata": {},
   "outputs": [],
   "source": [
    "\"\"\"\n",
    "Example:\n",
    "Input: a = \"11\", b = \"1\"\n",
    "Output: \"100\"\n",
    "------------------------\n",
    "Approach:\n",
    "\n",
    "\"\"\""
   ]
  },
  {
   "cell_type": "code",
   "execution_count": 15,
   "metadata": {},
   "outputs": [],
   "source": [
    "a = \"11\"\n",
    "b = \"1\""
   ]
  },
  {
   "cell_type": "code",
   "execution_count": 18,
   "metadata": {},
   "outputs": [
    {
     "data": {
      "text/plain": [
       "'100'"
      ]
     },
     "execution_count": 18,
     "metadata": {},
     "output_type": "execute_result"
    }
   ],
   "source": [
    "def addBinary(a, b):\n",
    "    \"\"\"\n",
    "    :type a: str\n",
    "    :type b: str\n",
    "    :rtype: str\n",
    "    \"\"\"\n",
    "    carry = 0\n",
    "    res = \"\"\n",
    "    i = len(a) - 1\n",
    "    j = len(b) - 1\n",
    "    \n",
    "    while i >= 0 or j >= 0:\n",
    "        sum = carry\n",
    "        if i >= 0:\n",
    "            sum += int(a[i])\n",
    "            i -= 1\n",
    "        if j >= 0:\n",
    "            sum += int(b[j])\n",
    "            j -= 1\n",
    "            \n",
    "        res = str(sum % 2) + res\n",
    "        carry = sum // 2\n",
    "    \n",
    "    if carry:\n",
    "        res = '1' + res\n",
    "        \n",
    "    return res\n",
    "\n",
    "addBinary(a, b)"
   ]
  },
  {
   "attachments": {},
   "cell_type": "markdown",
   "metadata": {},
   "source": [
    "# 104. Maximum Depth of Binary Tree"
   ]
  },
  {
   "cell_type": "code",
   "execution_count": null,
   "metadata": {},
   "outputs": [],
   "source": [
    "\"\"\"\n",
    "Example:\n",
    "Input: root = [3,9,20,null,null,15,7]\n",
    "Output: 3\n",
    "----------------------------------------------\n",
    "Approach:\n",
    "1. \n",
    "\"\"\""
   ]
  },
  {
   "cell_type": "code",
   "execution_count": 30,
   "metadata": {},
   "outputs": [],
   "source": [
    "class TreeNode(object):\n",
    "    def __init__(self, val=0, left=None, right=None):\n",
    "        self.val = val\n",
    "        self.left = left\n",
    "        self.right = right\n",
    "\n",
    "class Solution(object):\n",
    "    __idx = 0\n",
    "    \n",
    "    @classmethod\n",
    "    def buildTree(self, nodes):\n",
    "        if Solution.__idx == len(nodes) - 1:\n",
    "            return \n",
    "        Solution.__idx += 1\n",
    "        if (nodes[Solution.__idx]==-1) or (nodes[Solution.__idx]==None):\n",
    "            return None\n",
    "        newNode = TreeNode(nodes[Solution.__idx])\n",
    "        newNode.left = self.buildTree(nodes)\n",
    "        newNode.right = self.buildTree(nodes)\n",
    "        return newNode\n",
    "\n",
    "    def maxDepth(self, root):\n",
    "        \"\"\"\n",
    "        :type root: TreeNode\n",
    "        :rtype: int\n",
    "        \"\"\"\n",
    "        if root is None:\n",
    "            return 0\n",
    "        lh = self.maxDepth(root.left)\n",
    "        rh = self.maxDepth(root.right)\n",
    "\n",
    "        return max(lh, rh) + 1\n",
    "        ## 1 is added to add the depth of the root node"
   ]
  },
  {
   "cell_type": "code",
   "execution_count": 31,
   "metadata": {},
   "outputs": [
    {
     "name": "stdout",
     "output_type": "stream",
     "text": [
      "3\n"
     ]
    }
   ],
   "source": [
    "root = [3,9,20,None,None,15,7]\n",
    "bt = Solution()\n",
    "\n",
    "root_ = bt.buildTree(root)\n",
    "height = bt.maxDepth(root_)\n",
    "print(height)"
   ]
  },
  {
   "cell_type": "code",
   "execution_count": 32,
   "metadata": {},
   "outputs": [
    {
     "data": {
      "text/plain": [
       "[3, 9, 20, None, None, 15, 7]"
      ]
     },
     "execution_count": 32,
     "metadata": {},
     "output_type": "execute_result"
    }
   ],
   "source": [
    "root"
   ]
  },
  {
   "cell_type": "code",
   "execution_count": 36,
   "metadata": {},
   "outputs": [
    {
     "data": {
      "text/plain": [
       "(9, 20, 15)"
      ]
     },
     "execution_count": 36,
     "metadata": {},
     "output_type": "execute_result"
    }
   ],
   "source": [
    "root_.val, root_.left.val, root_.right.val"
   ]
  },
  {
   "cell_type": "code",
   "execution_count": null,
   "metadata": {},
   "outputs": [],
   "source": []
  },
  {
   "attachments": {},
   "cell_type": "markdown",
   "metadata": {},
   "source": [
    "# 783. Minimum Distance Between BST Nodes"
   ]
  },
  {
   "cell_type": "code",
   "execution_count": 37,
   "metadata": {},
   "outputs": [
    {
     "data": {
      "text/plain": [
       "'\\nExample:\\nInput: root = [4,2,6,1,3]\\nOutput: 1\\n----------------------------------\\nApproach:\\n1. Build a binary Tree based on the given nodes | Just for preparing the problem in Local\\n2. traverse at each node until you get the min distance between nodes\\n'"
      ]
     },
     "execution_count": 37,
     "metadata": {},
     "output_type": "execute_result"
    }
   ],
   "source": [
    "\"\"\"\n",
    "Example:\n",
    "Input: root = [4,2,6,1,3]\n",
    "Output: 1\n",
    "----------------------------------\n",
    "Approach:\n",
    "1. Build a binary Tree based on the given nodes | Just for preparing the problem in Local\n",
    "2. traverse at each node until you get the min distance between nodes\n",
    "\"\"\""
   ]
  },
  {
   "cell_type": "code",
   "execution_count": 51,
   "metadata": {},
   "outputs": [],
   "source": [
    "class TreeNode(object):\n",
    "    def __init__(self, val=0, left=None, right=None):\n",
    "        self.val = val\n",
    "        self.left = left\n",
    "        self.right = right\n",
    "\n",
    "class Solution(object):\n",
    "    __idx = -1\n",
    "    \n",
    "    @classmethod\n",
    "    def buildTree(self, nodes):\n",
    "        Solution.__idx += 1\n",
    "        if (nodes[Solution.__idx] == -1) or (nodes[Solution.__idx] is None):\n",
    "            return None\n",
    "\n",
    "        # Create the root node\n",
    "        root = TreeNode(nodes[Solution.__idx])\n",
    "        queue = [root]\n",
    "\n",
    "        i = 1\n",
    "        while i < len(nodes):\n",
    "            # Get the next node in the queue\n",
    "            node = queue.pop(0)\n",
    "\n",
    "            # Create the left child\n",
    "            if nodes[i] is not None:\n",
    "                node.left = TreeNode(nodes[i])\n",
    "                queue.append(node.left)\n",
    "            i += 1\n",
    "\n",
    "            # Create the right child\n",
    "            if i < len(nodes) and nodes[i] is not None:\n",
    "                node.right = TreeNode(nodes[i])\n",
    "                queue.append(node.right)\n",
    "            i += 1\n",
    "            \n",
    "        return root\n",
    "    \n",
    "    ## just to initialize\n",
    "    pre = -float('inf')\n",
    "    res = float('inf')\n",
    "\n",
    "    def minDiffInBST(self, root):\n",
    "        \"\"\"\n",
    "        :type root: TreeNode\n",
    "        :rtype: int\n",
    "        \"\"\" ### InOrder Traversal | Left Node --->>--- Current Node --->>---- Right Node\n",
    "\n",
    "        if root is None:\n",
    "            return \n",
    "        self.minDiffInBST(root.left)\n",
    "\n",
    "        # evaluate and set the current node as the node previously evaluated\n",
    "        self.res = min(self.res, root.val - self.pre)\n",
    "        self.pre = root.val\n",
    "        self.minDiffInBST(root.right)\n",
    "        return self.res"
   ]
  },
  {
   "cell_type": "code",
   "execution_count": 52,
   "metadata": {},
   "outputs": [],
   "source": [
    "root = [4,2,6,1,3]"
   ]
  },
  {
   "cell_type": "code",
   "execution_count": 53,
   "metadata": {},
   "outputs": [
    {
     "data": {
      "text/plain": [
       "1"
      ]
     },
     "execution_count": 53,
     "metadata": {},
     "output_type": "execute_result"
    }
   ],
   "source": [
    "bt = Solution()\n",
    "root_ = bt.buildTree(root)\n",
    "bt.minDiffInBST(root_)"
   ]
  },
  {
   "cell_type": "code",
   "execution_count": 54,
   "metadata": {},
   "outputs": [
    {
     "data": {
      "text/plain": [
       "(4, 1)"
      ]
     },
     "execution_count": 54,
     "metadata": {},
     "output_type": "execute_result"
    }
   ],
   "source": [
    "root_.val, root_.left.left.val"
   ]
  },
  {
   "attachments": {
    "image.png": {
     "image/png": "[encoded data removed]"
    }
   },
   "cell_type": "markdown",
   "metadata": {},
   "source": [
    "# 226. Invert Binary Tree\n",
    "\n",
    "![image.png](attachment:image.png)"
   ]
  },
  {
   "attachments": {},
   "cell_type": "markdown",
   "metadata": {},
   "source": [
    "1. build tree in level-order\n",
    "2. recursive function\n",
    "3. for every node starting from root ->-  save the left to temp, set the left to right, set right to temp"
   ]
  },
  {
   "cell_type": "code",
   "execution_count": 20,
   "metadata": {},
   "outputs": [
    {
     "data": {
      "text/plain": [
       "[4, 2, 7, 1, 3, 6, 9]"
      ]
     },
     "execution_count": 20,
     "metadata": {},
     "output_type": "execute_result"
    }
   ],
   "source": [
    "[4,2,7,1,3,6,9]"
   ]
  },
  {
   "cell_type": "code",
   "execution_count": 30,
   "metadata": {},
   "outputs": [],
   "source": [
    "class Node:\n",
    "    def __init__(self, val):\n",
    "        self.val = val\n",
    "        self.left = None\n",
    "        self.right = None\n",
    "\n",
    "class BinaryTree:\n",
    "    def buildTree(self, nodes):\n",
    "        i = 1\n",
    "        if nodes[0] is None:\n",
    "            return\n",
    "        root = Node(nodes[0])\n",
    "        queue = [root]\n",
    "\n",
    "        while i < len(nodes):\n",
    "            currNode = queue.pop()\n",
    "\n",
    "            if nodes[i] is not None:\n",
    "                currNode.left = Node(nodes[i])\n",
    "                queue.append(currNode.left)\n",
    "            \n",
    "            i += 1  ## to iterate to next node in the same level\n",
    "\n",
    "            if i < len(nodes) and nodes[i] is not None:\n",
    "                currNode.right = Node(nodes[i])\n",
    "                queue.append(currNode.right)\n",
    "            i += 1\n",
    "        \n",
    "        return root\n",
    "\n",
    "    def invertTree(self, root):\n",
    "        if root is None:\n",
    "            return\n",
    "        root.left = self.invertTree(root.right)\n",
    "        root.right = self.invertTree(root.left)\n",
    "        return root            "
   ]
  },
  {
   "cell_type": "code",
   "execution_count": 31,
   "metadata": {},
   "outputs": [
    {
     "name": "stdout",
     "output_type": "stream",
     "text": [
      "4\n"
     ]
    }
   ],
   "source": [
    "bt = BinaryTree()\n",
    "nodes = [4,2,7,1,3,6,9]\n",
    "root = bt.buildTree(nodes)\n",
    "print(root.val)"
   ]
  },
  {
   "cell_type": "code",
   "execution_count": 32,
   "metadata": {},
   "outputs": [],
   "source": [
    "root_ = bt.invertTree(root)"
   ]
  },
  {
   "cell_type": "code",
   "execution_count": null,
   "metadata": {},
   "outputs": [],
   "source": []
  }
 ],
 "metadata": {
  "kernelspec": {
   "display_name": "base",
   "language": "python",
   "name": "python3"
  },
  "language_info": {
   "codemirror_mode": {
    "name": "ipython",
    "version": 3
   },
   "file_extension": ".py",
   "mimetype": "text/x-python",
   "name": "python",
   "nbconvert_exporter": "python",
   "pygments_lexer": "ipython3",
   "version": "3.8.8"
  },
  "orig_nbformat": 4,
  "vscode": {
   "interpreter": {
    "hash": "0d36738efb02b46f2291bc18f32076806b70360f2bce5d987cd2b90be755e1b9"
   }
  }
 },
 "nbformat": 4,
 "nbformat_minor": 2
}
