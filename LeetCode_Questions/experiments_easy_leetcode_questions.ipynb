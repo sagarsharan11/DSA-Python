{
 "cells": [
  {
   "attachments": {},
   "cell_type": "markdown",
   "metadata": {},
   "source": [
    "LeetCode: 290. Word Pattern"
   ]
  },
  {
   "cell_type": "code",
   "execution_count": 30,
   "metadata": {},
   "outputs": [],
   "source": [
    "def wordPattern(s, pattern):\n",
    "    s = s.split(' ')\n",
    "    s_dict = {}\n",
    "    if len(s) != len(pattern):\n",
    "        return False\n",
    "    else:\n",
    "        for i in range(len(pattern)):\n",
    "            if pattern[i] in s_dict:\n",
    "                if s_dict[pattern[i]] != s[i]:\n",
    "                    return False\n",
    "                if s_dict[pattern[i]] not in s_dict.values():\n",
    "                    return False\n",
    "            elif pattern[i] not in s_dict:\n",
    "                if s[i] in s_dict.values():\n",
    "                    return False\n",
    "                s_dict.update({pattern[i]:s[i]})\n",
    "        return True\n",
    "\n",
    "    # return (len(set(pattern)) == len(set(s)) == len(set(zip(pattern,s))))"
   ]
  },
  {
   "cell_type": "code",
   "execution_count": 31,
   "metadata": {},
   "outputs": [
    {
     "data": {
      "text/plain": [
       "False"
      ]
     },
     "execution_count": 31,
     "metadata": {},
     "output_type": "execute_result"
    }
   ],
   "source": [
    "pattern = \"abba\"\n",
    "s = \"dog dog dog dog\"\n",
    "wordPattern(s, pattern)"
   ]
  },
  {
   "cell_type": "code",
   "execution_count": 69,
   "metadata": {},
   "outputs": [],
   "source": [
    "tasks = [2,2,3,3,2,4,4,4,4,4]\n",
    "# tasks = [1,1,1]"
   ]
  },
  {
   "cell_type": "code",
   "execution_count": 139,
   "metadata": {},
   "outputs": [
    {
     "name": "stdout",
     "output_type": "stream",
     "text": [
      "{2: 3, 3: 2, 4: 5}\n"
     ]
    }
   ],
   "source": [
    "idx = 0\n",
    "diff_dict = {}\n",
    "\n",
    "while idx < len(tasks):\n",
    "    currDiff = tasks[idx]\n",
    "    if currDiff not in diff_dict:\n",
    "        valCount = 1\n",
    "        diff_dict.update({currDiff:valCount})\n",
    "    else:\n",
    "        valCount = diff_dict[currDiff] + 1\n",
    "        diff_dict.update({currDiff:valCount})\n",
    "    idx+=1\n",
    "\n",
    "print(diff_dict)\n",
    "\n",
    "output = 0\n",
    "for difi in diff_dict:\n",
    "    valCount = diff_dict[difi]\n",
    "    if valCount == 1:\n",
    "        output = -1\n",
    "    output += diff_dict[difi]//3 + bool(diff_dict[difi]%3)"
   ]
  },
  {
   "cell_type": "code",
   "execution_count": 74,
   "metadata": {},
   "outputs": [
    {
     "data": {
      "text/plain": [
       "{2: 3, 3: 2, 4: 5}"
      ]
     },
     "execution_count": 74,
     "metadata": {},
     "output_type": "execute_result"
    }
   ],
   "source": [
    "diff_dict"
   ]
  },
  {
   "cell_type": "code",
   "execution_count": 136,
   "metadata": {},
   "outputs": [
    {
     "data": {
      "text/plain": [
       "2"
      ]
     },
     "execution_count": 136,
     "metadata": {},
     "output_type": "execute_result"
    }
   ],
   "source": [
    "6//3"
   ]
  },
  {
   "cell_type": "code",
   "execution_count": 135,
   "metadata": {},
   "outputs": [
    {
     "data": {
      "text/plain": [
       "False"
      ]
     },
     "execution_count": 135,
     "metadata": {},
     "output_type": "execute_result"
    }
   ],
   "source": [
    "bool(3%3)"
   ]
  },
  {
   "cell_type": "code",
   "execution_count": 131,
   "metadata": {},
   "outputs": [
    {
     "name": "stdout",
     "output_type": "stream",
     "text": [
      "2\n",
      "3\n",
      "4\n"
     ]
    }
   ],
   "source": [
    "output = 0\n",
    "for difi in diff_dict:\n",
    "    print(difi)\n",
    "    valCount = diff_dict[difi]\n",
    "    if valCount == 1:\n",
    "        output = -1\n",
    "    gap = valCount - 3 if valCount > 3 else gap\n",
    "    if (gap%3)%2 == 0 or (gap%2)%3 == 0:\n",
    "        output += 1\n",
    "# output = -1"
   ]
  },
  {
   "cell_type": "code",
   "execution_count": 145,
   "metadata": {},
   "outputs": [
    {
     "data": {
      "text/plain": [
       "[1, 2, 3]"
      ]
     },
     "execution_count": 145,
     "metadata": {},
     "output_type": "execute_result"
    }
   ],
   "source": [
    "lst = [3,2,1]\n",
    "lst.sort()\n",
    "lst"
   ]
  },
  {
   "cell_type": "code",
   "execution_count": 144,
   "metadata": {},
   "outputs": [],
   "source": [
    "lst"
   ]
  },
  {
   "cell_type": "code",
   "execution_count": 147,
   "metadata": {},
   "outputs": [
    {
     "data": {
      "text/plain": [
       "10"
      ]
     },
     "execution_count": 147,
     "metadata": {},
     "output_type": "execute_result"
    }
   ],
   "source": [
    "len([7,3,3,6,6,6,10,5,9,2])"
   ]
  },
  {
   "cell_type": "code",
   "execution_count": 149,
   "metadata": {},
   "outputs": [
    {
     "data": {
      "text/plain": [
       "[2, 3, 3, 5, 6, 6, 6, 7, 9, 10]"
      ]
     },
     "execution_count": 149,
     "metadata": {},
     "output_type": "execute_result"
    }
   ],
   "source": [
    "lst = [7,3,3,6,6,6,10,5,9,2]\n",
    "lst.sort()\n",
    "lst"
   ]
  },
  {
   "cell_type": "code",
   "execution_count": 150,
   "metadata": {},
   "outputs": [
    {
     "data": {
      "text/plain": [
       "47"
      ]
     },
     "execution_count": 150,
     "metadata": {},
     "output_type": "execute_result"
    }
   ],
   "source": [
    "sum([2, 3, 3, 5, 6, 6, 6, 7, 9])"
   ]
  },
  {
   "cell_type": "code",
   "execution_count": 154,
   "metadata": {},
   "outputs": [],
   "source": [
    "def minCost(costs, coins):\n",
    "    s = 0\n",
    "    costs.sort()\n",
    "    idx = 0\n",
    "    while idx != len(costs):\n",
    "        if s == coins:\n",
    "            return idx\n",
    "        elif s < coins:\n",
    "            s += costs[idx]\n",
    "        elif s > coins:\n",
    "            return idx - 1\n",
    "        idx += 1\n",
    "    if s < coins:\n",
    "        return len(costs)\n",
    "    elif s > coins:\n",
    "        return len(costs) - 1"
   ]
  },
  {
   "cell_type": "code",
   "execution_count": 155,
   "metadata": {},
   "outputs": [
    {
     "data": {
      "text/plain": [
       "4"
      ]
     },
     "execution_count": 155,
     "metadata": {},
     "output_type": "execute_result"
    }
   ],
   "source": [
    "minCost(costs = [2,3,4,5,1,1], coins = 8)"
   ]
  },
  {
   "cell_type": "code",
   "execution_count": 158,
   "metadata": {},
   "outputs": [],
   "source": [
    "costs = [7,3,3,6,6,6,10,5,9,2]\n",
    "costs.sort()"
   ]
  },
  {
   "cell_type": "code",
   "execution_count": 159,
   "metadata": {},
   "outputs": [
    {
     "data": {
      "text/plain": [
       "[2, 3, 3, 5, 6, 6, 6, 7, 9, 10]"
      ]
     },
     "execution_count": 159,
     "metadata": {},
     "output_type": "execute_result"
    }
   ],
   "source": [
    "costs"
   ]
  },
  {
   "cell_type": "code",
   "execution_count": 161,
   "metadata": {},
   "outputs": [
    {
     "data": {
      "text/plain": [
       "7"
      ]
     },
     "execution_count": 161,
     "metadata": {},
     "output_type": "execute_result"
    }
   ],
   "source": [
    "costs[7] ## s = 31"
   ]
  },
  {
   "cell_type": "code",
   "execution_count": 162,
   "metadata": {},
   "outputs": [
    {
     "data": {
      "text/plain": [
       "9"
      ]
     },
     "execution_count": 162,
     "metadata": {},
     "output_type": "execute_result"
    }
   ],
   "source": [
    "costs[8] ## s = 38"
   ]
  },
  {
   "cell_type": "code",
   "execution_count": 163,
   "metadata": {},
   "outputs": [
    {
     "data": {
      "text/plain": [
       "10"
      ]
     },
     "execution_count": 163,
     "metadata": {},
     "output_type": "execute_result"
    }
   ],
   "source": [
    "costs[9] ## s = 47"
   ]
  },
  {
   "cell_type": "code",
   "execution_count": 165,
   "metadata": {},
   "outputs": [
    {
     "data": {
      "text/plain": [
       "41"
      ]
     },
     "execution_count": 165,
     "metadata": {},
     "output_type": "execute_result"
    }
   ],
   "source": [
    "sum([4,7,6,4,4,2,2,4,8])"
   ]
  },
  {
   "cell_type": "code",
   "execution_count": 177,
   "metadata": {},
   "outputs": [],
   "source": [
    "def canCompleteCircuit(gas, cost):\n",
    "    tank = 0\n",
    "    pos = []\n",
    "    idx = 0\n",
    "    while idx < len(cost):\n",
    "        if len(pos)!=0:\n",
    "            if (idx == pos[0]):\n",
    "                return pos[0]\n",
    "        if cost[idx] > gas[idx]:\n",
    "            idx += 1\n",
    "            if len(pos) != 0:\n",
    "                return -1\n",
    "        elif cost[idx] <= gas[idx]:\n",
    "            if idx == len(cost) - 1:\n",
    "                idx = 0\n",
    "            elif len(pos) == 0:\n",
    "                tank += tank + gas[idx]\n",
    "            else:\n",
    "                tank += tank + gas[idx] - cost[idx-1]\n",
    "            pos.append(idx)\n",
    "\n",
    "    return -1"
   ]
  },
  {
   "cell_type": "code",
   "execution_count": 178,
   "metadata": {},
   "outputs": [
    {
     "name": "stdout",
     "output_type": "stream",
     "text": [
      "3\n"
     ]
    }
   ],
   "source": [
    "gas = [1,2,3,4,5]\n",
    "cost = [3,4,5,1,2]\n",
    "print(canCompleteCircuit(gas, cost))"
   ]
  },
  {
   "cell_type": "code",
   "execution_count": 179,
   "metadata": {},
   "outputs": [
    {
     "name": "stdout",
     "output_type": "stream",
     "text": [
      "0\n"
     ]
    }
   ],
   "source": [
    "gas = [2,3,4]\n",
    "cost = [3,4,3]\n",
    "print(canCompleteCircuit(gas, cost))"
   ]
  },
  {
   "cell_type": "code",
   "execution_count": null,
   "metadata": {},
   "outputs": [],
   "source": []
  }
 ],
 "metadata": {
  "kernelspec": {
   "display_name": "base",
   "language": "python",
   "name": "python3"
  },
  "language_info": {
   "codemirror_mode": {
    "name": "ipython",
    "version": 3
   },
   "file_extension": ".py",
   "mimetype": "text/x-python",
   "name": "python",
   "nbconvert_exporter": "python",
   "pygments_lexer": "ipython3",
   "version": "3.8.8"
  },
  "orig_nbformat": 4,
  "vscode": {
   "interpreter": {
    "hash": "0d36738efb02b46f2291bc18f32076806b70360f2bce5d987cd2b90be755e1b9"
   }
  }
 },
 "nbformat": 4,
 "nbformat_minor": 2
}
