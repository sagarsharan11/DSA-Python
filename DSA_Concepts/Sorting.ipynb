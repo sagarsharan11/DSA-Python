{
 "cells": [
  {
   "attachments": {},
   "cell_type": "markdown",
   "metadata": {},
   "source": [
    "# Sorting"
   ]
  },
  {
   "attachments": {},
   "cell_type": "markdown",
   "metadata": {},
   "source": [
    "To sort things (lists, arrays) in ascending or descending order"
   ]
  },
  {
   "attachments": {},
   "cell_type": "markdown",
   "metadata": {},
   "source": [
    "* Bubble Sort\n",
    "* Insertion Sort\n",
    "* Selection Sort"
   ]
  },
  {
   "attachments": {},
   "cell_type": "markdown",
   "metadata": {},
   "source": [
    "### Bubble Sort"
   ]
  },
  {
   "attachments": {},
   "cell_type": "markdown",
   "metadata": {},
   "source": [
    "Swaping and comparing two agjacent elements and pushing the largest element to back in case of ascending order, and pushing the largest element to the first in case of descending order."
   ]
  },
  {
   "cell_type": "code",
   "execution_count": 12,
   "metadata": {},
   "outputs": [
    {
     "data": {
      "text/plain": [
       "[1, 2, 3, 7, 8]"
      ]
     },
     "execution_count": 12,
     "metadata": {},
     "output_type": "execute_result"
    }
   ],
   "source": [
    "lst = [7,8,3,1,2]\n",
    "for i in range(len(lst)-1):\n",
    "    for j in range(len(lst)-i-1):\n",
    "        if lst[j] > lst[j+1]:\n",
    "            temp = lst[j]\n",
    "            lst[j] = lst[j+1]\n",
    "            lst[j+1] = temp\n",
    "lst\n",
    "### Time Complexity: O(n^2)"
   ]
  },
  {
   "attachments": {},
   "cell_type": "markdown",
   "metadata": {},
   "source": [
    "### Selection Sort"
   ]
  },
  {
   "attachments": {},
   "cell_type": "markdown",
   "metadata": {},
   "source": [
    "On every iteration the smallest element is found, and then that element is swaped with the first element., likewise swapping always happens after the smallest element is found. So unneccessary swaping is not done."
   ]
  },
  {
   "cell_type": "code",
   "execution_count": 31,
   "metadata": {},
   "outputs": [
    {
     "data": {
      "text/plain": [
       "[1, 2, 3, 7, 8]"
      ]
     },
     "execution_count": 31,
     "metadata": {},
     "output_type": "execute_result"
    }
   ],
   "source": [
    "lst = [7,8,3,1,2]\n",
    "\n",
    "for i in range(len(lst)):\n",
    "    smallest = i\n",
    "    for j in range(i,len(lst)):\n",
    "        if lst[j] < lst[smallest]:\n",
    "            smallest = j\n",
    "    temp = lst[i]\n",
    "    lst[i] = lst[smallest]\n",
    "    lst[smallest] = temp\n",
    "\n",
    "lst\n",
    "### Time Complexity O(n^2)"
   ]
  },
  {
   "attachments": {},
   "cell_type": "markdown",
   "metadata": {},
   "source": [
    "### Insertion Sort"
   ]
  },
  {
   "cell_type": "code",
   "execution_count": 32,
   "metadata": {},
   "outputs": [
    {
     "data": {
      "text/plain": [
       "[1, 2, 3, 7, 8]"
      ]
     },
     "execution_count": 32,
     "metadata": {},
     "output_type": "execute_result"
    }
   ],
   "source": [
    "lst = [7,8,3,1,2]\n",
    "\n",
    "for i in range(1, len(lst)):\n",
    "    curr = lst[i]\n",
    "    j = i-1\n",
    "    while (j>=0) & (lst[j] > curr):\n",
    "        lst[j+1] = lst[j]\n",
    "        j-=1\n",
    "\n",
    "    lst[j+1] = curr\n",
    "\n",
    "lst"
   ]
  },
  {
   "cell_type": "code",
   "execution_count": null,
   "metadata": {},
   "outputs": [],
   "source": []
  },
  {
   "attachments": {},
   "cell_type": "markdown",
   "metadata": {},
   "source": [
    "# Merge Sort"
   ]
  },
  {
   "attachments": {},
   "cell_type": "markdown",
   "metadata": {},
   "source": [
    "Based on the concept of Divide and Conquer"
   ]
  },
  {
   "cell_type": "code",
   "execution_count": 52,
   "metadata": {},
   "outputs": [
    {
     "name": "stdout",
     "output_type": "stream",
     "text": [
      "Given array is\n",
      "6 3 9 5 2 8 \n",
      "Sorted array is: \n",
      "2 3 5 6 8 9 \n"
     ]
    }
   ],
   "source": [
    "## Time Complexity: O(nlogn)\n",
    "\n",
    "# def divide(lst, si, ei):\n",
    "#     ## O(logn)\n",
    "#     if si >= ei:\n",
    "#         return\n",
    "#     # mid = int(si + (si - ei)/2)  ### (si + ei)/2\n",
    "#     mid = len(lst) // 2\n",
    "#     print(si, ei, mid)\n",
    "#     divide(lst, si, mid)\n",
    "#     divide(lst, mid+1, ei)\n",
    "#     conquer(lst, si, mid, ei)\n",
    "\n",
    "\n",
    "# def conquer(lst, si, mid, ei):\n",
    "#     merged = []\n",
    "#     idx1 = si\n",
    "#     idx2 = mid + 1\n",
    "#     x = 0\n",
    "    \n",
    "#     ## O(n)\n",
    "#     while (idx1 <= mid & idx2  <= ei):\n",
    "#         if lst[idx1] <= lst[idx2]:\n",
    "#             merged[x] = lst[idx1]\n",
    "#             x+=1\n",
    "#             idx1+=1\n",
    "#         else:\n",
    "#             merged[x] = lst[idx2]\n",
    "#             x+=1\n",
    "#             idx2+=1\n",
    "    \n",
    "#     while idx1 <= mid:\n",
    "#         merged[x] = lst[idx1]\n",
    "#         x+=1\n",
    "#         idx1+=1\n",
    "\n",
    "#     while idx2 <= ei:\n",
    "#         merged[x] = lst[idx2]\n",
    "#         x+=1\n",
    "#         idx2+=1\n",
    "\n",
    "#     j = si\n",
    "#     for i in range(len(merged)):\n",
    "#         lst[j] = merged[i]\n",
    "#         j+=1\n",
    "\n",
    "\n",
    "def mergeSort(lst):\n",
    "    if len(lst) == 1:\n",
    "        return\n",
    "    mid =  len(lst)//2\n",
    "    L = lst[:mid]\n",
    "    R = lst[mid:]\n",
    "\n",
    "    ## sorting the first half\n",
    "    mergeSort(L)\n",
    "\n",
    "    ## sorting the second half\n",
    "    mergeSort(R)\n",
    "\n",
    "    i = j = k = 0\n",
    " \n",
    "    # Copy data to temp arrays L[] and R[]\n",
    "    while i < len(L) and j < len(R):\n",
    "        if L[i] <= R[j]:\n",
    "            lst[k] = L[i]\n",
    "            i += 1\n",
    "        else:\n",
    "            lst[k] = R[j]\n",
    "            j += 1\n",
    "        k += 1\n",
    "\n",
    "    # Checking if any element was left\n",
    "    while i < len(L):\n",
    "        lst[k] = L[i]\n",
    "        i += 1\n",
    "        k += 1\n",
    "\n",
    "    while j < len(R):\n",
    "        lst[k] = R[j]\n",
    "        j += 1\n",
    "        k += 1\n",
    "    \n",
    "def printList(arr):\n",
    "    for i in range(len(arr)):\n",
    "        print(arr[i], end=\" \")\n",
    "    print()\n",
    "\n",
    "\n",
    "lst = [6, 3, 9, 5, 2, 8]\n",
    "print(\"Given array is\", end=\"\\n\")\n",
    "printList(lst)\n",
    "mergeSort(lst)\n",
    "print(\"Sorted array is: \", end=\"\\n\")\n",
    "printList(lst)"
   ]
  },
  {
   "cell_type": "code",
   "execution_count": null,
   "metadata": {},
   "outputs": [],
   "source": []
  },
  {
   "attachments": {},
   "cell_type": "markdown",
   "metadata": {},
   "source": [
    "### Quick Sort"
   ]
  },
  {
   "attachments": {},
   "cell_type": "markdown",
   "metadata": {},
   "source": [
    "Pivot and Partition"
   ]
  },
  {
   "attachments": {},
   "cell_type": "markdown",
   "metadata": {},
   "source": [
    "Take the last element as a Pivot"
   ]
  },
  {
   "cell_type": "code",
   "execution_count": 54,
   "metadata": {},
   "outputs": [],
   "source": [
    "def partition(arr, low, high):\n",
    "    pivot = arr[high]\n",
    "    i = low-1\n",
    "    \n",
    "    for j in range(low, high):\n",
    "        if arr[j] < pivot:\n",
    "            i+=1\n",
    "\n",
    "            ## swap\n",
    "            temp = arr[i]\n",
    "            arr[i] = arr[j]\n",
    "            arr[j] = temp\n",
    "\n",
    "    i+=1\n",
    "    temp = arr[i]\n",
    "    arr[i] = pivot\n",
    "    arr[high] = temp\n",
    "    return i\n",
    "\n",
    "def quickSort(arr, low, high):\n",
    "    if low < high:\n",
    "        pivot_idx = partition(arr, low, high)\n",
    "\n",
    "        quickSort(arr, low, pivot_idx-1)\n",
    "        quickSort(arr, pivot_idx+1, high)\n"
   ]
  },
  {
   "cell_type": "code",
   "execution_count": 56,
   "metadata": {},
   "outputs": [
    {
     "name": "stdout",
     "output_type": "stream",
     "text": [
      "2 3 5 6 8 9 "
     ]
    }
   ],
   "source": [
    "\n",
    "arr = [6,3,9,5,2,8]\n",
    "quickSort(arr, low=0, high=len(lst)-1)\n",
    "\n",
    "for i in range(len(arr)):\n",
    "    print(arr[i], end=' ')"
   ]
  },
  {
   "cell_type": "code",
   "execution_count": 57,
   "metadata": {},
   "outputs": [
    {
     "data": {
      "text/plain": [
       "[2, 3, 5, 6, 8, 9]"
      ]
     },
     "execution_count": 57,
     "metadata": {},
     "output_type": "execute_result"
    }
   ],
   "source": [
    "arr"
   ]
  },
  {
   "cell_type": "code",
   "execution_count": 58,
   "metadata": {},
   "outputs": [],
   "source": [
    "### Time Complexity: O(nlogn) - Average Case | O(n^2) - Worst Case\n",
    "## Worst Case occurs when pivot is always the smallest or the largest element."
   ]
  },
  {
   "cell_type": "code",
   "execution_count": null,
   "metadata": {},
   "outputs": [],
   "source": []
  }
 ],
 "metadata": {
  "kernelspec": {
   "display_name": "base",
   "language": "python",
   "name": "python3"
  },
  "language_info": {
   "codemirror_mode": {
    "name": "ipython",
    "version": 3
   },
   "file_extension": ".py",
   "mimetype": "text/x-python",
   "name": "python",
   "nbconvert_exporter": "python",
   "pygments_lexer": "ipython3",
   "version": "3.8.8 (default, Apr 13 2021, 15:08:03) [MSC v.1916 64 bit (AMD64)]"
  },
  "orig_nbformat": 4,
  "vscode": {
   "interpreter": {
    "hash": "0d36738efb02b46f2291bc18f32076806b70360f2bce5d987cd2b90be755e1b9"
   }
  }
 },
 "nbformat": 4,
 "nbformat_minor": 2
}
