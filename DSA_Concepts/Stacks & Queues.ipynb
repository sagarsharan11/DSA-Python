{
 "cells": [
  {
   "attachments": {},
   "cell_type": "markdown",
   "metadata": {},
   "source": [
    "# Stacks"
   ]
  },
  {
   "attachments": {
    "image.png": {
     "image/png": "[encoded data removed]"
    }
   },
   "cell_type": "markdown",
   "metadata": {},
   "source": [
    "![image.png](attachment:image.png)"
   ]
  },
  {
   "attachments": {},
   "cell_type": "markdown",
   "metadata": {},
   "source": [
    "Stack is a linear data structure, that is open at one end only, the order may be LIFO(Last In First Out) or FILO(First In Last Out)."
   ]
  },
  {
   "attachments": {},
   "cell_type": "markdown",
   "metadata": {},
   "source": [
    "To implement the stack, it is required to maintain the pointer to the top of the stack, which is the last element to be inserted because we can access the elements only on the top of the stack."
   ]
  },
  {
   "attachments": {},
   "cell_type": "markdown",
   "metadata": {},
   "source": [
    "* push() to insert an element into the stack\n",
    "* pop() to remove an element from the stack\n",
    "* top() Returns the top element of the stack.\n",
    "* isEmpty() returns true if stack is empty else false.\n",
    "* size() returns the size of stack."
   ]
  },
  {
   "attachments": {},
   "cell_type": "markdown",
   "metadata": {},
   "source": [
    "Ideally push, pop, top should only take O(1)"
   ]
  },
  {
   "attachments": {},
   "cell_type": "markdown",
   "metadata": {},
   "source": [
    "In Stack top/last element is the most important one."
   ]
  },
  {
   "attachments": {},
   "cell_type": "markdown",
   "metadata": {},
   "source": [
    "### Stacks using Arrays/Lists"
   ]
  },
  {
   "cell_type": "code",
   "execution_count": 7,
   "metadata": {},
   "outputs": [],
   "source": [
    "def createStack():\n",
    "\tstack = []\n",
    "\treturn stack\n",
    "\n",
    "def isEmpty(stack):\n",
    "\treturn len(stack) == 0\n",
    "\n",
    "def push(stack, item):\n",
    "\tstack.append(item)\n",
    "\tprint(item + \" pushed to stack \")\n",
    "\n",
    "def pop(stack):\n",
    "\tif (isEmpty(stack)):\n",
    "\t\treturn -1 # return minus infinite\n",
    "\treturn stack.pop()\n",
    "\n",
    "def peek(stack):\n",
    "\tif (isEmpty(stack)):\n",
    "\t\treturn -1 # return minus infinite\n",
    "\treturn stack[len(stack) - 1]"
   ]
  },
  {
   "cell_type": "code",
   "execution_count": 8,
   "metadata": {},
   "outputs": [
    {
     "name": "stdout",
     "output_type": "stream",
     "text": [
      "10 pushed to stack \n",
      "20 pushed to stack \n",
      "30 pushed to stack \n",
      "30 popped from stack\n"
     ]
    }
   ],
   "source": [
    "# Driver program to test above functions\n",
    "stack = createStack()\n",
    "push(stack, str(10))\n",
    "push(stack, str(20))\n",
    "push(stack, str(30))\n",
    "print(pop(stack) + \" popped from stack\")"
   ]
  },
  {
   "cell_type": "code",
   "execution_count": 13,
   "metadata": {},
   "outputs": [],
   "source": [
    "#### Stack Using a normal Lists"
   ]
  },
  {
   "cell_type": "code",
   "execution_count": 9,
   "metadata": {},
   "outputs": [
    {
     "name": "stdout",
     "output_type": "stream",
     "text": [
      "Initial stack\n",
      "['a', 'b', 'c']\n"
     ]
    }
   ],
   "source": [
    "stack = []\n",
    "\n",
    "stack.append('a')\n",
    "stack.append('b')\n",
    "stack.append('c')\n",
    "\n",
    "print('Initial stack')\n",
    "print(stack)"
   ]
  },
  {
   "cell_type": "code",
   "execution_count": 10,
   "metadata": {},
   "outputs": [
    {
     "name": "stdout",
     "output_type": "stream",
     "text": [
      "\n",
      "Elements popped from stack:\n",
      "c\n"
     ]
    }
   ],
   "source": [
    "# LIFO order\n",
    "print('\\nElements popped from stack:')\n",
    "print(stack.pop())"
   ]
  },
  {
   "cell_type": "code",
   "execution_count": 11,
   "metadata": {},
   "outputs": [
    {
     "name": "stdout",
     "output_type": "stream",
     "text": [
      "b\n",
      "a\n",
      "\n",
      "Stack after elements are popped:\n",
      "[]\n"
     ]
    }
   ],
   "source": [
    "print(stack.pop())\n",
    "print(stack.pop())\n",
    "\n",
    "print('\\nStack after elements are popped:')\n",
    "print(stack)\n",
    "\n",
    "# uncommenting print(stack.pop())\n",
    "# will cause an IndexError\n",
    "# as the stack is now empty"
   ]
  },
  {
   "cell_type": "code",
   "execution_count": 12,
   "metadata": {},
   "outputs": [
    {
     "ename": "IndexError",
     "evalue": "pop from empty list",
     "output_type": "error",
     "traceback": [
      "\u001b[1;31m---------------------------------------------------------------------------\u001b[0m",
      "\u001b[1;31mIndexError\u001b[0m                                Traceback (most recent call last)",
      "\u001b[1;32m<ipython-input-12-7b721186bb76>\u001b[0m in \u001b[0;36m<module>\u001b[1;34m\u001b[0m\n\u001b[1;32m----> 1\u001b[1;33m \u001b[0mprint\u001b[0m\u001b[1;33m(\u001b[0m\u001b[0mstack\u001b[0m\u001b[1;33m.\u001b[0m\u001b[0mpop\u001b[0m\u001b[1;33m(\u001b[0m\u001b[1;33m)\u001b[0m\u001b[1;33m)\u001b[0m\u001b[1;33m\u001b[0m\u001b[1;33m\u001b[0m\u001b[0m\n\u001b[0m",
      "\u001b[1;31mIndexError\u001b[0m: pop from empty list"
     ]
    }
   ],
   "source": [
    "print(stack.pop())"
   ]
  },
  {
   "attachments": {},
   "cell_type": "markdown",
   "metadata": {},
   "source": [
    "## Stack using singly LinkedList"
   ]
  },
  {
   "attachments": {},
   "cell_type": "markdown",
   "metadata": {},
   "source": [
    "In Stack the Head Node is always the Last/Top Element."
   ]
  },
  {
   "cell_type": "code",
   "execution_count": 32,
   "metadata": {},
   "outputs": [],
   "source": [
    "# Python program to demonstrate\n",
    "# stack implementation using a linked list.\n",
    "# node class\n",
    "\n",
    "class Node:\n",
    "\tdef __init__(self, data):\n",
    "\t\tself.data = data\n",
    "\t\tself.next = None\n",
    "\n",
    "\n",
    "class Stack:\n",
    "\n",
    "\t# Initializing a stack.\n",
    "\t# Use a dummy node, which is\n",
    "\t# easier for handling edge cases.\n",
    "\tdef __init__(self):\n",
    "\t\tself.head = None\n",
    "\t\t# self.size = 0\n",
    "\n",
    "\t# String representation of the stack\n",
    "\tdef __str__(self):\n",
    "\t\tcur = self.head\n",
    "\t\tout = \"\"\n",
    "\t\twhile cur:\n",
    "\t\t\tout += str(cur.data) + \"->\"\n",
    "\t\t\tcur = cur.next\n",
    "\t\treturn out[:-3]\n",
    "\n",
    "\t# Get the current size of the stack\n",
    "\t# def getSize(self):\n",
    "\t# \treturn self.size\n",
    "\n",
    "\t# Check if the stack is empty\n",
    "\tdef isEmpty(self):\n",
    "\t\treturn self.head == None\n",
    "\n",
    "\t# Get the top item of the stack\n",
    "\tdef peek(self):\n",
    "\t\t# Sanitary check to see if we\n",
    "\t\t# are peeking an empty stack.\n",
    "\t\tif self.isEmpty():\n",
    "\t\t\traise Exception(\"Peeking from an empty stack\")\n",
    "\t\treturn self.head.next.data\n",
    "\n",
    "\t# Push a value into the stack.\n",
    "\tdef push(self, data):\n",
    "\t\tnode = Node(data)\n",
    "\t\tif self.isEmpty():\n",
    "\t\t\tself.head = node\n",
    "\t\tnode.next = self.head\n",
    "\t\tself.head = node\n",
    "\t\t# self.size += 1\n",
    "\n",
    "\t# Remove a value from the stack and return.\n",
    "\tdef pop(self):\n",
    "\t\tif self.isEmpty():\n",
    "\t\t\traise Exception(\"Popping from an empty stack\")\n",
    "\t\telse:\n",
    "\t\t\tremove = self.head\n",
    "\t\t\tself.head = self.head.next\n",
    "\t\t\t# self.size -= 1\n",
    "\t\t\treturn remove.data\n"
   ]
  },
  {
   "cell_type": "code",
   "execution_count": 36,
   "metadata": {},
   "outputs": [
    {
     "name": "stdout",
     "output_type": "stream",
     "text": [
      "Pop: 10\n",
      "Pop: 9\n",
      "Pop: 8\n",
      "Pop: 7\n",
      "Pop: 6\n"
     ]
    }
   ],
   "source": [
    "stack = Stack()\n",
    "for i in range(1, 11):\n",
    "    stack.push(i)\n",
    "# print(f\"Stack: {stack}\")\n",
    "\n",
    "for _ in range(1, 6):\n",
    "    remove = stack.pop()\n",
    "    print(f\"Pop: {remove}\")\n",
    "# print(f\"Stack: {stack}\")"
   ]
  },
  {
   "cell_type": "code",
   "execution_count": null,
   "metadata": {},
   "outputs": [],
   "source": []
  },
  {
   "attachments": {},
   "cell_type": "markdown",
   "metadata": {},
   "source": [
    "### Most Efficient Way of Implementing Stacks"
   ]
  },
  {
   "attachments": {},
   "cell_type": "markdown",
   "metadata": {},
   "source": [
    "In coding competetions"
   ]
  },
  {
   "attachments": {},
   "cell_type": "markdown",
   "metadata": {},
   "source": [
    "Python stack can be implemented using the deque class from the collections module. Deque is preferred over the list in the cases where we need quicker \"append\" and \"pop\" operations from both the ends of the container\n",
    "* As deque provides an O(1) time complexity for append and pop operations as compared to list \n",
    "* List provides O(n) time complexity"
   ]
  },
  {
   "cell_type": "code",
   "execution_count": 37,
   "metadata": {},
   "outputs": [
    {
     "data": {
      "text/plain": [
       "collections.deque"
      ]
     },
     "execution_count": 37,
     "metadata": {},
     "output_type": "execute_result"
    }
   ],
   "source": [
    "from collections import deque\n",
    "\n",
    "stack = deque()\n",
    "type(stack)"
   ]
  },
  {
   "cell_type": "code",
   "execution_count": 38,
   "metadata": {},
   "outputs": [],
   "source": [
    "stack.append('a')\n",
    "stack.append('b')\n",
    "stack.append('c')"
   ]
  },
  {
   "cell_type": "code",
   "execution_count": 39,
   "metadata": {},
   "outputs": [
    {
     "name": "stdout",
     "output_type": "stream",
     "text": [
      "Initial stack\n",
      "deque(['a', 'b', 'c'])\n"
     ]
    }
   ],
   "source": [
    "print('Initial stack')\n",
    "print(stack)"
   ]
  },
  {
   "cell_type": "code",
   "execution_count": 40,
   "metadata": {},
   "outputs": [
    {
     "name": "stdout",
     "output_type": "stream",
     "text": [
      "\n",
      "Elements popped from stack:\n",
      "c\n",
      "b\n",
      "a\n",
      "\n",
      "Stack after elements are popped:\n",
      "deque([])\n"
     ]
    }
   ],
   "source": [
    "print('\\nElements popped from stack:')\n",
    "print(stack.pop())\n",
    "print(stack.pop())\n",
    "print(stack.pop())\n",
    " \n",
    "print('\\nStack after elements are popped:')\n",
    "print(stack)"
   ]
  },
  {
   "cell_type": "code",
   "execution_count": 41,
   "metadata": {},
   "outputs": [
    {
     "name": "stdout",
     "output_type": "stream",
     "text": [
      "deque([1, 2, 3, 4, 5, 6, 7, 8, 9, 10])\n"
     ]
    }
   ],
   "source": [
    "for i in range(1, 11):\n",
    "    stack.append(i)\n",
    "print(stack)"
   ]
  },
  {
   "cell_type": "code",
   "execution_count": 43,
   "metadata": {},
   "outputs": [
    {
     "ename": "AttributeError",
     "evalue": "'collections.deque' object has no attribute 'top'",
     "output_type": "error",
     "traceback": [
      "\u001b[1;31m---------------------------------------------------------------------------\u001b[0m",
      "\u001b[1;31mAttributeError\u001b[0m                            Traceback (most recent call last)",
      "\u001b[1;32m<ipython-input-43-79cc5bb7c82a>\u001b[0m in \u001b[0;36m<module>\u001b[1;34m\u001b[0m\n\u001b[1;32m----> 1\u001b[1;33m \u001b[0mstack\u001b[0m\u001b[1;33m.\u001b[0m\u001b[0mtop\u001b[0m\u001b[1;33m(\u001b[0m\u001b[1;33m)\u001b[0m\u001b[1;33m\u001b[0m\u001b[1;33m\u001b[0m\u001b[0m\n\u001b[0m",
      "\u001b[1;31mAttributeError\u001b[0m: 'collections.deque' object has no attribute 'top'"
     ]
    }
   ],
   "source": [
    "stack.top()"
   ]
  },
  {
   "cell_type": "code",
   "execution_count": 44,
   "metadata": {},
   "outputs": [
    {
     "data": {
      "text/plain": [
       "10"
      ]
     },
     "execution_count": 44,
     "metadata": {},
     "output_type": "execute_result"
    }
   ],
   "source": [
    "stack.pop()"
   ]
  },
  {
   "cell_type": "code",
   "execution_count": 45,
   "metadata": {},
   "outputs": [
    {
     "data": {
      "text/plain": [
       "deque([1, 2, 3, 4, 5, 6, 7, 8, 9])"
      ]
     },
     "execution_count": 45,
     "metadata": {},
     "output_type": "execute_result"
    }
   ],
   "source": [
    "stack"
   ]
  },
  {
   "cell_type": "code",
   "execution_count": 46,
   "metadata": {},
   "outputs": [
    {
     "data": {
      "text/plain": [
       "deque([2, 3, 4, 5, 6, 7, 8, 9])"
      ]
     },
     "execution_count": 46,
     "metadata": {},
     "output_type": "execute_result"
    }
   ],
   "source": [
    "stack.popleft()\n",
    "stack"
   ]
  },
  {
   "cell_type": "code",
   "execution_count": 47,
   "metadata": {},
   "outputs": [
    {
     "data": {
      "text/plain": [
       "deque([9, 8, 7, 6, 5, 4, 3, 2])"
      ]
     },
     "execution_count": 47,
     "metadata": {},
     "output_type": "execute_result"
    }
   ],
   "source": [
    "stack.reverse()\n",
    "stack"
   ]
  },
  {
   "cell_type": "code",
   "execution_count": 48,
   "metadata": {},
   "outputs": [
    {
     "data": {
      "text/plain": [
       "deque([2, 9, 8, 7, 6, 5, 4, 3])"
      ]
     },
     "execution_count": 48,
     "metadata": {},
     "output_type": "execute_result"
    }
   ],
   "source": [
    "stack.rotate()\n",
    "stack"
   ]
  },
  {
   "cell_type": "code",
   "execution_count": 49,
   "metadata": {},
   "outputs": [
    {
     "data": {
      "text/plain": [
       "3"
      ]
     },
     "execution_count": 49,
     "metadata": {},
     "output_type": "execute_result"
    }
   ],
   "source": [
    "stack[-1]"
   ]
  },
  {
   "cell_type": "code",
   "execution_count": 53,
   "metadata": {},
   "outputs": [
    {
     "data": {
      "text/plain": [
       "4"
      ]
     },
     "execution_count": 53,
     "metadata": {},
     "output_type": "execute_result"
    }
   ],
   "source": [
    "stack[6]"
   ]
  },
  {
   "cell_type": "code",
   "execution_count": 54,
   "metadata": {},
   "outputs": [
    {
     "ename": "TypeError",
     "evalue": "sequence index must be integer, not 'slice'",
     "output_type": "error",
     "traceback": [
      "\u001b[1;31m---------------------------------------------------------------------------\u001b[0m",
      "\u001b[1;31mTypeError\u001b[0m                                 Traceback (most recent call last)",
      "\u001b[1;32m<ipython-input-54-3541ab75237b>\u001b[0m in \u001b[0;36m<module>\u001b[1;34m\u001b[0m\n\u001b[1;32m----> 1\u001b[1;33m \u001b[0mstack\u001b[0m\u001b[1;33m[\u001b[0m\u001b[1;33m:\u001b[0m\u001b[1;36m6\u001b[0m\u001b[1;33m]\u001b[0m\u001b[1;33m\u001b[0m\u001b[1;33m\u001b[0m\u001b[0m\n\u001b[0m",
      "\u001b[1;31mTypeError\u001b[0m: sequence index must be integer, not 'slice'"
     ]
    }
   ],
   "source": [
    "stack[:6]"
   ]
  },
  {
   "cell_type": "code",
   "execution_count": null,
   "metadata": {},
   "outputs": [],
   "source": []
  },
  {
   "attachments": {},
   "cell_type": "markdown",
   "metadata": {},
   "source": [
    "#### Question: Push at the bottom of the stack"
   ]
  },
  {
   "cell_type": "code",
   "execution_count": 77,
   "metadata": {},
   "outputs": [],
   "source": [
    "def pushAtBottom(data, stack):\n",
    "    if (len(stack) == 0):\n",
    "        stack.append(data)\n",
    "        return\n",
    "    top = stack.pop()\n",
    "    pushAtBottom(data, stack)\n",
    "    stack.append(top)"
   ]
  },
  {
   "cell_type": "code",
   "execution_count": 78,
   "metadata": {},
   "outputs": [],
   "source": [
    "from collections import deque\n",
    "stack = deque()\n",
    "\n",
    "stack.append(1)\n",
    "stack.append(2)\n",
    "stack.append(3)"
   ]
  },
  {
   "cell_type": "code",
   "execution_count": 79,
   "metadata": {},
   "outputs": [
    {
     "data": {
      "text/plain": [
       "deque([1, 2, 3])"
      ]
     },
     "execution_count": 79,
     "metadata": {},
     "output_type": "execute_result"
    }
   ],
   "source": [
    "stack"
   ]
  },
  {
   "cell_type": "code",
   "execution_count": 80,
   "metadata": {},
   "outputs": [
    {
     "data": {
      "text/plain": [
       "3"
      ]
     },
     "execution_count": 80,
     "metadata": {},
     "output_type": "execute_result"
    }
   ],
   "source": [
    "len(stack)"
   ]
  },
  {
   "cell_type": "code",
   "execution_count": 81,
   "metadata": {},
   "outputs": [],
   "source": [
    "pushAtBottom(20, stack)"
   ]
  },
  {
   "cell_type": "code",
   "execution_count": 82,
   "metadata": {},
   "outputs": [
    {
     "data": {
      "text/plain": [
       "deque([20, 1, 2, 3])"
      ]
     },
     "execution_count": 82,
     "metadata": {},
     "output_type": "execute_result"
    }
   ],
   "source": [
    "stack"
   ]
  },
  {
   "attachments": {},
   "cell_type": "markdown",
   "metadata": {},
   "source": [
    "### Question: Reverse a stack"
   ]
  },
  {
   "attachments": {},
   "cell_type": "markdown",
   "metadata": {},
   "source": [
    "Approach 1: Pop element of a stack and store it in a new stack\n",
    "Approach 2: Parallel process, "
   ]
  },
  {
   "cell_type": "code",
   "execution_count": 83,
   "metadata": {},
   "outputs": [],
   "source": [
    "def reverseStack(stack):\n",
    "    if len(stack)==0:\n",
    "        return\n",
    "    top = stack.pop()\n",
    "    reverseStack(stack)\n",
    "    pushAtBottom(top, stack)"
   ]
  },
  {
   "cell_type": "code",
   "execution_count": 84,
   "metadata": {},
   "outputs": [],
   "source": [
    "from collections import deque\n",
    "stack = deque()\n",
    "\n",
    "stack.append(1)\n",
    "stack.append(2)\n",
    "stack.append(3)"
   ]
  },
  {
   "cell_type": "code",
   "execution_count": 85,
   "metadata": {},
   "outputs": [],
   "source": [
    "reverseStack(stack)"
   ]
  },
  {
   "cell_type": "code",
   "execution_count": 86,
   "metadata": {},
   "outputs": [
    {
     "data": {
      "text/plain": [
       "deque([3, 2, 1])"
      ]
     },
     "execution_count": 86,
     "metadata": {},
     "output_type": "execute_result"
    }
   ],
   "source": [
    "stack"
   ]
  },
  {
   "cell_type": "code",
   "execution_count": null,
   "metadata": {},
   "outputs": [],
   "source": []
  },
  {
   "attachments": {},
   "cell_type": "markdown",
   "metadata": {},
   "source": [
    "# Queues"
   ]
  },
  {
   "attachments": {
    "image.png": {
     "image/png": "[encoded data removed]"
    }
   },
   "cell_type": "markdown",
   "metadata": {},
   "source": [
    "![image.png](attachment:image.png)"
   ]
  },
  {
   "attachments": {},
   "cell_type": "markdown",
   "metadata": {},
   "source": [
    "A Queue is defined as a linear data structure that is open at both ends and the operations are performed in First In First Out (FIFO) order."
   ]
  },
  {
   "attachments": {},
   "cell_type": "markdown",
   "metadata": {},
   "source": [
    "Deque : Double ended queue, both ends are front and rear"
   ]
  },
  {
   "attachments": {},
   "cell_type": "markdown",
   "metadata": {},
   "source": [
    "Operation of Queue\n",
    "* Add : Enque | Adding elements\n",
    "* Remove : Dequeue | removing elements\n",
    "* Peek / Top : Front"
   ]
  },
  {
   "attachments": {},
   "cell_type": "markdown",
   "metadata": {},
   "source": [
    "Impletation of Queue"
   ]
  },
  {
   "attachments": {},
   "cell_type": "markdown",
   "metadata": {},
   "source": [
    "### Queue using Array/List"
   ]
  },
  {
   "cell_type": "code",
   "execution_count": 50,
   "metadata": {},
   "outputs": [],
   "source": [
    "class Queue:\n",
    "\tdef __init__(self, n):\n",
    "\t\tself.front = self.size = 0\n",
    "\t\tself.rear = -1\n",
    "\t\tself.Q = [None]*n\n",
    "\t\tself.n = n\n",
    "\n",
    "\tdef isEmpty(self):\n",
    "\t\treturn self.size == 0\n",
    "\n",
    "\tdef enque(self, data):\n",
    "\t\tif self.size == self.n:\n",
    "\t\t\tprint(\"Full Queue\")\n",
    "\t\t\treturn\n",
    "\t\tself.rear += 1\n",
    "\t\tself.Q[self.rear] = data\n",
    "\t\tself.size += 1\n",
    "\n",
    "\tdef dequeue(self):\n",
    "\t\tif (self.isEmpty()):\n",
    "\t\t\tprint(\"Empty Queue\")\n",
    "\t\t\treturn # return minus infinite\n",
    "\t\tprint(\"{} dequeued from queue\".format(str(self.Q[self.front])))\n",
    "\t\tfor i in range(self.size):\n",
    "\t\t\tself.Q[i] = self.Q[i+1]\n",
    "\t\tself.front += 1\n",
    "\t\tself.size -= 1\n",
    "\n",
    "\tdef peek(self):\n",
    "\t\tif (isEmpty()):\n",
    "\t\t\tprint(\"Empty Queue\")\n",
    "\t\t\treturn # return minus infinit\n",
    "\t\treturn self.Q[self.front]"
   ]
  },
  {
   "cell_type": "code",
   "execution_count": 51,
   "metadata": {},
   "outputs": [
    {
     "name": "stdout",
     "output_type": "stream",
     "text": [
      "[None, None, None, None, None, None, None, None, None, None, None, None, None, None, None, None, None, None, None, None, None, None, None, None, None, None, None, None, None, None]\n"
     ]
    }
   ],
   "source": [
    "queue = Queue(30)\n",
    "print(queue.Q)"
   ]
  },
  {
   "cell_type": "code",
   "execution_count": 52,
   "metadata": {},
   "outputs": [],
   "source": [
    "queue.enque(10)\n",
    "queue.enque(20)\n",
    "queue.enque(30)\n",
    "queue.enque(40)"
   ]
  },
  {
   "cell_type": "code",
   "execution_count": 53,
   "metadata": {},
   "outputs": [
    {
     "name": "stdout",
     "output_type": "stream",
     "text": [
      "[10, 20, 30, 40, None, None, None, None, None, None, None, None, None, None, None, None, None, None, None, None, None, None, None, None, None, None, None, None, None, None]\n"
     ]
    }
   ],
   "source": [
    "print(queue.Q)"
   ]
  },
  {
   "cell_type": "code",
   "execution_count": 54,
   "metadata": {},
   "outputs": [
    {
     "name": "stdout",
     "output_type": "stream",
     "text": [
      "[10, 20, 30, 40, 'Sagar', None, None, None, None, None, None, None, None, None, None, None, None, None, None, None, None, None, None, None, None, None, None, None, None, None]\n"
     ]
    }
   ],
   "source": [
    "queue.enque(\"Sagar\")\n",
    "\n",
    "print(queue.Q)"
   ]
  },
  {
   "cell_type": "code",
   "execution_count": 55,
   "metadata": {},
   "outputs": [
    {
     "name": "stdout",
     "output_type": "stream",
     "text": [
      "10 dequeued from queue\n",
      "[20, 30, 40, 'Sagar', None, None, None, None, None, None, None, None, None, None, None, None, None, None, None, None, None, None, None, None, None, None, None, None, None, None]\n"
     ]
    }
   ],
   "source": [
    "queue.dequeue()\n",
    "print(queue.Q)"
   ]
  },
  {
   "attachments": {},
   "cell_type": "markdown",
   "metadata": {},
   "source": [
    "### Circular Queue using Array/List"
   ]
  },
  {
   "cell_type": "code",
   "execution_count": 77,
   "metadata": {},
   "outputs": [],
   "source": [
    "class Queue:\n",
    "\tdef __init__(self, n):\n",
    "\t\tself.front = self.size = 0\n",
    "\t\tself.rear = -1\n",
    "\t\tself.Q = [None]*n\n",
    "\t\tself.n = n\n",
    "\n",
    "\tdef isEmpty(self):\n",
    "\t\treturn self.size == 0\n",
    "\t\n",
    "\tdef isFull(self):\n",
    "\t\treturn self.front == (self.rear + 1) % self.n\n",
    "\t\t\t\n",
    "\tdef enque(self, data):\n",
    "\t\tif self.size == self.n:\n",
    "\t\t\tprint(\"Full Queue\")\n",
    "\t\t\treturn\n",
    "\t\tself.rear = (self.rear + 1) % self.n\n",
    "\t\tself.Q[self.rear] = data\n",
    "\t\tself.size += 1\n",
    "\n",
    "\tdef dequeue(self):\n",
    "\t\tif (self.isEmpty()):\n",
    "\t\t\tprint(\"Empty Queue\")\n",
    "\t\t\treturn # return minus infinite\n",
    "\t\tprint(\"{} dequeued from queue\".format(str(self.Q[self.front])))\n",
    "\t\tself.Q[self.front] = None\n",
    "\t\tself.front = (self.front + 1) % (self.n)\n",
    "\t\tself.size -= 1\n",
    "\n",
    "\tdef peek(self):\n",
    "\t\tif (isEmpty()):\n",
    "\t\t\tprint(\"Empty Queue\")\n",
    "\t\t\treturn # return minus infinit\n",
    "\t\treturn self.Q[self.front]"
   ]
  },
  {
   "cell_type": "code",
   "execution_count": 78,
   "metadata": {},
   "outputs": [
    {
     "name": "stdout",
     "output_type": "stream",
     "text": [
      "[None, None, None, None, None]\n"
     ]
    }
   ],
   "source": [
    "queue = Queue(5)\n",
    "print(queue.Q)"
   ]
  },
  {
   "cell_type": "code",
   "execution_count": 79,
   "metadata": {},
   "outputs": [],
   "source": [
    "queue.enque(10)\n",
    "queue.enque(20)\n",
    "queue.enque(30)\n",
    "queue.enque(40)"
   ]
  },
  {
   "cell_type": "code",
   "execution_count": 80,
   "metadata": {},
   "outputs": [
    {
     "name": "stdout",
     "output_type": "stream",
     "text": [
      "[10, 20, 30, 40, None]\n"
     ]
    }
   ],
   "source": [
    "print(queue.Q)"
   ]
  },
  {
   "cell_type": "code",
   "execution_count": 81,
   "metadata": {},
   "outputs": [],
   "source": [
    "# queue.enque(40)\n",
    "# print(queue.Q)"
   ]
  },
  {
   "cell_type": "code",
   "execution_count": 82,
   "metadata": {},
   "outputs": [],
   "source": [
    "# queue.enque(80)\n",
    "# print(queue.Q)"
   ]
  },
  {
   "cell_type": "code",
   "execution_count": 83,
   "metadata": {},
   "outputs": [
    {
     "name": "stdout",
     "output_type": "stream",
     "text": [
      "10 dequeued from queue\n",
      "[None, 20, 30, 40, None]\n"
     ]
    }
   ],
   "source": [
    "queue.dequeue()\n",
    "print(queue.Q)"
   ]
  },
  {
   "cell_type": "code",
   "execution_count": 84,
   "metadata": {},
   "outputs": [
    {
     "name": "stdout",
     "output_type": "stream",
     "text": [
      "[None, 20, 30, 40, 40]\n"
     ]
    }
   ],
   "source": [
    "queue.enque(40)\n",
    "print(queue.Q)"
   ]
  },
  {
   "cell_type": "code",
   "execution_count": 85,
   "metadata": {},
   "outputs": [
    {
     "data": {
      "text/plain": [
       "(1, 4, 4)"
      ]
     },
     "execution_count": 85,
     "metadata": {},
     "output_type": "execute_result"
    }
   ],
   "source": [
    "queue.front, queue.rear, queue.size"
   ]
  },
  {
   "cell_type": "code",
   "execution_count": 86,
   "metadata": {},
   "outputs": [
    {
     "name": "stdout",
     "output_type": "stream",
     "text": [
      "[80, 20, 30, 40, 40]\n"
     ]
    }
   ],
   "source": [
    "queue.enque(80)\n",
    "print(queue.Q)"
   ]
  },
  {
   "attachments": {},
   "cell_type": "markdown",
   "metadata": {},
   "source": [
    "### Queue using Linked List"
   ]
  },
  {
   "attachments": {},
   "cell_type": "markdown",
   "metadata": {},
   "source": [
    "In Queue we will keep track of both Head and Tail"
   ]
  },
  {
   "cell_type": "code",
   "execution_count": 128,
   "metadata": {},
   "outputs": [],
   "source": [
    "class Node:\n",
    "    def __init__(self, data):\n",
    "        self.data = data\n",
    "        self.next = None\n",
    "\n",
    "class Queue:\n",
    "    def __init__(self):\n",
    "        self.head = self.tail = None\n",
    "\n",
    "    def __str__(self):\n",
    "        if self.isEmpty():\n",
    "            print(\"Empty Queue\")\n",
    "            return \"Queue:: {}->\".format(self.head)\n",
    "        cur = self.head\n",
    "        out = \"\"\n",
    "        while cur:\n",
    "            out += str(cur.data) + \"->\"\n",
    "            cur = cur.next\n",
    "        return \"Queue:: {}\".format(out[:-2])\n",
    "\n",
    "    def isEmpty(self):\n",
    "        return self.head == None\n",
    "\n",
    "    def enque(self, data):\n",
    "        newNode = Node(data)\n",
    "        if self.isEmpty():\n",
    "            self.head = self.tail = newNode\n",
    "        self.tail.next = newNode\n",
    "        self.tail = newNode\n",
    "\n",
    "    def dequeue(self):\n",
    "        if self.isEmpty():\n",
    "            print(\"Empty Queue\")\n",
    "            return\n",
    "        top = self.head\n",
    "        print(\"Removed item '{}' from queue\".format(top.data))\n",
    "        self.head = self.head.next\n",
    "    \n",
    "    def peek(self):\n",
    "        if self.isEmpty():\n",
    "            print(\"Empty Queue\")\n",
    "            return\n",
    "        return self.head.data\n"
   ]
  },
  {
   "cell_type": "code",
   "execution_count": 129,
   "metadata": {},
   "outputs": [
    {
     "name": "stdout",
     "output_type": "stream",
     "text": [
      "Empty Queue\n",
      "Queue:: None->\n"
     ]
    }
   ],
   "source": [
    "queue = Queue()\n",
    "print(queue)"
   ]
  },
  {
   "cell_type": "code",
   "execution_count": 130,
   "metadata": {},
   "outputs": [],
   "source": [
    "queue.enque(10)\n",
    "queue.enque(20)\n",
    "queue.enque(30)\n",
    "queue.enque(40)"
   ]
  },
  {
   "cell_type": "code",
   "execution_count": 131,
   "metadata": {},
   "outputs": [
    {
     "name": "stdout",
     "output_type": "stream",
     "text": [
      "Queue:: 10->20->30->40\n"
     ]
    }
   ],
   "source": [
    "print(queue)"
   ]
  },
  {
   "cell_type": "code",
   "execution_count": 132,
   "metadata": {},
   "outputs": [
    {
     "name": "stdout",
     "output_type": "stream",
     "text": [
      "10\n"
     ]
    }
   ],
   "source": [
    "print(queue.peek())"
   ]
  },
  {
   "cell_type": "code",
   "execution_count": 134,
   "metadata": {},
   "outputs": [
    {
     "name": "stdout",
     "output_type": "stream",
     "text": [
      "Removed item '20' from queue\n",
      "Queue:: 30->40\n"
     ]
    }
   ],
   "source": [
    "queue.dequeue()\n",
    "print(queue)"
   ]
  },
  {
   "attachments": {},
   "cell_type": "markdown",
   "metadata": {},
   "source": [
    "### Implementing Queue using collections module/package in Python"
   ]
  },
  {
   "cell_type": "code",
   "execution_count": 135,
   "metadata": {},
   "outputs": [],
   "source": [
    "from collections import deque"
   ]
  },
  {
   "cell_type": "code",
   "execution_count": 137,
   "metadata": {},
   "outputs": [
    {
     "name": "stdout",
     "output_type": "stream",
     "text": [
      "deque([])\n"
     ]
    }
   ],
   "source": [
    "queue = deque()\n",
    "print(queue)"
   ]
  },
  {
   "cell_type": "code",
   "execution_count": 138,
   "metadata": {},
   "outputs": [
    {
     "name": "stdout",
     "output_type": "stream",
     "text": [
      "deque([10, 20, 30, 40])\n"
     ]
    }
   ],
   "source": [
    "queue.append(10)\n",
    "queue.append(20)\n",
    "queue.append(30)\n",
    "queue.append(40)\n",
    "print(queue)"
   ]
  },
  {
   "cell_type": "code",
   "execution_count": 139,
   "metadata": {},
   "outputs": [
    {
     "name": "stdout",
     "output_type": "stream",
     "text": [
      "deque([20, 30, 40])\n"
     ]
    }
   ],
   "source": [
    "queue.popleft()\n",
    "print(queue)"
   ]
  },
  {
   "cell_type": "code",
   "execution_count": 140,
   "metadata": {},
   "outputs": [
    {
     "name": "stdout",
     "output_type": "stream",
     "text": [
      "deque([20, 30, 40, 'Sagar'])\n"
     ]
    }
   ],
   "source": [
    "queue.append('Sagar')\n",
    "print(queue)"
   ]
  },
  {
   "cell_type": "code",
   "execution_count": 141,
   "metadata": {},
   "outputs": [
    {
     "name": "stdout",
     "output_type": "stream",
     "text": [
      "deque([30, 40, 'Sagar'])\n"
     ]
    }
   ],
   "source": [
    "queue.popleft()\n",
    "print(queue)"
   ]
  },
  {
   "cell_type": "code",
   "execution_count": 10,
   "metadata": {},
   "outputs": [],
   "source": [
    "### Question: Implement Queue using 2 stacks | Push O(n)\n",
    "\n",
    "from collections import deque\n",
    "\n",
    "class Queue:\n",
    "    def __init__(self):\n",
    "        self.stack1 = deque()\n",
    "        self.stack2 = deque()\n",
    "\n",
    "    def isEmpty(self):\n",
    "        return (len(self.stack1)==0) and (len(self.stack2)==0)\n",
    "\n",
    "    def add(self, data):\n",
    "        while len(self.stack1)!=0:\n",
    "            self.stack2.append(self.stack1.pop())\n",
    "        \n",
    "        self.stack1.append(data)\n",
    "\n",
    "        while len(self.stack2)!=0:\n",
    "            self.stack1.append(self.stack2.pop())\n",
    "        \n",
    "    def remove(self):\n",
    "        if self.isEmpty():\n",
    "            print(\"Empty Queue\")\n",
    "            return \n",
    "        self.stack1.pop()\n",
    "\n",
    "    def peek(self):\n",
    "        if self.isEmpty():\n",
    "            print(\"Empty Queue\")\n",
    "            return\n",
    "        return self.stack1[-1]"
   ]
  },
  {
   "cell_type": "code",
   "execution_count": 30,
   "metadata": {},
   "outputs": [],
   "source": [
    "q = Queue()\n",
    "q.add(1)\n",
    "q.add(2)\n",
    "q.add(3)\n",
    "q.add(4)\n",
    "q.add(5)"
   ]
  },
  {
   "cell_type": "code",
   "execution_count": 31,
   "metadata": {},
   "outputs": [],
   "source": [
    "# q.stack1\n",
    "# q.stack2"
   ]
  },
  {
   "cell_type": "code",
   "execution_count": 32,
   "metadata": {},
   "outputs": [
    {
     "name": "stdout",
     "output_type": "stream",
     "text": [
      "1\n",
      "2\n",
      "3\n",
      "4\n",
      "5\n"
     ]
    }
   ],
   "source": [
    "while q.isEmpty() != True:\n",
    "    print(q.peek())\n",
    "    q.remove()"
   ]
  },
  {
   "cell_type": "code",
   "execution_count": null,
   "metadata": {},
   "outputs": [],
   "source": []
  }
 ],
 "metadata": {
  "kernelspec": {
   "display_name": "base",
   "language": "python",
   "name": "python3"
  },
  "language_info": {
   "codemirror_mode": {
    "name": "ipython",
    "version": 3
   },
   "file_extension": ".py",
   "mimetype": "text/x-python",
   "name": "python",
   "nbconvert_exporter": "python",
   "pygments_lexer": "ipython3",
   "version": "3.8.8"
  },
  "orig_nbformat": 4,
  "vscode": {
   "interpreter": {
    "hash": "0d36738efb02b46f2291bc18f32076806b70360f2bce5d987cd2b90be755e1b9"
   }
  }
 },
 "nbformat": 4,
 "nbformat_minor": 2
}
