{
 "cells": [
  {
   "cell_type": "markdown",
   "metadata": {},
   "source": [
    "* Given an array arr[] of size N | Find the prefix sum of the array?? \n",
    "* A prefix sum array is another array prefixSum[] of the same size\n",
    "* The value of prefixSum[i] = arr[0] + arr[1] + arr[2] . . . arr[i]"
   ]
  },
  {
   "cell_type": "markdown",
   "metadata": {},
   "source": [
    "example:\n",
    "> * arr = [10,20,10,5,15]\n",
    "> * prefixSum = [10,30,40,45,60]\n",
    "> * prefixSum[0] = arr[0] | prefixSum[1] = arr[0] + arr[1] | prefixSum[2] = arr[0] + arr[1] + arr[2]"
   ]
  },
  {
   "cell_type": "code",
   "execution_count": 4,
   "metadata": {},
   "outputs": [],
   "source": [
    "def fillPrefixSum(arr, prefixSum):\n",
    "\tprefixSum[0] = arr[0]\n",
    "\tfor i in range(1, len(arr)):\n",
    "\t\tprefixSum[i] = prefixSum[i - 1] + arr[i]"
   ]
  },
  {
   "cell_type": "code",
   "execution_count": 5,
   "metadata": {},
   "outputs": [
    {
     "data": {
      "text/plain": [
       "[0, 0, 0, 0, 0]"
      ]
     },
     "execution_count": 5,
     "metadata": {},
     "output_type": "execute_result"
    }
   ],
   "source": [
    "arr = [10, 4, 16, 20]\n",
    "n = len(arr)\n",
    "\n",
    "prefixSum = [0 for i in range(n + 1)]\n",
    "prefixSum"
   ]
  },
  {
   "cell_type": "code",
   "execution_count": 6,
   "metadata": {},
   "outputs": [
    {
     "name": "stdout",
     "output_type": "stream",
     "text": [
      "10  14  30  50  "
     ]
    }
   ],
   "source": [
    "fillPrefixSum(arr, prefixSum)\n",
    "\n",
    "for i in range(n):\n",
    "\tprint(prefixSum[i], \" \", end=\"\")"
   ]
  },
  {
   "cell_type": "code",
   "execution_count": 7,
   "metadata": {},
   "outputs": [
    {
     "data": {
      "text/plain": [
       "[0, 0, 0, 0, 0, 0, 0, 0]"
      ]
     },
     "execution_count": 7,
     "metadata": {},
     "output_type": "execute_result"
    }
   ],
   "source": [
    "n = 6\n",
    "a = [3, 6, 2, 8, 9, 2]\n",
    "pf = [0 for i in range(n+2)]\n",
    "pf"
   ]
  },
  {
   "cell_type": "code",
   "execution_count": 8,
   "metadata": {},
   "outputs": [
    {
     "name": "stdout",
     "output_type": "stream",
     "text": [
      "8\n",
      "19\n",
      "28\n",
      "21\n"
     ]
    }
   ],
   "source": [
    "for i in range(n):\n",
    "    pf[i + 1] = pf[i] + a[i]\n",
    "\n",
    "q = [[2, 3], [4, 6], [1, 5], [3, 6]]\n",
    "for i in range(4):\n",
    "    l = q[i][0]\n",
    "    r = q[i][1]\n",
    "\n",
    "    # Calculating sum from r to l.\n",
    "    print(pf[r] - pf[l - 1])"
   ]
  },
  {
   "attachments": {},
   "cell_type": "markdown",
   "metadata": {},
   "source": [
    "Prefix sum is the technique where we generate a prefix array, and it's each element at (i + 1)th index stores the cumulative sum of all array elements from index 0 to index i"
   ]
  },
  {
   "attachments": {},
   "cell_type": "markdown",
   "metadata": {},
   "source": [
    "## Example Problem\n",
    "Consider an array of size N with all initial values as 0. Perform the given ‘m’ add operations from index ‘a’ to ‘b’ and evaluate the highest element in the array. An add operation adds 100 to all the elements from a to b (both inclusive)"
   ]
  },
  {
   "attachments": {},
   "cell_type": "markdown",
   "metadata": {},
   "source": [
    "* Input: n = 5, m = 3 | a = 2, b = 4 | a = 1, b = 3 | a = 1, b = 2\n",
    "* Output: 300\n",
    "* Explanation: After I operation – A[] = {0, 100, 100, 100, 0} | After II operation – A[] = {100, 200, 200, 100, 0} | After III operation – A[] = {200, 300, 200, 100, 0}\n",
    "* Highest element: 300"
   ]
  },
  {
   "cell_type": "code",
   "execution_count": 21,
   "metadata": {},
   "outputs": [
    {
     "data": {
      "text/plain": [
       "[0, 0, 0, 0, 0]"
      ]
     },
     "execution_count": 21,
     "metadata": {},
     "output_type": "execute_result"
    }
   ],
   "source": [
    "n=5\n",
    "arr = [0 for i in range(n)]\n",
    "arr"
   ]
  },
  {
   "cell_type": "code",
   "execution_count": 22,
   "metadata": {},
   "outputs": [],
   "source": [
    "m=3\n",
    "a=2\n",
    "b=4\n",
    "def prefixSum(m,)\n",
    "for i in range(m):\n",
    "    while a<=b:\n",
    "        arr[a-1] = arr[a-1] + 100\n",
    "        a+=1"
   ]
  },
  {
   "cell_type": "code",
   "execution_count": 23,
   "metadata": {},
   "outputs": [
    {
     "data": {
      "text/plain": [
       "[0, 100, 100, 100, 0]"
      ]
     },
     "execution_count": 23,
     "metadata": {},
     "output_type": "execute_result"
    }
   ],
   "source": [
    "arr"
   ]
  },
  {
   "cell_type": "code",
   "execution_count": null,
   "metadata": {},
   "outputs": [],
   "source": []
  }
 ],
 "metadata": {
  "kernelspec": {
   "display_name": "Python 3.8.8 ('base')",
   "language": "python",
   "name": "python3"
  },
  "language_info": {
   "codemirror_mode": {
    "name": "ipython",
    "version": 3
   },
   "file_extension": ".py",
   "mimetype": "text/x-python",
   "name": "python",
   "nbconvert_exporter": "python",
   "pygments_lexer": "ipython3",
   "version": "3.8.8"
  },
  "orig_nbformat": 4,
  "vscode": {
   "interpreter": {
    "hash": "0d36738efb02b46f2291bc18f32076806b70360f2bce5d987cd2b90be755e1b9"
   }
  }
 },
 "nbformat": 4,
 "nbformat_minor": 2
}
