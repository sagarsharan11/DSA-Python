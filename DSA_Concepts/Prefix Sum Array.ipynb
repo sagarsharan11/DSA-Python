{
 "cells": [
  {
   "cell_type": "markdown",
   "metadata": {},
   "source": [
    "* Given an array arr[] of size N | Find the prefix sum of the array?? \n",
    "* A prefix sum array is another array prefixSum[] of the same size\n",
    "* The value of prefixSum[i] = arr[0] + arr[1] + arr[2] . . . arr[i]"
   ]
  },
  {
   "cell_type": "markdown",
   "metadata": {},
   "source": [
    "example:\n",
    "> * arr = [10,20,10,5,15]\n",
    "> * prefixSum = [10,30,40,45,60]\n",
    "> * prefixSum[0] = arr[0] | prefixSum[1] = arr[0] + arr[1] | prefixSum[2] = arr[0] + arr[1] + arr[2]"
   ]
  },
  {
   "cell_type": "code",
   "execution_count": null,
   "metadata": {},
   "outputs": [],
   "source": [
    "def fillPrefixSum(arr, prefixSum):\n",
    "\tprefixSum[0] = arr[0]\n",
    "\tfor i in range(1, len(arr)):\n",
    "\t\tprefixSum[i] = prefixSum[i - 1] + arr[i]"
   ]
  },
  {
   "cell_type": "code",
   "execution_count": null,
   "metadata": {},
   "outputs": [],
   "source": [
    "arr = [10, 4, 16, 20]\n",
    "n = len(arr)\n",
    "\n",
    "prefixSum = [0 for i in range(n + 1)]\n",
    "\n",
    "fillPrefixSum(arr, n, prefixSum)\n",
    "\n",
    "for i in range(n):\n",
    "\tprint(prefixSum[i], \" \", end=\"\")"
   ]
  }
 ],
 "metadata": {
  "kernelspec": {
   "display_name": "Python 3.8.10 64-bit",
   "language": "python",
   "name": "python3"
  },
  "language_info": {
   "name": "python",
   "version": "3.8.10"
  },
  "orig_nbformat": 4,
  "vscode": {
   "interpreter": {
    "hash": "174c691f20d5bbc3c33d7f69d02f6ddc1f58a00e2c250c3aa7d76695dc44d3db"
   }
  }
 },
 "nbformat": 4,
 "nbformat_minor": 2
}
